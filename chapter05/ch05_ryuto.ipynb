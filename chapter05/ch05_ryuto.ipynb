{
 "cells": [
  {
   "cell_type": "markdown",
   "metadata": {},
   "source": [
    "# Classとは"
   ]
  },
  {
   "cell_type": "markdown",
   "metadata": {},
   "source": [
    "### memo"
   ]
  },
  {
   "cell_type": "code",
   "execution_count": 1,
   "metadata": {},
   "outputs": [],
   "source": [
    "# import datetime\n",
    "# datetime.date(2011, 7, 24)"
   ]
  },
  {
   "cell_type": "markdown",
   "metadata": {},
   "source": [
    "- データ型専用の関数の名前を覚える手間が少し省けて便利\n",
    "- ポリモーフィズム"
   ]
  },
  {
   "cell_type": "code",
   "execution_count": 2,
   "metadata": {},
   "outputs": [],
   "source": [
    "# __slots__ = ('r','j')\n",
    "# メモリが節約され少し早くなる"
   ]
  },
  {
   "cell_type": "code",
   "execution_count": 3,
   "metadata": {},
   "outputs": [],
   "source": [
    "# namedtuple()\n",
    "# 変更不能なインスタンスを持つクラスと同じ"
   ]
  },
  {
   "cell_type": "markdown",
   "metadata": {},
   "source": [
    "- is a関係の時にクラスを使うと便利\n",
    "- forの3重ループ...などを避けられる"
   ]
  },
  {
   "cell_type": "markdown",
   "metadata": {},
   "source": [
    "# 第5章: 係り受け解析\n",
    "\n",
    "夏目漱石の小説『吾輩は猫である』の文章（neko.txt）をCaboChaを使って係り受け解析し，その結果をneko.txt.cabochaというファイルに保存せよ．このファイルを用いて，以下の問に対応するプログラムを実装せよ．"
   ]
  },
  {
   "cell_type": "code",
   "execution_count": 4,
   "metadata": {},
   "outputs": [],
   "source": [
    "# !cabocha -f1 data/neko.txt > data/neko.txt.cabocha"
   ]
  },
  {
   "cell_type": "code",
   "execution_count": 5,
   "metadata": {},
   "outputs": [],
   "source": [
    "infile_path = \"data/neko.txt.cabocha\""
   ]
  },
  {
   "cell_type": "code",
   "execution_count": 6,
   "metadata": {},
   "outputs": [
    {
     "name": "stdout",
     "output_type": "stream",
     "text": [
      "* 0 -1D 0/0 0.000000\n",
      "一\t名詞,数,*,*,*,*,一,イチ,イチ\n",
      "EOS\n",
      "EOS\n",
      "* 0 2D 0/0 -0.764522\n",
      "　\t記号,空白,*,*,*,*,　,　,　\n",
      "* 1 2D 0/1 -0.764522\n",
      "吾輩\t名詞,代名詞,一般,*,*,*,吾輩,ワガハイ,ワガハイ\n",
      "は\t助詞,係助詞,*,*,*,*,は,ハ,ワ\n",
      "* 2 -1D 0/2 0.000000\n",
      ".\n",
      ".\n",
      ".\n",
      "\n",
      "南無阿弥陀仏\t名詞,一般,*,*,*,*,南無阿弥陀仏,ナムアミダブツ,ナムアミダブツ\n",
      "。\t記号,句点,*,*,*,*,。,。,。\n",
      "EOS\n",
      "* 0 1D 0/0 0.000000\n",
      "ありがたい\t形容詞,自立,*,*,形容詞・アウオ段,基本形,ありがたい,アリガタイ,アリガタイ\n",
      "* 1 -1D 0/0 0.000000\n",
      "ありがたい\t形容詞,自立,*,*,形容詞・アウオ段,基本形,ありがたい,アリガタイ,アリガタイ\n",
      "。\t記号,句点,*,*,*,*,。,。,。\n",
      "EOS\n",
      "EOS\n"
     ]
    }
   ],
   "source": [
    "!head $infile_path\n",
    "!echo '.\\n.\\n.\\n'\n",
    "!tail $infile_path"
   ]
  },
  {
   "cell_type": "markdown",
   "metadata": {},
   "source": [
    "# 40. 係り受け解析結果の読み込み（形態素）\n",
    "\n",
    "形態素を表すクラスMorphを実装せよ．このクラスは表層形（surface），基本形（base），品詞（pos），品詞細分類1（pos1）をメンバ変数に持つこととする．さらに，CaboChaの解析結果（neko.txt.cabocha）を読み込み，各文をMorphオブジェクトのリストとして表現し，3文目の形態素列を表示せよ．"
   ]
  },
  {
   "cell_type": "markdown",
   "metadata": {},
   "source": [
    "## Class : Morph"
   ]
  },
  {
   "cell_type": "code",
   "execution_count": 7,
   "metadata": {},
   "outputs": [],
   "source": [
    "class Morph:\n",
    "    \"\"\"形態素のクラス。 表層形、基本形、品詞、品詞細分類1をメンバに持つ。\"\"\"\n",
    "    __slots__ = ('surface','base','pos','pos1')\n",
    "    def __init__(self, surface, base, pos, pos1):\n",
    "        self.surface = surface\n",
    "        self.base = base\n",
    "        self.pos = pos\n",
    "        self.pos1 = pos1        \n",
    "    def __str__(self):\n",
    "        return f'{self.surface}'\n",
    "    def __repr__(self):\n",
    "        return f'Morph <surface:{self.surface} base:{self.base} pos:{self.pos} pos1:{self.pos1}>'"
   ]
  },
  {
   "cell_type": "code",
   "execution_count": 8,
   "metadata": {},
   "outputs": [
    {
     "data": {
      "text/plain": [
       "\u001b[0;31mInit signature:\u001b[0m \u001b[0mMorph\u001b[0m\u001b[0;34m(\u001b[0m\u001b[0msurface\u001b[0m\u001b[0;34m,\u001b[0m \u001b[0mbase\u001b[0m\u001b[0;34m,\u001b[0m \u001b[0mpos\u001b[0m\u001b[0;34m,\u001b[0m \u001b[0mpos1\u001b[0m\u001b[0;34m)\u001b[0m\u001b[0;34m\u001b[0m\u001b[0m\n",
       "\u001b[0;31mDocstring:\u001b[0m      形態素のクラス。 表層形、基本形、品詞、品詞細分類1をメンバに持つ。\n",
       "\u001b[0;31mType:\u001b[0m           type\n"
      ]
     },
     "metadata": {},
     "output_type": "display_data"
    }
   ],
   "source": [
    "Morph?"
   ]
  },
  {
   "cell_type": "markdown",
   "metadata": {},
   "source": [
    "#### CaboChaの解析結果（neko.txt.cabocha）を読み込み，各文をMorphオブジェクトのリストとして表現"
   ]
  },
  {
   "cell_type": "code",
   "execution_count": 9,
   "metadata": {},
   "outputs": [],
   "source": [
    "import itertools\n",
    "from pprint import pprint"
   ]
  },
  {
   "cell_type": "code",
   "execution_count": 10,
   "metadata": {},
   "outputs": [],
   "source": [
    "def get_morph(line):\n",
    "    val = line.replace('\\t',',',1).split(',')\n",
    "    return Morph(val[0],val[-3],val[1],val[2])\n",
    "\n",
    "def get_morph_list(group):\n",
    "    return [get_morph(line) for line in group if not line.startswith('* ')]\n",
    "\n",
    "def read_morph_cabocha(file):\n",
    "    for value,group in itertools.groupby(file,key=lambda line: line!='EOS\\n'):\n",
    "        if value: yield get_morph_list(group)"
   ]
  },
  {
   "cell_type": "code",
   "execution_count": 11,
   "metadata": {},
   "outputs": [
    {
     "name": "stdout",
     "output_type": "stream",
     "text": [
      "[Morph <surface:名前 base:名前 pos:名詞 pos1:一般>,\n",
      " Morph <surface:は base:は pos:助詞 pos1:係助詞>,\n",
      " Morph <surface:まだ base:まだ pos:副詞 pos1:助詞類接続>,\n",
      " Morph <surface:無い base:無い pos:形容詞 pos1:自立>,\n",
      " Morph <surface:。 base:。 pos:記号 pos1:句点>]\n"
     ]
    }
   ],
   "source": [
    "with open(infile_path) as f:\n",
    "    for ls in itertools.islice(read_morph_cabocha(f),2,3):\n",
    "        pprint(ls)"
   ]
  },
  {
   "cell_type": "markdown",
   "metadata": {},
   "source": [
    "### memo"
   ]
  },
  {
   "cell_type": "code",
   "execution_count": 12,
   "metadata": {},
   "outputs": [],
   "source": [
    "# @classmethod (以下、クラスメソッドである。インスタンス化しなくても使える、というお気持ち)"
   ]
  },
  {
   "cell_type": "code",
   "execution_count": 13,
   "metadata": {},
   "outputs": [],
   "source": [
    "# from cytoolz import nth\n",
    "# from moreitertoolz import nth\n",
    "# 特定の要素を取り出す時に使う"
   ]
  },
  {
   "cell_type": "markdown",
   "metadata": {},
   "source": [
    "- __str__ : 見やすいように\n",
    "- __repr__ : 開発者がデバックしやすいものを返す\n",
    "- list型だとreprで返ってくる\n",
    "- クラスの変数の頭に\"__\"をつけると外からアクセスできなくなる(絶対ではない)"
   ]
  },
  {
   "cell_type": "markdown",
   "metadata": {},
   "source": [
    "# 41. 係り受け解析結果の読み込み（文節・係り受け）\n",
    "\n",
    "40に加えて，文節を表すクラスChunkを実装せよ．このクラスは形態素（Morphオブジェクト）のリスト（morphs），係り先文節インデックス番号（dst），係り元文節インデックス番号のリスト（srcs）をメンバ変数に持つこととする．さらに，入力テキストのCaboChaの解析結果を読み込み，１文をChunkオブジェクトのリストとして表現し，8文目の文節の文字列と係り先を表示せよ．第5章の残りの問題では，ここで作ったプログラムを活用せよ．"
   ]
  },
  {
   "cell_type": "markdown",
   "metadata": {},
   "source": [
    "## Class : Chunk"
   ]
  },
  {
   "cell_type": "code",
   "execution_count": 14,
   "metadata": {},
   "outputs": [],
   "source": [
    "class Chunk:\n",
    "    \"\"\"文節を表すクラス。形態素のリスト(morphs)、係り先(dst)、係り元のリスト(srcs)をメンバにもつ。\"\"\"\n",
    "    __slots__ = ['morphs', 'dst', 'srcs']\n",
    "    def __init__(self,morphs,dst,srcs):\n",
    "        self.morphs = morphs\n",
    "        self.dst = dst\n",
    "        self.srcs = srcs\n",
    "    \n",
    "    def __repr__(self):\n",
    "        return f\"Chunk <morphs:{[morph.surface for morph in self.morphs]} dst:{self.dst} srcs:{self.srcs}>\"\n",
    "    \n",
    "    \n",
    "    def phrase(self): #句読点等を消して,文節を出力\n",
    "        return ''.join(morph.surface for morph in self.morphs if morph.pos != '記号')\n",
    "    \n",
    "    def surf(self): #句読点等を消さずに文節を出力\n",
    "        return ''.join(morph.surface for morph in self.morphs)\n",
    "        \n",
    "    def contain_pos(self,pos): #目当ての品詞が文節にあるか判定\n",
    "        for morph in self.morphs:\n",
    "            if morph.pos == pos: return True\n",
    "        return False\n",
    "    \n",
    "    def get_pos(self,pos): #目当ての品詞のmorphリストを返す\n",
    "        return [morph.base for morph in self.morphs if morph.pos == pos]"
   ]
  },
  {
   "cell_type": "code",
   "execution_count": 15,
   "metadata": {},
   "outputs": [
    {
     "data": {
      "text/plain": [
       "\u001b[0;31mInit signature:\u001b[0m \u001b[0mChunk\u001b[0m\u001b[0;34m(\u001b[0m\u001b[0mmorphs\u001b[0m\u001b[0;34m,\u001b[0m \u001b[0mdst\u001b[0m\u001b[0;34m,\u001b[0m \u001b[0msrcs\u001b[0m\u001b[0;34m)\u001b[0m\u001b[0;34m\u001b[0m\u001b[0m\n",
       "\u001b[0;31mDocstring:\u001b[0m      文節を表すクラス。形態素のリスト(morphs)、係り先(dst)、係り元のリスト(srcs)をメンバにもつ。\n",
       "\u001b[0;31mType:\u001b[0m           type\n"
      ]
     },
     "metadata": {},
     "output_type": "display_data"
    }
   ],
   "source": [
    "Chunk?"
   ]
  },
  {
   "cell_type": "markdown",
   "metadata": {},
   "source": [
    "#### CaboChaの解析結果を読み込み，１文をChunkオブジェクトのリストとして表現"
   ]
  },
  {
   "cell_type": "code",
   "execution_count": 16,
   "metadata": {},
   "outputs": [],
   "source": [
    "def get_dst(sent):\n",
    "    for it in sent:\n",
    "        return int(it.split()[2].strip('D'))\n",
    "\n",
    "def get_srcs(dst_ls):\n",
    "    for i,val in enumerate(dst_ls):\n",
    "        yield [j for j,val2 in enumerate(dst_ls) if i==val2]\n",
    "        \n",
    "def get_chunk(group):\n",
    "    dst_ls, morphs_ls = [],[]\n",
    "    for value,sent in itertools.groupby(group,key=lambda line:line.startswith('*')):\n",
    "        if value:\n",
    "            dst_ls.append(get_dst(sent))\n",
    "        else:\n",
    "            morphs_ls.append(get_morph_list(sent))\n",
    "            \n",
    "    for morphs,dst,srcs in zip(morphs_ls, dst_ls, get_srcs(dst_ls)):\n",
    "        yield Chunk(morphs,dst,srcs)"
   ]
  },
  {
   "cell_type": "code",
   "execution_count": 17,
   "metadata": {},
   "outputs": [],
   "source": [
    "def read_chunk_cabocha(file):\n",
    "    for value,group in itertools.groupby(file,key=lambda line:line!='EOS\\n'):\n",
    "        if value: \n",
    "            yield [chunk for chunk in get_chunk(group)]"
   ]
  },
  {
   "cell_type": "markdown",
   "metadata": {},
   "source": [
    "#### check"
   ]
  },
  {
   "cell_type": "code",
   "execution_count": 18,
   "metadata": {},
   "outputs": [
    {
     "name": "stdout",
     "output_type": "stream",
     "text": [
      "[Chunk <morphs:['この'] dst:1 srcs:[]>,\n",
      " Chunk <morphs:['書生', 'という', 'の', 'は'] dst:7 srcs:[0]>,\n",
      " Chunk <morphs:['時々'] dst:4 srcs:[]>,\n",
      " Chunk <morphs:['我々', 'を'] dst:4 srcs:[]>,\n",
      " Chunk <morphs:['捕え', 'て'] dst:5 srcs:[2, 3]>,\n",
      " Chunk <morphs:['煮', 'て'] dst:6 srcs:[4]>,\n",
      " Chunk <morphs:['食う', 'という'] dst:7 srcs:[5]>,\n",
      " Chunk <morphs:['話', 'で', 'ある', '。'] dst:-1 srcs:[1, 6]>]\n"
     ]
    }
   ],
   "source": [
    "with open(infile_path) as f:\n",
    "    for ls in itertools.islice(read_chunk_cabocha(f),7,8):\n",
    "        pprint(ls)"
   ]
  },
  {
   "cell_type": "markdown",
   "metadata": {},
   "source": [
    "#### 8文目の文節の文字列と係り先を表示"
   ]
  },
  {
   "cell_type": "code",
   "execution_count": 19,
   "metadata": {},
   "outputs": [
    {
     "name": "stdout",
     "output_type": "stream",
     "text": [
      "この \t 1\n",
      "書生というのは \t 7\n",
      "時々 \t 4\n",
      "我々を \t 4\n",
      "捕えて \t 5\n",
      "煮て \t 6\n",
      "食うという \t 7\n",
      "話である \t -1\n"
     ]
    }
   ],
   "source": [
    "with open(infile_path) as f:\n",
    "    for ls in itertools.islice(read_chunk_cabocha(f),7,8):\n",
    "        for chunk in ls:\n",
    "                print(chunk.phrase(),'\\t',chunk.dst)"
   ]
  },
  {
   "cell_type": "markdown",
   "metadata": {},
   "source": [
    "# 42. 係り元と係り先の文節の表示\n",
    "\n",
    "係り元の文節と係り先の文節のテキストをタブ区切り形式ですべて抽出せよ．ただし，句読点などの記号は出力しないようにせよ．"
   ]
  },
  {
   "cell_type": "markdown",
   "metadata": {},
   "source": [
    "#### 8文目"
   ]
  },
  {
   "cell_type": "code",
   "execution_count": 20,
   "metadata": {},
   "outputs": [
    {
     "name": "stdout",
     "output_type": "stream",
     "text": [
      "この \t 書生というのは\n",
      "書生というのは \t 話である\n",
      "時々 \t 捕えて\n",
      "我々を \t 捕えて\n",
      "捕えて \t 煮て\n",
      "煮て \t 食うという\n",
      "食うという \t 話である\n"
     ]
    }
   ],
   "source": [
    "with open(infile_path) as f:\n",
    "    for ls in itertools.islice(read_chunk_cabocha(f),7,8):\n",
    "        for chunk in ls:\n",
    "            if chunk.dst != -1:\n",
    "                print(chunk.phrase(),'\\t',ls[chunk.dst].phrase())"
   ]
  },
  {
   "cell_type": "markdown",
   "metadata": {},
   "source": [
    "# 43. 名詞を含む文節が動詞を含む文節に係るものを抽出\n",
    "\n",
    "名詞を含む文節が，動詞を含む文節に係るとき，これらをタブ区切り形式で抽出せよ．ただし，句読点などの記号は出力しないようにせよ．"
   ]
  },
  {
   "cell_type": "code",
   "execution_count": 21,
   "metadata": {},
   "outputs": [
    {
     "name": "stdout",
     "output_type": "stream",
     "text": [
      "我々を \t 捕えて\n"
     ]
    }
   ],
   "source": [
    "with open(infile_path) as f:\n",
    "    for ls in itertools.islice(read_chunk_cabocha(f),7,8):\n",
    "        for from_chunk in ls:\n",
    "            if from_chunk.dst != -1:\n",
    "                to_chunk = ls[from_chunk.dst]\n",
    "                if from_chunk.contain_pos('名詞') and to_chunk.contain_pos('動詞'):\n",
    "                    print(from_chunk.phrase(),'\\t',to_chunk.phrase())"
   ]
  },
  {
   "cell_type": "markdown",
   "metadata": {},
   "source": [
    "# 44. 係り受け木の可視化\n",
    "\n",
    "与えられた文の係り受け木を有向グラフとして可視化せよ．可視化には，係り受け木をDOT言語に変換し，Graphvizを用いるとよい．また，Pythonから有向グラフを直接的に可視化するには，pydotを使うとよい．"
   ]
  },
  {
   "cell_type": "code",
   "execution_count": 22,
   "metadata": {},
   "outputs": [],
   "source": [
    "from graphviz import Digraph"
   ]
  },
  {
   "cell_type": "code",
   "execution_count": 23,
   "metadata": {},
   "outputs": [
    {
     "data": {
      "image/svg+xml": [
       "<?xml version=\"1.0\" encoding=\"UTF-8\" standalone=\"no\"?>\n",
       "<!DOCTYPE svg PUBLIC \"-//W3C//DTD SVG 1.1//EN\"\n",
       " \"http://www.w3.org/Graphics/SVG/1.1/DTD/svg11.dtd\">\n",
       "<!-- Generated by graphviz version 2.40.1 (20161225.0304)\n",
       " -->\n",
       "<!-- Title: %3 Pages: 1 -->\n",
       "<svg width=\"210pt\" height=\"357pt\"\n",
       " viewBox=\"0.00 0.00 209.82 357.06\" xmlns=\"http://www.w3.org/2000/svg\" xmlns:xlink=\"http://www.w3.org/1999/xlink\">\n",
       "<g id=\"graph0\" class=\"graph\" transform=\"scale(1 1) rotate(0) translate(4 353.0613)\">\n",
       "<title>%3</title>\n",
       "<polygon fill=\"#ffffff\" stroke=\"transparent\" points=\"-4,4 -4,-353.0613 205.8234,-353.0613 205.8234,4 -4,4\"/>\n",
       "<!-- 吾輩は -->\n",
       "<g id=\"node1\" class=\"node\">\n",
       "<title>吾輩は</title>\n",
       "<ellipse fill=\"none\" stroke=\"#000000\" cx=\"41.0122\" cy=\"-97.5184\" rx=\"41.0244\" ry=\"20.5123\"/>\n",
       "<text text-anchor=\"middle\" x=\"41.0122\" y=\"-96.8184\" font-family=\"Times,serif\" font-size=\"14.00\" fill=\"#000000\">吾輩は</text>\n",
       "</g>\n",
       "<!-- 見た -->\n",
       "<g id=\"node2\" class=\"node\">\n",
       "<title>見た</title>\n",
       "<ellipse fill=\"none\" stroke=\"#000000\" cx=\"91.0122\" cy=\"-20.5061\" rx=\"31.2258\" ry=\"20.5123\"/>\n",
       "<text text-anchor=\"middle\" x=\"91.0122\" y=\"-19.8061\" font-family=\"Times,serif\" font-size=\"14.00\" fill=\"#000000\">見た</text>\n",
       "</g>\n",
       "<!-- 吾輩は&#45;&gt;見た -->\n",
       "<g id=\"edge1\" class=\"edge\">\n",
       "<title>吾輩は&#45;&gt;見た</title>\n",
       "<path fill=\"none\" stroke=\"#000000\" d=\"M53.8884,-77.6858C59.7369,-68.6778 66.7533,-57.8707 73.1041,-48.0889\"/>\n",
       "<polygon fill=\"#000000\" stroke=\"#000000\" points=\"76.1868,-49.7682 78.6967,-39.4749 70.3157,-45.9563 76.1868,-49.7682\"/>\n",
       "</g>\n",
       "<!-- ここで -->\n",
       "<g id=\"node3\" class=\"node\">\n",
       "<title>ここで</title>\n",
       "<ellipse fill=\"none\" stroke=\"#000000\" cx=\"141.0122\" cy=\"-328.5551\" rx=\"41.0244\" ry=\"20.5123\"/>\n",
       "<text text-anchor=\"middle\" x=\"141.0122\" y=\"-327.8552\" font-family=\"Times,serif\" font-size=\"14.00\" fill=\"#000000\">ここで</text>\n",
       "</g>\n",
       "<!-- 始めて -->\n",
       "<g id=\"node4\" class=\"node\">\n",
       "<title>始めて</title>\n",
       "<ellipse fill=\"none\" stroke=\"#000000\" cx=\"141.0122\" cy=\"-251.5429\" rx=\"40.9316\" ry=\"20.5123\"/>\n",
       "<text text-anchor=\"middle\" x=\"141.0122\" y=\"-250.8429\" font-family=\"Times,serif\" font-size=\"14.00\" fill=\"#000000\">始めて</text>\n",
       "</g>\n",
       "<!-- ここで&#45;&gt;始めて -->\n",
       "<g id=\"edge2\" class=\"edge\">\n",
       "<title>ここで&#45;&gt;始めて</title>\n",
       "<path fill=\"none\" stroke=\"#000000\" d=\"M141.0122,-307.9173C141.0122,-300.0617 141.0122,-290.9314 141.0122,-282.3357\"/>\n",
       "<polygon fill=\"#000000\" stroke=\"#000000\" points=\"144.5123,-282.2377 141.0122,-272.2377 137.5123,-282.2378 144.5123,-282.2377\"/>\n",
       "</g>\n",
       "<!-- 人間という -->\n",
       "<g id=\"node5\" class=\"node\">\n",
       "<title>人間という</title>\n",
       "<ellipse fill=\"none\" stroke=\"#000000\" cx=\"141.0122\" cy=\"-174.5306\" rx=\"60.623\" ry=\"20.5123\"/>\n",
       "<text text-anchor=\"middle\" x=\"141.0122\" y=\"-173.8307\" font-family=\"Times,serif\" font-size=\"14.00\" fill=\"#000000\">人間という</text>\n",
       "</g>\n",
       "<!-- 始めて&#45;&gt;人間という -->\n",
       "<g id=\"edge3\" class=\"edge\">\n",
       "<title>始めて&#45;&gt;人間という</title>\n",
       "<path fill=\"none\" stroke=\"#000000\" d=\"M141.0122,-230.905C141.0122,-223.0495 141.0122,-213.9191 141.0122,-205.3235\"/>\n",
       "<polygon fill=\"#000000\" stroke=\"#000000\" points=\"144.5123,-205.2254 141.0122,-195.2255 137.5123,-205.2255 144.5123,-205.2254\"/>\n",
       "</g>\n",
       "<!-- ものを -->\n",
       "<g id=\"node6\" class=\"node\">\n",
       "<title>ものを</title>\n",
       "<ellipse fill=\"none\" stroke=\"#000000\" cx=\"141.0122\" cy=\"-97.5184\" rx=\"41.0244\" ry=\"20.5123\"/>\n",
       "<text text-anchor=\"middle\" x=\"141.0122\" y=\"-96.8184\" font-family=\"Times,serif\" font-size=\"14.00\" fill=\"#000000\">ものを</text>\n",
       "</g>\n",
       "<!-- 人間という&#45;&gt;ものを -->\n",
       "<g id=\"edge4\" class=\"edge\">\n",
       "<title>人間という&#45;&gt;ものを</title>\n",
       "<path fill=\"none\" stroke=\"#000000\" d=\"M141.0122,-153.8928C141.0122,-146.0372 141.0122,-136.9069 141.0122,-128.3112\"/>\n",
       "<polygon fill=\"#000000\" stroke=\"#000000\" points=\"144.5123,-128.2132 141.0122,-118.2132 137.5123,-128.2133 144.5123,-128.2132\"/>\n",
       "</g>\n",
       "<!-- ものを&#45;&gt;見た -->\n",
       "<g id=\"edge5\" class=\"edge\">\n",
       "<title>ものを&#45;&gt;見た</title>\n",
       "<path fill=\"none\" stroke=\"#000000\" d=\"M128.136,-77.6858C122.2875,-68.6778 115.271,-57.8707 108.9203,-48.0889\"/>\n",
       "<polygon fill=\"#000000\" stroke=\"#000000\" points=\"111.7087,-45.9563 103.3276,-39.4749 105.8376,-49.7682 111.7087,-45.9563\"/>\n",
       "</g>\n",
       "</g>\n",
       "</svg>\n"
      ],
      "text/plain": [
       "<graphviz.dot.Digraph at 0x10e4feb38>"
      ]
     },
     "execution_count": 23,
     "metadata": {},
     "output_type": "execute_result"
    }
   ],
   "source": [
    "G = Digraph(format='png')\n",
    "with open(infile_path) as f:\n",
    "    for ls in itertools.islice(read_chunk_cabocha(f),5,6):\n",
    "        for chunk in ls:\n",
    "            G.node(chunk.phrase())\n",
    "            if chunk.dst != -1:\n",
    "                G.edge(chunk.phrase(),ls[chunk.dst].phrase())\n",
    "G"
   ]
  },
  {
   "cell_type": "markdown",
   "metadata": {},
   "source": [
    "## 重複回避"
   ]
  },
  {
   "cell_type": "code",
   "execution_count": 24,
   "metadata": {},
   "outputs": [],
   "source": [
    "def numbering(i,phrase):\n",
    "    return str(i)+'.'+phrase"
   ]
  },
  {
   "cell_type": "code",
   "execution_count": 25,
   "metadata": {},
   "outputs": [
    {
     "data": {
      "image/svg+xml": [
       "<?xml version=\"1.0\" encoding=\"UTF-8\" standalone=\"no\"?>\n",
       "<!DOCTYPE svg PUBLIC \"-//W3C//DTD SVG 1.1//EN\"\n",
       " \"http://www.w3.org/Graphics/SVG/1.1/DTD/svg11.dtd\">\n",
       "<!-- Generated by graphviz version 2.40.1 (20161225.0304)\n",
       " -->\n",
       "<!-- Title: %3 Pages: 1 -->\n",
       "<svg width=\"240pt\" height=\"370pt\"\n",
       " viewBox=\"0.00 0.00 239.67 369.93\" xmlns=\"http://www.w3.org/2000/svg\" xmlns:xlink=\"http://www.w3.org/1999/xlink\">\n",
       "<g id=\"graph0\" class=\"graph\" transform=\"scale(1 1) rotate(0) translate(4 365.9306)\">\n",
       "<title>%3</title>\n",
       "<polygon fill=\"#ffffff\" stroke=\"transparent\" points=\"-4,4 -4,-365.9306 235.6726,-365.9306 235.6726,4 -4,4\"/>\n",
       "<!-- 0.吾輩は -->\n",
       "<g id=\"node1\" class=\"node\">\n",
       "<title>0.吾輩は</title>\n",
       "<ellipse fill=\"none\" stroke=\"#000000\" cx=\"48.4368\" cy=\"-101.3792\" rx=\"48.3737\" ry=\"21.5881\"/>\n",
       "<text text-anchor=\"middle\" x=\"48.4368\" y=\"-101.5892\" font-family=\"Times,serif\" font-size=\"14.00\" fill=\"#000000\">0.吾輩は</text>\n",
       "</g>\n",
       "<!-- 5.見た -->\n",
       "<g id=\"node2\" class=\"node\">\n",
       "<title>5.見た</title>\n",
       "<ellipse fill=\"none\" stroke=\"#000000\" cx=\"105.4368\" cy=\"-21.7931\" rx=\"38.5747\" ry=\"21.5881\"/>\n",
       "<text text-anchor=\"middle\" x=\"105.4368\" y=\"-22.0031\" font-family=\"Times,serif\" font-size=\"14.00\" fill=\"#000000\">5.見た</text>\n",
       "</g>\n",
       "<!-- 0.吾輩は&#45;&gt;5.見た -->\n",
       "<g id=\"edge1\" class=\"edge\">\n",
       "<title>0.吾輩は&#45;&gt;5.見た</title>\n",
       "<path fill=\"none\" stroke=\"#000000\" d=\"M63.4129,-80.4689C69.9949,-71.2788 77.8296,-60.3395 84.9409,-50.4104\"/>\n",
       "<polygon fill=\"#000000\" stroke=\"#000000\" points=\"87.977,-52.1822 90.9543,-42.0143 82.286,-48.1063 87.977,-52.1822\"/>\n",
       "</g>\n",
       "<!-- 1.ここで -->\n",
       "<g id=\"node3\" class=\"node\">\n",
       "<title>1.ここで</title>\n",
       "<ellipse fill=\"none\" stroke=\"#000000\" cx=\"163.4368\" cy=\"-340.1375\" rx=\"48.3737\" ry=\"21.5881\"/>\n",
       "<text text-anchor=\"middle\" x=\"163.4368\" y=\"-340.3475\" font-family=\"Times,serif\" font-size=\"14.00\" fill=\"#000000\">1.ここで</text>\n",
       "</g>\n",
       "<!-- 2.始めて -->\n",
       "<g id=\"node4\" class=\"node\">\n",
       "<title>2.始めて</title>\n",
       "<ellipse fill=\"none\" stroke=\"#000000\" cx=\"163.4368\" cy=\"-260.5514\" rx=\"48.2801\" ry=\"21.5881\"/>\n",
       "<text text-anchor=\"middle\" x=\"163.4368\" y=\"-260.7614\" font-family=\"Times,serif\" font-size=\"14.00\" fill=\"#000000\">2.始めて</text>\n",
       "</g>\n",
       "<!-- 1.ここで&#45;&gt;2.始めて -->\n",
       "<g id=\"edge2\" class=\"edge\">\n",
       "<title>1.ここで&#45;&gt;2.始めて</title>\n",
       "<path fill=\"none\" stroke=\"#000000\" d=\"M163.4368,-317.9684C163.4368,-310.1206 163.4368,-301.1269 163.4368,-292.6225\"/>\n",
       "<polygon fill=\"#000000\" stroke=\"#000000\" points=\"166.9369,-292.6017 163.4368,-282.6017 159.9369,-292.6017 166.9369,-292.6017\"/>\n",
       "</g>\n",
       "<!-- 3.人間という -->\n",
       "<g id=\"node5\" class=\"node\">\n",
       "<title>3.人間という</title>\n",
       "<ellipse fill=\"none\" stroke=\"#000000\" cx=\"163.4368\" cy=\"-180.9653\" rx=\"68.4724\" ry=\"21.5881\"/>\n",
       "<text text-anchor=\"middle\" x=\"163.4368\" y=\"-181.1753\" font-family=\"Times,serif\" font-size=\"14.00\" fill=\"#000000\">3.人間という</text>\n",
       "</g>\n",
       "<!-- 2.始めて&#45;&gt;3.人間という -->\n",
       "<g id=\"edge3\" class=\"edge\">\n",
       "<title>2.始めて&#45;&gt;3.人間という</title>\n",
       "<path fill=\"none\" stroke=\"#000000\" d=\"M163.4368,-238.3822C163.4368,-230.5345 163.4368,-221.5408 163.4368,-213.0364\"/>\n",
       "<polygon fill=\"#000000\" stroke=\"#000000\" points=\"166.9369,-213.0155 163.4368,-203.0156 159.9369,-213.0156 166.9369,-213.0155\"/>\n",
       "</g>\n",
       "<!-- 4.ものを -->\n",
       "<g id=\"node6\" class=\"node\">\n",
       "<title>4.ものを</title>\n",
       "<ellipse fill=\"none\" stroke=\"#000000\" cx=\"163.4368\" cy=\"-101.3792\" rx=\"48.3737\" ry=\"21.5881\"/>\n",
       "<text text-anchor=\"middle\" x=\"163.4368\" y=\"-101.5892\" font-family=\"Times,serif\" font-size=\"14.00\" fill=\"#000000\">4.ものを</text>\n",
       "</g>\n",
       "<!-- 3.人間という&#45;&gt;4.ものを -->\n",
       "<g id=\"edge4\" class=\"edge\">\n",
       "<title>3.人間という&#45;&gt;4.ものを</title>\n",
       "<path fill=\"none\" stroke=\"#000000\" d=\"M163.4368,-158.7961C163.4368,-150.9484 163.4368,-141.9547 163.4368,-133.4503\"/>\n",
       "<polygon fill=\"#000000\" stroke=\"#000000\" points=\"166.9369,-133.4294 163.4368,-123.4295 159.9369,-133.4295 166.9369,-133.4294\"/>\n",
       "</g>\n",
       "<!-- 4.ものを&#45;&gt;5.見た -->\n",
       "<g id=\"edge5\" class=\"edge\">\n",
       "<title>4.ものを&#45;&gt;5.見た</title>\n",
       "<path fill=\"none\" stroke=\"#000000\" d=\"M148.198,-80.4689C141.4329,-71.186 133.3671,-60.1183 126.0733,-50.1099\"/>\n",
       "<polygon fill=\"#000000\" stroke=\"#000000\" points=\"128.8917,-48.0345 120.1734,-42.0143 123.2345,-52.1573 128.8917,-48.0345\"/>\n",
       "</g>\n",
       "</g>\n",
       "</svg>\n"
      ],
      "text/plain": [
       "<graphviz.dot.Digraph at 0x10e51a668>"
      ]
     },
     "execution_count": 25,
     "metadata": {},
     "output_type": "execute_result"
    }
   ],
   "source": [
    "G = Digraph(format='png')\n",
    "with open(infile_path) as f:\n",
    "    for ls in itertools.islice(read_chunk_cabocha(f),5,6):\n",
    "        for i,chunk in enumerate(ls):\n",
    "            G.node(numbering(i,chunk.phrase()))\n",
    "            if chunk.dst != -1:\n",
    "                G.edge(numbering(i,chunk.phrase()),\n",
    "                       numbering(chunk.dst,ls[chunk.dst].phrase()))\n",
    "G"
   ]
  },
  {
   "cell_type": "markdown",
   "metadata": {},
   "source": [
    "# 45. 動詞の格パターンの抽出\n",
    "\n",
    "今回用いている文章をコーパスと見なし，日本語の述語が取りうる格を調査したい． 動詞を述語，動詞に係っている文節の助詞を格と考え，述語と格をタブ区切り形式で出力せよ． ただし，出力は以下の仕様を満たすようにせよ．\n",
    "\n",
    "- 動詞を含む文節において，最左の動詞の基本形を述語とする\n",
    "- ***述語に係る助詞***を格とする\n",
    "- 述語に係る助詞（文節）が複数あるときは，すべての助詞をスペース区切りで辞書順に並べる\n",
    "\n",
    "「吾輩はここで始めて人間というものを見た」という例文（neko.txt.cabochaの8文目）を考える． この文は「始める」と「見る」の２つの動詞を含み，「始める」に係る文節は「ここで」，「見る」に係る文節は「吾輩は」と「ものを」と解析された場合は，次のような出力になるはずである．"
   ]
  },
  {
   "cell_type": "code",
   "execution_count": 26,
   "metadata": {},
   "outputs": [],
   "source": [
    "# 始める  で\n",
    "# 見る    は を"
   ]
  },
  {
   "cell_type": "markdown",
   "metadata": {},
   "source": [
    "このプログラムの出力をファイルに保存し，以下の事項をUNIXコマンドを用いて確認せよ．\n",
    "\n",
    "- コーパス中で頻出する述語と格パターンの組み合わせ\n",
    "- 「する」「見る」「与える」という動詞の格パターン（コーパス中で出現頻度の高い順に並べよ）"
   ]
  },
  {
   "cell_type": "markdown",
   "metadata": {},
   "source": [
    "# 疑問点\n",
    "ここでいう**「述語に係る助詞を格とする」**というのをどこまで厳密にやるのか？？ \n",
    "### パターン1 : 助詞を取ってきて、一番右側を「格」とする    \n",
    "### パターン2 : 一番右側の形態素が助詞の時、それを「格」とする"
   ]
  },
  {
   "cell_type": "markdown",
   "metadata": {},
   "source": [
    "- 助詞のパターン\n",
    "    - 一番右が助詞で終わり、述語に係る (パターン1でもパターン2でも抽出可)\n",
    "        - [...助......**助**]\n",
    "    - 一番右は助詞ではないが、述語に係る助詞が存在  \n",
    "    (一番右の助詞が、述語に係ると仮定) (パターン1は抽出可、パターン2で抽出不可)\n",
    "        - [......助...**助**...]\n",
    "        - [...助......**助**...]\n",
    "    - 助詞を含んでいるが、述語に係る助詞は存在しない (パターン1で抽出してしまう)\n",
    "        - [......助......]"
   ]
  },
  {
   "cell_type": "markdown",
   "metadata": {},
   "source": [
    "#### パターン1 : 助詞を取ってきて、一番右側を「格」とする"
   ]
  },
  {
   "cell_type": "code",
   "execution_count": 27,
   "metadata": {},
   "outputs": [],
   "source": [
    "def get_verb_cases(f):\n",
    "    \"\"\"動詞とその格(助詞)を取り出す\"\"\"\n",
    "    for ls in read_chunk_cabocha(f):\n",
    "        for chunk in ls:\n",
    "            if chunk.contain_pos('動詞'): #文節に”動詞”が含まれていたなら\n",
    "                \n",
    "                verb = chunk.get_pos('動詞')[0] #一番左の動詞を述語とする\n",
    "                cases = [ls[i].get_pos('助詞')[-1] #パターン1\n",
    "                         for i in chunk.srcs \n",
    "                         if ls[i].contain_pos('助詞')]\n",
    "                \n",
    "                if len(cases)>0: yield (verb,sorted(cases))"
   ]
  },
  {
   "cell_type": "code",
   "execution_count": 28,
   "metadata": {},
   "outputs": [],
   "source": [
    "with open(infile_path) as infile:\n",
    "    with open(\"src/q045\",\"w\") as outfile:\n",
    "        \n",
    "        for verb,cases in get_verb_cases(infile):\n",
    "            case_seq = ' '.join(case for case in cases)\n",
    "            outfile.writelines(f'{verb}\\t{case_seq}\\n')"
   ]
  },
  {
   "cell_type": "code",
   "execution_count": 29,
   "metadata": {},
   "outputs": [
    {
     "name": "stdout",
     "output_type": "stream",
     "text": [
      "20446 src/q045\n",
      "\t[動詞]\t[助詞]\n",
      "    704 云う\tと\n",
      "    452 する\tを\n",
      "    333 思う\tと\n",
      "    202 ある\tが\n",
      "    199 なる\tに\n",
      "    188 する\tに\n",
      "    175 見る\tて\n",
      "    159 する\tと\n",
      "    117 する\tが\n",
      "    113 する\tに を\n",
      "sort: write failed: 'standard output': Broken pipe\n",
      "sort: write error\n"
     ]
    }
   ],
   "source": [
    "!wc -l src/q045\n",
    "!echo '\\t[動詞]\\t[助詞]'\n",
    "!cat src/q045 | sort | uniq -c | sort -nr | head"
   ]
  },
  {
   "cell_type": "markdown",
   "metadata": {},
   "source": [
    "#### パターン2 : 一番右側の形態素が助詞の時、それを「格」とする"
   ]
  },
  {
   "cell_type": "code",
   "execution_count": 30,
   "metadata": {},
   "outputs": [],
   "source": [
    "def get_verb_cases2(f):\n",
    "    for ls in read_chunk_cabocha(f):\n",
    "        for chunk in ls:\n",
    "            if chunk.contain_pos('動詞'): #文節に”動詞”が含まれていたなら\n",
    "                \n",
    "                verb = chunk.get_pos('動詞')[0] #一番左の動詞を述語にする\n",
    "                cases = [ls[i].morphs[-1].base #パターン2\n",
    "                         for i in chunk.srcs \n",
    "                         if ls[i].morphs[-1].pos == '助詞']\n",
    "                \n",
    "                if len(cases)>0: yield (verb,cases)"
   ]
  },
  {
   "cell_type": "code",
   "execution_count": 31,
   "metadata": {},
   "outputs": [],
   "source": [
    "with open(infile_path) as infile:\n",
    "    with open(\"src/q045_2\",\"w\") as outfile:\n",
    "        \n",
    "        for verb,cases in get_verb_cases2(infile):\n",
    "            case_seq = ' '.join(case for case in cases)\n",
    "            outfile.writelines(f'{verb}\\t{case_seq}\\n')"
   ]
  },
  {
   "cell_type": "code",
   "execution_count": 32,
   "metadata": {},
   "outputs": [
    {
     "name": "stdout",
     "output_type": "stream",
     "text": [
      "19989 src/q045_2\n",
      "\t[動詞]\t[助詞]\n",
      "    742 云う\tと\n",
      "    537 する\tを\n",
      "    357 思う\tと\n",
      "    241 ある\tが\n",
      "    236 なる\tに\n",
      "    223 する\tに\n",
      "    214 見る\tて\n",
      "    170 する\tと\n",
      "    133 する\tが\n",
      "    105 見る\tを\n",
      "sort: write failed: 'standard output': Broken pipe\n",
      "sort: write error\n"
     ]
    }
   ],
   "source": [
    "!wc -l src/q045_2\n",
    "!echo '\\t[動詞]\\t[助詞]'\n",
    "!cat src/q045_2 | sort | uniq -c | sort -nr | head"
   ]
  },
  {
   "cell_type": "markdown",
   "metadata": {},
   "source": [
    "## 結果\n",
    "- パターン1→パターン2で全体の数が減った\n",
    "    - 20446 -> 19989\n",
    "\n",
    "    \n",
    "- パターン1→パターン2でそれぞれの数が増えた\n",
    "    - 「云う と」 704 -> 742\n",
    "        - 助詞の組み合わせの数が増減したと予想\n",
    "        - 「は を」20,「は」5 -> 「は を」15,「は」10\n",
    "        - 結果を見てみると上位のパターンの頻度が増えていることがわかる\n",
    "    \n",
    "    \n",
    "# 疑問点2\n",
    "-  [助詞を含む文節] -> [動詞を含む文節] のとき、\n",
    "- [助詞を含む文節] の一番右の品詞は、助詞以外で何があるのか\n",
    "- **動詞にかかるくせに最後が助詞で終わらないとは何事**"
   ]
  },
  {
   "cell_type": "code",
   "execution_count": 33,
   "metadata": {},
   "outputs": [],
   "source": [
    "def test(f,fil):\n",
    "    \"\"\"\n",
    "    係り元の一番右の形態素を取ってくるが、\n",
    "    フィルターによって取って来れるものを変えられる\n",
    "    \"\"\"\n",
    "    for ls in read_chunk_cabocha(f):\n",
    "        for chunk in ls:\n",
    "            if chunk.contain_pos('動詞'): #文節に動詞が含まれているなら\n",
    "                \n",
    "                verb = chunk.get_pos('動詞')[0] #一番左側の動詞を述語とする\n",
    "\n",
    "                cases,pos = [],[]\n",
    "                for i in chunk.srcs:\n",
    "                    if fil(ls,i): #フィルターによって取って来るものを調節\n",
    "                        cases.append(ls[i].surf()) #係り元の全体の文節\n",
    "                        pos.append(ls[i].morphs[-1].pos) #係り元の、一番右の形態素の品詞\n",
    "                        \n",
    "                if len(cases)>0: yield (verb,cases,pos)"
   ]
  },
  {
   "cell_type": "markdown",
   "metadata": {},
   "source": [
    "### 最初は単純に、動詞にかかる文節の一番右を見てみた。"
   ]
  },
  {
   "cell_type": "code",
   "execution_count": 34,
   "metadata": {},
   "outputs": [],
   "source": [
    "from collections import Counter\n",
    "import matplotlib.pyplot as plt\n",
    "import pandas as pd\n",
    "import seaborn as sns"
   ]
  },
  {
   "cell_type": "code",
   "execution_count": 35,
   "metadata": {},
   "outputs": [],
   "source": [
    "%matplotlib inline"
   ]
  },
  {
   "cell_type": "code",
   "execution_count": 36,
   "metadata": {},
   "outputs": [
    {
     "data": {
      "image/png": "[encoded data removed]",
      "text/plain": [
       "<matplotlib.figure.Figure at 0x10e4e7f98>"
      ]
     },
     "metadata": {},
     "output_type": "display_data"
    }
   ],
   "source": [
    "fil = lambda ls,i: True #全てにTrue\n",
    "\n",
    "with open(infile_path) as f:\n",
    "    c = Counter(i for verb,cases,pos in test(f,fil) for i in pos)\n",
    "    \n",
    "    plt.style.use('ggplot')\n",
    "    plt.rcParams['font.family'] = 'TakaoGothic'\n",
    "    plt.rcParams[\"font.size\"] = 20\n",
    "    plt.figure(figsize=(14,8))\n",
    "    plt.title('述語に係る文節の、一番右の品詞Top10')\n",
    "\n",
    "    df = pd.DataFrame(c.most_common(10),columns=['品詞','頻度'])\n",
    "    sns.barplot('品詞','頻度',data=df)"
   ]
  },
  {
   "cell_type": "markdown",
   "metadata": {},
   "source": [
    "### この問題文の意図的に、そもそも助詞が含まれていないといけない。\n",
    "### 助詞が含まれている文節で比較"
   ]
  },
  {
   "cell_type": "code",
   "execution_count": 37,
   "metadata": {},
   "outputs": [
    {
     "data": {
      "image/png": "[encoded data removed]",
      "text/plain": [
       "<matplotlib.figure.Figure at 0x10e51aba8>"
      ]
     },
     "metadata": {},
     "output_type": "display_data"
    }
   ],
   "source": [
    "fil = lambda ls,i: ls[i].contain_pos('助詞') #係り元の文節に助詞を含む\n",
    "\n",
    "with open(infile_path) as f:\n",
    "    c = Counter(i for verb,cases,pos in test(f,fil) for i in pos)  \n",
    "    plt.rcParams[\"font.size\"] = 20\n",
    "    plt.figure(figsize=(14,8))\n",
    "    plt.title('述語に係る文節(助詞を含む)の、一番右の品詞Top10')   \n",
    "    df = pd.DataFrame(c.most_common(10),columns=['品詞','頻度'])\n",
    "    sns.barplot('品詞','頻度',data=df)"
   ]
  },
  {
   "cell_type": "markdown",
   "metadata": {},
   "source": [
    "### 助詞が圧倒的だが、その他の比較は？？\n",
    "### 助詞を抜いて可視化"
   ]
  },
  {
   "cell_type": "code",
   "execution_count": 38,
   "metadata": {},
   "outputs": [
    {
     "data": {
      "image/png": "[encoded data removed]",
      "text/plain": [
       "<matplotlib.figure.Figure at 0x1a1c173f60>"
      ]
     },
     "metadata": {},
     "output_type": "display_data"
    }
   ],
   "source": [
    "fil = lambda ls,i: (ls[i].contain_pos('助詞') and ls[i].morphs[-1].pos != '助詞') #助詞を含むが一番右が助詞でない\n",
    "\n",
    "with open(infile_path) as f:\n",
    "    c = Counter(i for verb,cases,pos in test(f,fil) for i in pos)  \n",
    "    plt.rcParams[\"font.size\"] = 20\n",
    "    plt.figure(figsize=(14,8))\n",
    "    plt.title('助詞を含むが一番右が助詞でない文節の、一番右の品詞Top10')   \n",
    "    df = pd.DataFrame(c.most_common(10),columns=['品詞','頻度'])\n",
    "    sns.barplot('品詞','頻度',data=df)"
   ]
  },
  {
   "cell_type": "code",
   "execution_count": 39,
   "metadata": {},
   "outputs": [],
   "source": [
    "with open(infile_path) as infile:\n",
    "    with open(\"src/q045_3\",\"w\") as outfile:\n",
    "        for verb,cases,pos in test(infile,fil):\n",
    "            case_seq = ' '.join(i for i in cases)\n",
    "            pos_seq = ' '.join(i for i in pos)\n",
    "            outfile.writelines(f'{verb}\\t{case_seq}\\t{pos_seq}\\n')"
   ]
  },
  {
   "cell_type": "code",
   "execution_count": 40,
   "metadata": {},
   "outputs": [
    {
     "name": "stdout",
     "output_type": "stream",
     "text": [
      "3552 src/q045_3\n",
      "\t[動詞]\t[文節]\t[一番右の品詞]\n",
      "     11 する\tして、\t記号\n",
      "      6 する\tなって、\t記号\n",
      "      5 見る\t思って、\t記号\n",
      "      5 取る\t置けば、\t記号\n",
      "      5 する\t見ると、\t記号\n",
      "      4 云う\t云うから、\t記号\n",
      "      4 する\tあって、\t記号\n",
      "      3 する\tかくのごとく\t助動詞\n",
      "      3 する\t例のごとく\t助動詞\n",
      "      3 食う\t食ったり、\t記号\n",
      "sort: write failed: 'standard output': Broken pipe\n",
      "sort: write error\n"
     ]
    }
   ],
   "source": [
    "!wc -l src/q045_3\n",
    "!echo '\\t[動詞]\\t[文節]\\t[一番右の品詞]'\n",
    "!cat src/q045_3 | sort | uniq -c | sort -nr | head"
   ]
  },
  {
   "cell_type": "markdown",
   "metadata": {},
   "source": [
    "## 記号が一番右に来る時は、その前が助詞であることが多め。(.........助+記)\n",
    "## 一番右が助詞でも記号でもないものを抽出"
   ]
  },
  {
   "cell_type": "code",
   "execution_count": 41,
   "metadata": {},
   "outputs": [],
   "source": [
    "fil = lambda ls,i: ls[i].contain_pos('助詞') and ls[i].morphs[-1].pos != '助詞' and ls[i].morphs[-1].pos != '記号'\n",
    "# 助詞が含まれているが、一番右が助詞でも記号でもない"
   ]
  },
  {
   "cell_type": "code",
   "execution_count": 42,
   "metadata": {},
   "outputs": [],
   "source": [
    "with open(infile_path) as infile:\n",
    "    with open(\"src/q045_4\",\"w\") as outfile:\n",
    "        for verb,cases,pos in test(infile,fil):\n",
    "            case_seq = ' '.join(i for i in cases)\n",
    "            pos_seq = ' '.join(i for i in pos)\n",
    "            outfile.writelines(f'{verb}\\t{case_seq}\\t{pos_seq}\\n')"
   ]
  },
  {
   "cell_type": "code",
   "execution_count": 43,
   "metadata": {},
   "outputs": [
    {
     "name": "stdout",
     "output_type": "stream",
     "text": [
      "  363  1099 14230 src/q045_4\n",
      "\t[動詞]\t[文節]\t\t[一番右の品詞]\n",
      "      3 する\tかくのごとく\t助動詞\n",
      "      3 する\t例のごとく\t助動詞\n",
      "      2 要する\t吾輩はまた\t接続詞\n",
      "      2 相成る\t大兄の如く\t助動詞\n",
      "      2 する\t眼玉のごとく\t助動詞\n",
      "      2 出る\t例のごとく\t助動詞\n",
      "      2 云う\t例のごとく\t助動詞\n",
      "      2 する\t主人はまた\t接続詞\n",
      "      1 おひゃらかす\t御冗談なんだよ——\t名詞\n",
      "      1 いらっしゃる\t「それじゃまた\t接続詞\n"
     ]
    }
   ],
   "source": [
    "!wc src/q045_4\n",
    "!echo '\\t[動詞]\\t[文節]\\t\\t[一番右の品詞]'\n",
    "!cat src/q045_4 | sort | uniq -c | sort -nr | head"
   ]
  },
  {
   "cell_type": "markdown",
   "metadata": {},
   "source": [
    "## 助動詞で終わる時は、助詞は述語にかかってなさそう。\n",
    "## 接続詞で終わるものはそれっぽい...？ということで、接続詞で終わるものを取り出して見た"
   ]
  },
  {
   "cell_type": "code",
   "execution_count": 44,
   "metadata": {},
   "outputs": [],
   "source": [
    "fil = lambda ls,i: ls[i].contain_pos('助詞') and ls[i].morphs[-1].pos == '接続詞'\n",
    "# 助詞を含み接続詞で終わる"
   ]
  },
  {
   "cell_type": "code",
   "execution_count": 45,
   "metadata": {},
   "outputs": [],
   "source": [
    "with open(infile_path) as infile:\n",
    "    with open(\"src/q045_5\",\"w\") as outfile:\n",
    "        for verb,cases,pos in test(infile,fil):\n",
    "            case_seq = ' '.join(i for i in cases)\n",
    "            outfile.writelines(f'{verb}\\t{case_seq}\\n')"
   ]
  },
  {
   "cell_type": "code",
   "execution_count": 46,
   "metadata": {},
   "outputs": [
    {
     "name": "stdout",
     "output_type": "stream",
     "text": [
      " 104  208 3187 src/q045_5\n",
      "\t[動詞]\t[文節(助詞を含み接続詞で終わる)]\n",
      "      2 要する\t吾輩はまた\n",
      "      2 する\t主人はまた\n",
      "      1 いらっしゃる\t「それじゃまた\n",
      "      1 引き揚げる\tすまして、また\n",
      "      1 やってくる\t妻君がまた\n",
      "      1 ひねくる\t依頼なんでしょう」と、また\n",
      "      1 あばれる\t騒いでいるのか、あるいは\n",
      "      1 合わせる\t我慢するか、または\n",
      "      1 思い出す\t云われるとまた\n",
      "      1 考え直す\t見たが、また\n"
     ]
    }
   ],
   "source": [
    "!wc src/q045_5\n",
    "!echo '\\t[動詞]\\t[文節(助詞を含み接続詞で終わる)]'\n",
    "!cat src/q045_5 | sort | uniq -c | sort -nr | head"
   ]
  },
  {
   "cell_type": "markdown",
   "metadata": {},
   "source": [
    "- **推論**\n",
    "    - 1番右の助詞は述語に係る可能性が高そう\n",
    "    - [助詞+記号] や [助詞+接続詞] などの助詞も動詞に係る可能性が高そう(?)\n",
    "    - それ以外(助動詞や名詞など)で終わる文節の助詞は動詞に係らなそう\n",
    "    \n",
    "    \n",
    "- **結論**\n",
    "    - 厳密に分類することは難しい\n",
    "    - 動詞にかからない助詞の方が圧倒的に少ない\n",
    "    - **近似として パターン1 を用いる**"
   ]
  },
  {
   "cell_type": "code",
   "execution_count": 47,
   "metadata": {},
   "outputs": [
    {
     "name": "stdout",
     "output_type": "stream",
     "text": [
      "    452 する\tを\n",
      "    188 する\tに\n",
      "    159 する\tと\n",
      "    117 する\tが\n",
      "    113 する\tに を\n",
      "     90 する\tて を\n",
      "     85 する\tは\n",
      "     61 する\tて\n",
      "     60 する\tが を\n",
      "     60 する\tも\n"
     ]
    }
   ],
   "source": [
    "!cat src/q045 | grep -E \"^する\" | sort | uniq -c | sort -nr | head"
   ]
  },
  {
   "cell_type": "code",
   "execution_count": 48,
   "metadata": {},
   "outputs": [
    {
     "name": "stdout",
     "output_type": "stream",
     "text": [
      "    175 見る\tて\n",
      "     98 見る\tを\n",
      "     23 見る\tて て\n",
      "     20 見る\tから\n",
      "     17 見る\tと\n",
      "     15 見る\tて を\n",
      "     13 見る\tて は\n",
      "     12 見る\tから て\n",
      "     12 見る\tで\n",
      "      9 見る\tに\n"
     ]
    }
   ],
   "source": [
    "!cat src/q045 | grep \"見る\" | sort | uniq -c | sort -nr | head"
   ]
  },
  {
   "cell_type": "code",
   "execution_count": 49,
   "metadata": {},
   "outputs": [
    {
     "name": "stdout",
     "output_type": "stream",
     "text": [
      "      4 与える\tに を\n",
      "      2 与える\tて に は を\n",
      "      2 与える\tて に を\n",
      "      1 与える\tけれども は を\n",
      "      1 与える\tか として\n",
      "      1 与える\tが て と に は は を\n",
      "      1 与える\tて に に は を\n",
      "      1 与える\tて と は を\n",
      "      1 与える\tは は も\n",
      "      1 与える\tで に を\n"
     ]
    }
   ],
   "source": [
    "!cat src/q045 | grep \"与える\" | sort | uniq -c | sort -nr | head"
   ]
  },
  {
   "cell_type": "markdown",
   "metadata": {},
   "source": [
    "# 46. 動詞の格フレーム情報の抽出\n",
    "\n",
    "45のプログラムを改変し，述語と格パターンに続けて項（述語に係っている文節そのもの）をタブ区切り形式で出力せよ．45の仕様に加えて，以下の仕様を満たすようにせよ．\n",
    "\n",
    "- 項は述語に係っている文節の単語列とする（末尾の助詞を取り除く必要はない）\n",
    "- 述語に係る文節が複数あるときは，助詞と同一の基準・順序でスペース区切りで並べる\n",
    "\n",
    "「吾輩はここで始めて人間というものを見た」という例文（neko.txt.cabochaの8文目）を考える． この文は「始める」と「見る」の２つの動詞を含み，「始める」に係る文節は「ここで」，「見る」に係る文節は「吾輩は」と「ものを」と解析された場合は，次のような出力になるはずである．"
   ]
  },
  {
   "cell_type": "code",
   "execution_count": 50,
   "metadata": {},
   "outputs": [],
   "source": [
    "# 始める  で      ここで\n",
    "# 見る    は を   吾輩は ものを"
   ]
  },
  {
   "cell_type": "code",
   "execution_count": 51,
   "metadata": {},
   "outputs": [],
   "source": [
    "def get_cases_phrases(ls,srcs,exc_index=-2):#exc_index は 47~ で使用\n",
    "    \"\"\"格とその文節を取り出す\"\"\"\n",
    "    cases,phrases = [],[]\n",
    "    for i in srcs:\n",
    "        if ls[i].contain_pos('助詞') and i != exc_index: #文節に助詞が含まれていて、(特定の文節でないなら)\n",
    "            \n",
    "            cases.append(ls[i].get_pos('助詞')[-1]) #助詞の一番右を取り出す\n",
    "            phrases.append(ls[i].phrase()) #文節を取り出す\n",
    "#     ソート\n",
    "    if len(cases) > 0:        \n",
    "        pair = [(case, phrase) for case, phrase in zip(cases, phrases)]\n",
    "        sorted_pair = sorted(pair)\n",
    "        cases, phrases = zip(*sorted_pair)\n",
    "    \n",
    "    return (cases,phrases)"
   ]
  },
  {
   "cell_type": "code",
   "execution_count": 52,
   "metadata": {},
   "outputs": [],
   "source": [
    "def get_verb_cases_phrases(f):\n",
    "    \"\"\"動詞、格、文節を取り出す\"\"\"\n",
    "    for ls in read_chunk_cabocha(f):\n",
    "        for chunk in ls:\n",
    "            if chunk.contain_pos('動詞'): #文節に動詞があったら\n",
    "                \n",
    "                verb = chunk.get_pos('動詞')[0] #一番左の動詞を述語とする\n",
    "                cases,phrases = get_cases_phrases(ls,chunk.srcs) #格とその文節を取り出す\n",
    "                \n",
    "                if len(cases)>0: yield (verb,cases,phrases)"
   ]
  },
  {
   "cell_type": "code",
   "execution_count": 53,
   "metadata": {},
   "outputs": [],
   "source": [
    "with open(infile_path) as infile:\n",
    "    with open(\"src/q046\",\"w\") as outfile:\n",
    "        \n",
    "        for verb,cases,phrases in get_verb_cases_phrases(infile):\n",
    "            case = ' '.join(i for i in cases)\n",
    "            phrase = ' '.join(i for i in phrases)\n",
    "            \n",
    "            outfile.write(f'{verb}\\t{case}\\t{phrase}\\n')"
   ]
  },
  {
   "cell_type": "code",
   "execution_count": 54,
   "metadata": {},
   "outputs": [
    {
     "name": "stdout",
     "output_type": "stream",
     "text": [
      "生れる\tで\tどこで\n",
      "つく\tか が\t生れたか 見当が\n",
      "泣く\tで\t所で\n",
      "する\tて は\t泣いて いた事だけは\n",
      "始める\tで\tここで\n",
      "見る\tは を\t吾輩は ものを\n",
      "聞く\tで\tあとで\n",
      "捕える\tを\t我々を\n",
      "煮る\tて\t捕えて\n",
      "食う\tて\t煮て\n"
     ]
    }
   ],
   "source": [
    "!head src/q046"
   ]
  },
  {
   "cell_type": "markdown",
   "metadata": {},
   "source": [
    "# 47. 機能動詞構文のマイニング\n",
    "\n",
    "動詞のヲ格にサ変接続名詞が入っている場合のみに着目したい．46のプログラムを以下の仕様を満たすように改変せよ．\n",
    "\n",
    "- 「サ変接続名詞+を（助詞）」で構成される文節が動詞に係る場合のみを対象とする\n",
    "- 述語は「サ変接続名詞+を+動詞の基本形」とし，文節中に複数の動詞があるときは，最左の動詞を用いる\n",
    "- 述語に係る助詞（文節）が複数あるときは，すべての助詞をスペース区切りで辞書順に並べる\n",
    "- 述語に係る文節が複数ある場合は，すべての項をスペース区切りで並べる（助詞の並び順と揃えよ）\n",
    "\n",
    "例えば「別段くるにも及ばんさと、主人は手紙に返事をする。」という文から，以下の出力が得られるはずである．"
   ]
  },
  {
   "cell_type": "code",
   "execution_count": 55,
   "metadata": {},
   "outputs": [],
   "source": [
    "# 返事をする      と に は        及ばんさと 手紙に 主人は"
   ]
  },
  {
   "cell_type": "markdown",
   "metadata": {},
   "source": [
    "このプログラムの出力をファイルに保存し，以下の事項をUNIXコマンドを用いて確認せよ．\n",
    "\n",
    "- コーパス中で頻出する述語（サ変接続名詞+を+動詞）\n",
    "- コーパス中で頻出する述語と助詞パターン"
   ]
  },
  {
   "cell_type": "code",
   "execution_count": 56,
   "metadata": {},
   "outputs": [],
   "source": [
    "from toolz.itertoolz import sliding_window"
   ]
  },
  {
   "cell_type": "code",
   "execution_count": 57,
   "metadata": {},
   "outputs": [],
   "source": [
    "def get_pred_cases_phrases(f):\n",
    "    \"\"\"述語(サ変接続名詞含む)、格、文節を取り出す\"\"\"\n",
    "    for ls in read_chunk_cabocha(f):\n",
    "        for index,chunk_pair in enumerate(sliding_window(2,ls)):\n",
    "            l_chunk, r_chunk = chunk_pair[0], chunk_pair[1]\n",
    "\n",
    "            if len(l_chunk.morphs)>1 \\\n",
    "                and l_chunk.morphs[-2].pos1=='サ変接続' \\\n",
    "                and l_chunk.morphs[-1].base=='を' \\\n",
    "                and r_chunk.contain_pos('動詞'):\n",
    "                    \n",
    "                pred = l_chunk.morphs[-2].surface + \"を\" + r_chunk.get_pos('動詞')[0]\n",
    "                cases,phrases = get_cases_phrases(ls,r_chunk.srcs,index) #サ変接続名詞の部分を抽出しないように工夫\n",
    "                \n",
    "                if len(cases)>0: yield (pred,cases,phrases)"
   ]
  },
  {
   "cell_type": "code",
   "execution_count": 58,
   "metadata": {},
   "outputs": [],
   "source": [
    "with open(infile_path) as infile:\n",
    "    with open(\"src/q047\",\"w\") as outfile:\n",
    "        \n",
    "        for pred,cases,phrases in get_pred_cases_phrases(infile):\n",
    "            case = ' '.join(i for i in cases)\n",
    "            phrase = ' '.join(i for i in phrases)\n",
    "            \n",
    "            outfile.write(f'{pred}\\t{case}\\t{phrase}\\n')"
   ]
  },
  {
   "cell_type": "markdown",
   "metadata": {},
   "source": [
    "### check"
   ]
  },
  {
   "cell_type": "code",
   "execution_count": 59,
   "metadata": {},
   "outputs": [
    {
     "name": "stdout",
     "output_type": "stream",
     "text": [
      "決心をする\tと\tこうと\n",
      "返報をする\tんで\t偸んで\n",
      "昼寝をする\tが\t彼が\n",
      "迫害を加える\tて\t追い廻して\n",
      "生活をする\tが を\t我等猫族が 愛を\n",
      "投書をする\tて へ\tやって ほととぎすへ\n",
      "話をする\tに\t時に\n",
      "昼寝をする\tて\t出て\n",
      "欠伸をする\tから て て\tなったから して 押し出して\n",
      "御馳走を食う\tと\t見ると\n"
     ]
    }
   ],
   "source": [
    "!head src/q047"
   ]
  },
  {
   "cell_type": "markdown",
   "metadata": {},
   "source": [
    "### コーパス中で頻出する述語（サ変接続名詞+を+動詞）"
   ]
  },
  {
   "cell_type": "code",
   "execution_count": 60,
   "metadata": {},
   "outputs": [
    {
     "name": "stdout",
     "output_type": "stream",
     "text": [
      "488 src/q047\n",
      "     26 返事をする\n",
      "     19 挨拶をする\n",
      "     12 話をする\n",
      "      8 質問をする\n",
      "      7 喧嘩をする\n",
      "      6 真似をする\n",
      "      5 質問をかける\n",
      "      5 相談をする\n",
      "      5 昼寝をする\n",
      "      4 休養を要する\n"
     ]
    }
   ],
   "source": [
    "!wc -l src/q047\n",
    "!cat src/q047 | cut -f1 | sort | uniq -c | sort -nr | head"
   ]
  },
  {
   "cell_type": "markdown",
   "metadata": {},
   "source": [
    "### コーパス中で頻出する述語と助詞パターン"
   ]
  },
  {
   "cell_type": "code",
   "execution_count": 61,
   "metadata": {},
   "outputs": [
    {
     "name": "stdout",
     "output_type": "stream",
     "text": [
      "488 src/q047\n",
      "      6 返事をする\tと\n",
      "      4 挨拶をする\tから\n",
      "      4 返事をする\tと は\n",
      "      4 挨拶をする\tと\n",
      "      3 質問をかける\tと は\n",
      "      3 喧嘩をする\tと\n",
      "      2 同情を表する\tて と は\n",
      "      2 休養を要する\tは\n",
      "      2 返事をする\tから と\n",
      "      2 挨拶をする\tと も\n"
     ]
    }
   ],
   "source": [
    "!wc -l src/q047\n",
    "!cat src/q047 | cut -f1,2 | sort | uniq -c | sort -nr | head"
   ]
  },
  {
   "cell_type": "markdown",
   "metadata": {},
   "source": [
    "# 48. 名詞から根へのパスの抽出\n",
    "\n",
    "文中のすべての名詞を含む文節に対し，その文節から構文木の根に至るパスを抽出せよ． ただし，構文木上のパスは以下の仕様を満たすものとする．\n",
    "\n",
    "- 各文節は（表層形の）形態素列で表現する\n",
    "- パスの開始文節から終了文節に至るまで，各文節の表現を\"->\"で連結する\n",
    "\n",
    "「吾輩はここで始めて人間というものを見た」という文（neko.txt.cabochaの8文目）から，次のような出力が得られるはずである．"
   ]
  },
  {
   "cell_type": "code",
   "execution_count": 62,
   "metadata": {},
   "outputs": [],
   "source": [
    "# 吾輩は -> 見た\n",
    "# ここで -> 始めて -> 人間という -> ものを -> 見た\n",
    "# 人間という -> ものを -> 見た\n",
    "# ものを -> 見た"
   ]
  },
  {
   "cell_type": "code",
   "execution_count": 63,
   "metadata": {},
   "outputs": [],
   "source": [
    "def get_chain_dst(index,ls,phrase_ls):\n",
    "    if index == -1:\n",
    "        return phrase_ls\n",
    "    else:\n",
    "        phrase_ls.append(index)\n",
    "        return get_chain_dst(ls[index].dst,ls,phrase_ls)"
   ]
  },
  {
   "cell_type": "code",
   "execution_count": 64,
   "metadata": {},
   "outputs": [],
   "source": [
    "def noun_to_root(f):\n",
    "    for ls in itertools.islice(read_chunk_cabocha(f),5,6):\n",
    "        for i,chunk in enumerate(ls):\n",
    "            if chunk.contain_pos('名詞'):\n",
    "                yield ' -> '.join(ls[dst].phrase() for dst in get_chain_dst(i,ls,[]))+'\\n'"
   ]
  },
  {
   "cell_type": "code",
   "execution_count": 65,
   "metadata": {},
   "outputs": [],
   "source": [
    "with open(infile_path) as infile:\n",
    "    with open(\"src/q048\",\"w\") as outfile:\n",
    "        for line in noun_to_root(infile):\n",
    "            outfile.writelines(line)"
   ]
  },
  {
   "cell_type": "code",
   "execution_count": 66,
   "metadata": {},
   "outputs": [
    {
     "name": "stdout",
     "output_type": "stream",
     "text": [
      "吾輩は -> 見た\n",
      "ここで -> 始めて -> 人間という -> ものを -> 見た\n",
      "人間という -> ものを -> 見た\n",
      "ものを -> 見た\n"
     ]
    }
   ],
   "source": [
    "!head src/q048"
   ]
  },
  {
   "cell_type": "markdown",
   "metadata": {},
   "source": [
    "# 49. 名詞間の係り受けパスの抽出\n",
    "\n",
    "文中のすべての名詞句のペアを結ぶ最短係り受けパスを抽出せよ．ただし，名詞句ペアの文節番号が$i$と$j$（$i < j$）のとき，係り受けパスは以下の仕様を満たすものとする．\n",
    "\n",
    "- 問題48と同様に，パスは開始文節から終了文節に至るまでの各文節の表現（表層形の形態素列）を\"->\"で連結して表現する\n",
    "- 文節$i$と$j$に含まれる名詞句はそれぞれ，XとYに置換する\n",
    "\n",
    "また，係り受けパスの形状は，以下の2通りが考えられる．\n",
    "\n",
    "- 文節$i$から構文木の根に至る経路上に文節$j$が存在する場合: 文節$i$から文節$j$のパスを表示\n",
    "- 上記以外で，文節$i$と文節$j$から構文木の根に至る経路上で共通の文節$k$で交わる場合: 文節$i$から文節$k$に至る直前のパスと文節$j$から文節$k$に至る直前までのパス，文節$k$の内容を\"|\"で連結して表示\n",
    "    \n",
    "例えば，「吾輩はここで始めて人間というものを見た。」という文（neko.txt.cabochaの8文目）から，次のような出力が得られるはずである．"
   ]
  },
  {
   "cell_type": "code",
   "execution_count": 75,
   "metadata": {},
   "outputs": [],
   "source": [
    "# Xは | Yで -> 始めて -> 人間という -> ものを | 見た\n",
    "# Xは | Yという -> ものを | 見た\n",
    "# Xは | Yを | 見た\n",
    "# Xで -> 始めて -> Y\n",
    "# Xで -> 始めて -> 人間という -> Y\n",
    "# Xという -> Y"
   ]
  },
  {
   "cell_type": "code",
   "execution_count": 76,
   "metadata": {},
   "outputs": [],
   "source": [
    "def xy_phrase(chunk,char): #「ここで」 -> 「Xで」\n",
    "     return ''.join(char if morph.pos == '名詞' else morph.surface for morph in chunk.morphs)\n",
    "\n",
    "def is_noun_dstlist(ls,dst_ls): #場合分けに使う\n",
    "    for i in dst_ls:\n",
    "        if not ls[i].contain_pos('名詞'): continue\n",
    "        return True\n",
    "    return False\n",
    "\n",
    "def find_co_el(ls1,ls2): #同じ要素を取り出してくる\n",
    "    for i,el in enumerate(ls1):\n",
    "        for j,el2 in enumerate(ls2):\n",
    "            if el == el2: return (i,j,el)"
   ]
  },
  {
   "cell_type": "markdown",
   "metadata": {},
   "source": [
    "係り受けパスは2パターン"
   ]
  },
  {
   "cell_type": "code",
   "execution_count": 77,
   "metadata": {},
   "outputs": [],
   "source": [
    "def generator_noun_to_noun(index,ls,dst_ls):\n",
    "    for i,dst in enumerate(dst_ls):\n",
    "        if ls[dst].contain_pos('名詞'):\n",
    "            yield ' -> '.join(itertools.chain([xy_phrase(ls[index],'X')],\n",
    "                                              (ls[j].phrase() for j in dst_ls[:i]),\n",
    "                                              'Y'))"
   ]
  },
  {
   "cell_type": "code",
   "execution_count": 78,
   "metadata": {},
   "outputs": [],
   "source": [
    "def generator_noun_intersec(index,ls,dst_ls):\n",
    "    for index2,chunk in enumerate(ls[index+1:]):\n",
    "        if chunk.contain_pos('名詞'):\n",
    "            dst_ls2 = get_chain_dst(chunk.dst,ls,[])\n",
    "            \n",
    "            el = find_co_el(dst_ls, dst_ls2)\n",
    "            if el:\n",
    "                phrase1 = ' -> '.join(itertools.chain([xy_phrase(ls[index],'X')],\n",
    "                                                      (ls[i].phrase() for i in dst_ls[:el[0]])))\n",
    "                phrase2 = ' -> '.join(itertools.chain([xy_phrase(ls[index2+index+1],'Y')],\n",
    "                                                      (ls[i].phrase() for i in dst_ls2[:el[1]])))\n",
    "                phrase3 = ls[el[2]].phrase()\n",
    "                yield ' | '.join([phrase1,phrase2,phrase3])"
   ]
  },
  {
   "cell_type": "markdown",
   "metadata": {},
   "source": [
    "結果"
   ]
  },
  {
   "cell_type": "code",
   "execution_count": 79,
   "metadata": {},
   "outputs": [],
   "source": [
    "def get_dependency_pass(ls):\n",
    "    for index,chunk in enumerate(ls):\n",
    "        if chunk.contain_pos('名詞'):\n",
    "            dst_ls = get_chain_dst(chunk.dst,ls,[])\n",
    "            if is_noun_dstlist(ls,dst_ls):\n",
    "                for line in generator_noun_to_noun(index,ls,dst_ls): yield line\n",
    "            else:\n",
    "                for line in generator_noun_intersec(index,ls,dst_ls): yield line"
   ]
  },
  {
   "cell_type": "code",
   "execution_count": 80,
   "metadata": {},
   "outputs": [
    {
     "name": "stdout",
     "output_type": "stream",
     "text": [
      "Xは | Yで -> 始めて -> 人間という -> ものを | 見た\n",
      "Xは | Yという -> ものを | 見た\n",
      "Xは | Yを | 見た\n",
      "Xで -> 始めて -> Y\n",
      "Xで -> 始めて -> 人間という -> Y\n",
      "Xという -> Y\n"
     ]
    }
   ],
   "source": [
    "with open(infile_path) as f:\n",
    "    for ls in itertools.islice(read_chunk_cabocha(f),5,6):\n",
    "        for i in get_dependency_pass(ls):\n",
    "            print(i)"
   ]
  },
  {
   "cell_type": "code",
   "execution_count": 81,
   "metadata": {},
   "outputs": [
    {
     "name": "stdout",
     "output_type": "stream",
     "text": [
      "1.98 s ± 49.4 ms per loop (mean ± std. dev. of 3 runs, 1 loop each)\n"
     ]
    }
   ],
   "source": [
    "%%timeit -r3 -n1\n",
    "with open(infile_path) as f:\n",
    "    for ls in read_chunk_cabocha(f):\n",
    "        for i in get_dependency_pass(ls):\n",
    "            pass"
   ]
  },
  {
   "cell_type": "code",
   "execution_count": null,
   "metadata": {},
   "outputs": [],
   "source": []
  }
 ],
 "metadata": {
  "kernelspec": {
   "display_name": "Python 3",
   "language": "python",
   "name": "python3"
  },
  "language_info": {
   "codemirror_mode": {
    "name": "ipython",
    "version": 3
   },
   "file_extension": ".py",
   "mimetype": "text/x-python",
   "name": "python",
   "nbconvert_exporter": "python",
   "pygments_lexer": "ipython3",
   "version": "3.6.3"
  }
 },
 "nbformat": 4,
 "nbformat_minor": 2
}
