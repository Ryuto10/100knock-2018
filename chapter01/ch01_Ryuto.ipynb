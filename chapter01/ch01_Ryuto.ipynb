{
 "cells": [
  {
   "cell_type": "markdown",
   "metadata": {},
   "source": [
    "# 00. 文字列の逆順"
   ]
  },
  {
   "cell_type": "code",
   "execution_count": 1,
   "metadata": {},
   "outputs": [
    {
     "name": "stdout",
     "output_type": "stream",
     "text": [
      "desserts\n"
     ]
    }
   ],
   "source": [
    "text = 'stressed'\n",
    "print(text[::-1])"
   ]
  },
  {
   "cell_type": "markdown",
   "metadata": {},
   "source": [
    "# 01. 「パタトクカシーー」"
   ]
  },
  {
   "cell_type": "code",
   "execution_count": 2,
   "metadata": {},
   "outputs": [
    {
     "name": "stdout",
     "output_type": "stream",
     "text": [
      "パトカー\n"
     ]
    }
   ],
   "source": [
    "text = 'パタトクカシー'\n",
    "print(text[::2])"
   ]
  },
  {
   "cell_type": "markdown",
   "metadata": {},
   "source": [
    "# 02. 「パトカー」＋「タクシー」＝「パタトクカシーー」"
   ]
  },
  {
   "cell_type": "code",
   "execution_count": 3,
   "metadata": {},
   "outputs": [
    {
     "name": "stdout",
     "output_type": "stream",
     "text": [
      "パタトクカシーー\n",
      "パタトクカシーー\n"
     ]
    }
   ],
   "source": [
    "text1 = 'パトカー'\n",
    "text2 = 'タクシー'\n",
    "ans = ''\n",
    "for a,b in zip (text1,text2):\n",
    "    ans += a+b\n",
    "print(ans)\n",
    "\n",
    "#内包表記\n",
    "ans = ''.join([a+b for a,b in zip(text1,text2)])\n",
    "print(ans)"
   ]
  },
  {
   "cell_type": "markdown",
   "metadata": {},
   "source": [
    "# 03. 円周率"
   ]
  },
  {
   "cell_type": "code",
   "execution_count": 4,
   "metadata": {},
   "outputs": [
    {
     "name": "stdout",
     "output_type": "stream",
     "text": [
      "[3, 1, 4, 1, 5, 9, 2, 6, 5, 3, 5, 8, 9, 7, 9]\n",
      "[3, 1, 4, 1, 5, 9, 2, 6, 5, 3, 5, 8, 9, 7, 9]\n",
      "[3, 1, 4, 1, 5, 9, 2, 6, 5, 3, 5, 8, 9, 7, 9]\n"
     ]
    }
   ],
   "source": [
    "text = \"Now I need a drink, alcoholic of course, after the heavy lectures involving quantum mechanics.\"\n",
    "\n",
    "#とりあえず\n",
    "word_list = text.split(' ')\n",
    "word_len_list = []\n",
    "for w in word_list:\n",
    "    w = w.strip(',.')\n",
    "    word_len_list.append(len(w))\n",
    "print(word_len_list)\n",
    "\n",
    "#lambda式\n",
    "word_len_list = list(map(lambda w:len(w.strip(',.')) , text.split(' ')))\n",
    "print(word_len_list)\n",
    "\n",
    "#内包表記\n",
    "word_len_list = [len(w.strip(',.')) for w in text.split(' ')]\n",
    "print(word_len_list)"
   ]
  },
  {
   "cell_type": "markdown",
   "metadata": {},
   "source": [
    "# 04. 元素記号"
   ]
  },
  {
   "cell_type": "code",
   "execution_count": 5,
   "metadata": {},
   "outputs": [
    {
     "name": "stdout",
     "output_type": "stream",
     "text": [
      "{'H': 1, 'He': 2, 'Li': 3, 'Be': 4, 'B': 5, 'C': 6, 'N': 7, 'O': 8, 'F': 9, 'Ne': 10, 'Na': 11, 'Mi': 12, 'Al': 13, 'Si': 14, 'P': 15, 'S': 16, 'Cl': 17, 'Ar': 18, 'K': 19, 'Ca': 20}\n",
      "{'H': 1, 'He': 2, 'Li': 3, 'Be': 4, 'B': 5, 'C': 6, 'N': 7, 'O': 8, 'F': 9, 'Ne': 10, 'Na': 11, 'Mi': 12, 'Al': 13, 'Si': 14, 'P': 15, 'S': 16, 'Cl': 17, 'Ar': 18, 'K': 19, 'Ca': 20}\n"
     ]
    }
   ],
   "source": [
    "text = \"Hi He Lied Because Boron Could Not Oxidize Fluorine. New Nations Might Also Sign Peace Security Clause. Arthur King Can.\"\n",
    "first_character = [1, 5, 6, 7, 8, 9, 15, 16, 19]\n",
    "\n",
    "#とりあえず\n",
    "word_list = text.split()\n",
    "word_idx_dic = {}\n",
    "for i,w in enumerate(word_list):\n",
    "    if i+1 in first_character:\n",
    "        word_idx_dic[w[:1]] = i+1\n",
    "    else:\n",
    "        word_idx_dic[w[:2]] = i+1\n",
    "print(word_idx_dic)\n",
    "\n",
    "\n",
    "#内包表記\n",
    "word_idx_dic = {(w[:1] if i+1 in first_character else w[:2]) : i+1 for i,w in enumerate(text.split())}\n",
    "print(word_idx_dic)"
   ]
  },
  {
   "cell_type": "markdown",
   "metadata": {},
   "source": [
    "#04 memo"
   ]
  },
  {
   "cell_type": "code",
   "execution_count": 6,
   "metadata": {},
   "outputs": [
    {
     "name": "stdout",
     "output_type": "stream",
     "text": [
      "1 1\n",
      "2 2 true\n",
      "3 3\n",
      "4 4\n",
      "5 5 true\n",
      "6 6\n"
     ]
    }
   ],
   "source": [
    "#x in sについて\n",
    "#sがlist → O(n)\n",
    "#sがset → o(1)\n",
    "#ex) s = {1,2,3}\n",
    "\n",
    "#enumerate(引数1,引数2)\n",
    "#引数2で最初のindexを指定\n",
    "\n",
    "ls = [1,2,3,4,5,6]\n",
    "sure = {2,5}\n",
    "for i,w in enumerate(ls,1):\n",
    "    print(i,w,'true') if w in sure else print(i,w)"
   ]
  },
  {
   "cell_type": "markdown",
   "metadata": {},
   "source": [
    "# 05. n-gram"
   ]
  },
  {
   "cell_type": "code",
   "execution_count": 7,
   "metadata": {},
   "outputs": [
    {
     "name": "stdout",
     "output_type": "stream",
     "text": [
      "[['I', 'am'], ['am', 'an'], ['an', 'NLPer']]\n",
      "['I ', ' a', 'am', 'm ', ' a', 'an', 'n ', ' N', 'NL', 'LP', 'Pe', 'er']\n"
     ]
    }
   ],
   "source": [
    "def get_ngram(text,n):\n",
    "    return [text[i:i+n] for i in range(len(text)-n+1)]\n",
    "\n",
    "text = 'I am an NLPer'\n",
    "print(get_ngram(text.split(' '),2))\n",
    "print(get_ngram(text,2))"
   ]
  },
  {
   "cell_type": "markdown",
   "metadata": {},
   "source": [
    "#05 memo"
   ]
  },
  {
   "cell_type": "code",
   "execution_count": 8,
   "metadata": {},
   "outputs": [
    {
     "name": "stdout",
     "output_type": "stream",
     "text": [
      "[('I', ' '), (' ', 'a'), ('a', 'm'), ('m', ' '), (' ', 'a'), ('a', 'n'), ('n', ' '), (' ', 'N'), ('N', 'L'), ('L', 'P'), ('P', 'e'), ('e', 'r')]\n",
      "[('I', 'am'), ('am', 'an'), ('an', 'NLPer')]\n",
      "[('I', ' '), (' ', 'a'), ('a', 'm'), ('m', ' '), (' ', 'a'), ('a', 'n'), ('n', ' '), (' ', 'N'), ('N', 'L'), ('L', 'P'), ('P', 'e'), ('e', 'r')]\n"
     ]
    }
   ],
   "source": [
    "#置換の危険性\n",
    "#str(1) → '1'\n",
    "#str = 'tmp'\n",
    "#strが関数ではなく変数となってしまうため、危険\n",
    "\n",
    "#スライス→引数の型をそのまま返す\n",
    "\n",
    "#from collection import deque\n",
    "#定められた最大容量のものを保持→古いものを排除\n",
    "from collections import deque\n",
    "def n_gram(sequence, N):\n",
    "    n_gram_cand = deque(maxlen=N)\n",
    "    out = []\n",
    "    for item in sequence:\n",
    "        n_gram_cand.append(item)\n",
    "        if len(n_gram_cand) == N:\n",
    "            out.append(tuple(n_gram_cand))\n",
    "    return out\n",
    "\n",
    "text = 'I am an NLPer'\n",
    "print(n_gram(text, 2))\n",
    "print(n_gram(text.split(' '), 2))\n",
    "\n",
    "#from collections import deque の使用例\n",
    "from collections import deque\n",
    "stack = deque()\n",
    "\n",
    "\n",
    "# 既に動くものが世の中にあるなら，それを使う方が良い（個人の感想です）\n",
    "from toolz.itertoolz import sliding_window\n",
    "print(list(sliding_window(2, text)))\n",
    "#文章を複数コピーして先頭からタプルとして取り出す操作らしい(?)"
   ]
  },
  {
   "cell_type": "markdown",
   "metadata": {},
   "source": [
    "# 06.集合"
   ]
  },
  {
   "cell_type": "code",
   "execution_count": 9,
   "metadata": {},
   "outputs": [
    {
     "name": "stdout",
     "output_type": "stream",
     "text": [
      "{'ar', 'is', 'ph', 'se', 'ag', 'ad', 'ap', 'gr', 'di', 'pa', 'ra'}\n",
      "{'ar', 'ap', 'pa', 'ra'}\n",
      "{'di', 'se', 'is', 'ad'}\n",
      "True\n",
      "False\n"
     ]
    }
   ],
   "source": [
    "text1 = 'paraparaparadise'\n",
    "text2 = 'paragraph'\n",
    "\n",
    "X = set(get_ngram(text1,2))\n",
    "Y = set(get_ngram(text2,2))\n",
    "\n",
    "print(X | Y)\n",
    "print(X & Y)\n",
    "print(X - Y)\n",
    "print('se' in X)\n",
    "print('se' in Y)"
   ]
  },
  {
   "cell_type": "markdown",
   "metadata": {},
   "source": [
    "# 07. テンプレートによる文生成"
   ]
  },
  {
   "cell_type": "code",
   "execution_count": 10,
   "metadata": {},
   "outputs": [
    {
     "name": "stdout",
     "output_type": "stream",
     "text": [
      "12時の気温は22.4\n"
     ]
    }
   ],
   "source": [
    "def get_template(x,y,z):\n",
    "    return '{}時の{}は{}'.format(x,y,z)\n",
    "\n",
    "print(get_template(12,'気温',22.4))"
   ]
  },
  {
   "cell_type": "markdown",
   "metadata": {},
   "source": [
    "#07 memo"
   ]
  },
  {
   "cell_type": "code",
   "execution_count": 11,
   "metadata": {},
   "outputs": [
    {
     "name": "stdout",
     "output_type": "stream",
     "text": [
      "12時の大阪は22.4度\n",
      "12時の大阪は22.4度\n"
     ]
    }
   ],
   "source": [
    "#formatをそのまま書くと、順番を覚えてなえればならない\n",
    "# ex)\n",
    "x,y,z = 12,'大阪',22.4\n",
    "print('{time}時の{place}は{temp}度'.format(time=x,place=y,temp=z))\n",
    "\n",
    "#ex) もっと簡単に\n",
    "print(f'{x}時の{y}は{z}度')"
   ]
  },
  {
   "cell_type": "markdown",
   "metadata": {},
   "source": [
    "# 08. 暗号文"
   ]
  },
  {
   "cell_type": "code",
   "execution_count": 3,
   "metadata": {},
   "outputs": [
    {
     "name": "stdout",
     "output_type": "stream",
     "text": [
      "I zn zm NLPvi\n",
      "I am an NLPer\n"
     ]
    }
   ],
   "source": [
    "def cipher(text):\n",
    "    return ''.join(chr(219-ord(t)) if t.islower() else t for t in text)\n",
    "\n",
    "st = 'I am an NLPer'\n",
    "print(cipher(st))\n",
    "print(cipher(cipher(st)))"
   ]
  },
  {
   "cell_type": "markdown",
   "metadata": {},
   "source": [
    "#08 memo"
   ]
  },
  {
   "cell_type": "code",
   "execution_count": 1,
   "metadata": {
    "collapsed": true
   },
   "outputs": [],
   "source": [
    "#命名規則:大文字を使うとクラスに見えてくる\n",
    "#    基本的には短い小文字\n",
    "#    関数の名前も小文字\n",
    "#    グローバル変数は頭に(_)を使う"
   ]
  },
  {
   "cell_type": "markdown",
   "metadata": {},
   "source": [
    "# 09. Typoglycemia"
   ]
  },
  {
   "cell_type": "code",
   "execution_count": 1,
   "metadata": {
    "scrolled": false
   },
   "outputs": [
    {
     "name": "stdout",
     "output_type": "stream",
     "text": [
      "I c'olndut bveelie that I culod alutacly undrneastd what I was rdnaieg : the pnnemehoal peowr of the hamun mind .\n"
     ]
    }
   ],
   "source": [
    "sample = \"I couldn't believe that I could actually understand what I was reading : the phenomenal power of the human mind .\"\n",
    "\n",
    "import random\n",
    "def get_Typoglycemia(text):\n",
    "    ls = [(t[0]+''.join(random.sample(t[1:-1],len(t)-2))+t[-1]) if len(t)>4 else t for t in text.split()]\n",
    "    return ' '.join(ls)\n",
    "\n",
    "print(get_Typoglycemia(sample))"
   ]
  }
 ],
 "metadata": {
  "kernelspec": {
   "display_name": "Python 3",
   "language": "python",
   "name": "python3"
  },
  "language_info": {
   "codemirror_mode": {
    "name": "ipython",
    "version": 3
   },
   "file_extension": ".py",
   "mimetype": "text/x-python",
   "name": "python",
   "nbconvert_exporter": "python",
   "pygments_lexer": "ipython3",
   "version": "3.6.5"
  }
 },
 "nbformat": 4,
 "nbformat_minor": 2
}
