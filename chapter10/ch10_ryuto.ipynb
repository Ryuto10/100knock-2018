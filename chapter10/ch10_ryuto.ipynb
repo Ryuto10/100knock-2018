{
 "cells": [
  {
   "cell_type": "markdown",
   "metadata": {},
   "source": [
    "# 第10章: ベクトル空間法 (II)"
   ]
  },
  {
   "cell_type": "markdown",
   "metadata": {},
   "source": [
    "第10章では，前章に引き続き単語ベクトルの学習に取り組む．"
   ]
  },
  {
   "cell_type": "markdown",
   "metadata": {},
   "source": [
    "## 90. word2vecによる学習"
   ]
  },
  {
   "cell_type": "markdown",
   "metadata": {},
   "source": [
    "81で作成したコーパスに対して[word2vec](https://code.google.com/archive/p/word2vec/)を適用し，単語ベクトルを学習せよ．さらに，学習した単語ベクトルの形式を変換し，86-89のプログラムを動かせ．"
   ]
  },
  {
   "cell_type": "markdown",
   "metadata": {},
   "source": [
    "[gensim](https://radimrehurek.com/gensim/models/word2vec.html)"
   ]
  },
  {
   "cell_type": "markdown",
   "metadata": {},
   "source": [
    "fasttext ←使いやすいらしい？"
   ]
  },
  {
   "cell_type": "code",
   "execution_count": 1,
   "metadata": {},
   "outputs": [],
   "source": [
    "from gensim.models.word2vec import Word2Vec, LineSentence\n",
    "import os"
   ]
  },
  {
   "cell_type": "code",
   "execution_count": 2,
   "metadata": {},
   "outputs": [],
   "source": [
    "sentences = LineSentence('../chapter09/work/r100corpus_combined_country.txt')"
   ]
  },
  {
   "cell_type": "code",
   "execution_count": 3,
   "metadata": {},
   "outputs": [],
   "source": [
    "def load_model(file):\n",
    "    if not os.path.isfile(file):\n",
    "        sentences = LineSentence('../chapter09/work/r100corpus_combined_country.txt')\n",
    "        model = Word2Vec(sentences, size=300)\n",
    "        model.save(file)\n",
    "    else:\n",
    "        model = Word2Vec.load(file)\n",
    "        \n",
    "    return model"
   ]
  },
  {
   "cell_type": "code",
   "execution_count": 4,
   "metadata": {},
   "outputs": [],
   "source": [
    "model = load_model('work/word2vec.model')"
   ]
  },
  {
   "cell_type": "markdown",
   "metadata": {},
   "source": [
    "#### 86. 単語ベクトルの表示\n",
    "\"United States\"のベクトルを表示"
   ]
  },
  {
   "cell_type": "code",
   "execution_count": 5,
   "metadata": {},
   "outputs": [
    {
     "data": {
      "text/plain": [
       "array([-0.39918524,  1.6275082 , -0.03158157, -1.0508264 ,  0.7450633 ,\n",
       "        0.08392487, -0.6631644 , -1.3627996 , -1.193642  , -0.1304013 ,\n",
       "        0.91712755, -0.29565075,  1.233774  , -1.3295834 , -1.0218163 ,\n",
       "        0.43762198,  0.39496797, -0.02275567, -0.3512264 , -1.0583937 ,\n",
       "        0.40810707, -0.17909911, -0.6921544 ,  0.576122  ,  0.43610662,\n",
       "        0.2877446 , -0.63550216,  0.90449506,  0.5426381 , -1.5173872 ,\n",
       "       -0.6387959 , -0.24042742,  1.2286286 ,  0.27911547,  0.13098444,\n",
       "        0.42480892,  0.16086379,  0.48530486, -0.1367446 ,  0.2853525 ,\n",
       "        1.6760153 ,  0.5585718 , -0.81648093,  0.72065455, -1.3680999 ,\n",
       "       -0.27830347,  0.4984848 , -1.1917913 ,  1.2749944 ,  0.6301701 ,\n",
       "        0.91613984,  0.596065  ,  1.6857902 ,  0.22232568,  0.0985966 ,\n",
       "       -0.32705802,  0.3481155 , -0.02558036, -1.1109737 ,  0.47637683,\n",
       "        0.8352573 , -2.337108  ,  0.26818934, -0.18473868,  0.37938026,\n",
       "       -0.03181527, -0.79486793,  1.7869661 ,  0.3414846 ,  0.6962425 ,\n",
       "       -1.5508215 ,  0.10765113,  1.3930069 , -0.49298704,  0.9265789 ,\n",
       "        1.0404344 , -1.1633136 , -0.7725915 , -0.97659147,  0.6659269 ,\n",
       "        0.9327355 , -1.1887648 ,  0.67061394,  0.568709  , -0.46518946,\n",
       "       -0.08801551,  0.42434314, -1.0796295 ,  0.46594733,  0.05908769,\n",
       "       -0.15591608, -0.723487  ,  0.30602366,  0.0414072 , -0.52692217,\n",
       "       -0.7383766 , -1.2546041 ,  0.20656985,  0.13109834,  0.27619147,\n",
       "       -1.0617139 , -0.05827186,  1.2441036 ,  0.94270384, -0.09517206,\n",
       "       -0.28506476, -0.37573442,  0.58042234,  0.06787807, -0.92684656,\n",
       "       -0.4848097 , -1.4166403 , -0.86767155, -0.10791954, -0.32990897,\n",
       "        1.5671916 ,  0.08775045,  1.0973276 , -0.13154793, -0.14375672,\n",
       "       -0.21804772,  0.96613485,  0.5071823 , -0.42424294,  0.3348511 ,\n",
       "       -0.46348912,  1.6692975 , -1.5326688 ,  0.12566827, -1.241405  ,\n",
       "        1.0392329 ,  0.23915227, -0.15671177,  0.01466658,  0.5584478 ,\n",
       "        1.2609183 , -1.5355136 , -0.43499872,  0.97976816, -0.13740842,\n",
       "        0.14100339, -0.4866653 ,  0.6609366 ,  0.48483923, -0.6475817 ,\n",
       "        0.2293771 ,  0.85052776, -1.3753991 , -0.5409548 , -1.3513026 ,\n",
       "        0.4824293 , -0.11212028,  0.2803252 , -0.9397563 , -1.2415344 ,\n",
       "        0.7371982 , -0.518761  , -0.5304286 ,  0.2926807 , -0.6321192 ,\n",
       "        0.0921004 , -1.7132533 , -0.6385377 , -0.19665566,  1.7307616 ,\n",
       "       -0.18680711, -0.66966146,  0.35430035,  0.6232296 , -0.6079748 ,\n",
       "        0.1291515 , -0.56616217,  1.4204404 , -0.7086851 ,  0.5115007 ,\n",
       "        1.2674601 ,  0.30013433,  0.02080053,  0.51817906,  0.9890101 ,\n",
       "       -0.6924582 ,  0.06570467, -0.492657  ,  1.166742  , -0.6677564 ,\n",
       "       -0.12622878,  0.33862782, -0.8050301 , -0.09688669, -0.5195123 ,\n",
       "        0.5970781 , -0.5313743 , -0.7903185 ,  0.8795295 ,  0.03625426,\n",
       "        0.8429306 , -1.3751023 ,  1.1630677 ,  0.35991576,  0.4703274 ,\n",
       "        1.4995472 ,  0.30473304, -0.88937205, -0.763489  ,  0.904365  ,\n",
       "       -1.3882223 ,  0.3567005 , -1.0877872 ,  0.7279851 ,  0.03602333,\n",
       "       -1.5605229 ,  0.03642406,  0.28264576, -0.9958511 ,  0.6501399 ,\n",
       "        0.24625029, -0.20252803, -0.04541654, -1.0523702 ,  2.1558568 ,\n",
       "       -0.44465736, -0.2764487 , -0.91650105,  0.98684555,  1.5387589 ,\n",
       "        0.06620973,  0.1042197 ,  0.0890528 ,  1.3715707 ,  0.80558044,\n",
       "        1.4067113 ,  0.57111746,  0.46799898, -0.08143996, -0.5928496 ,\n",
       "        0.4096427 , -0.9849295 ,  0.551856  ,  0.11903825,  0.62233263,\n",
       "       -0.57109797, -1.3455553 ,  0.02958547,  0.15152748, -0.5353763 ,\n",
       "        0.1783786 , -0.84847766,  0.8462867 ,  0.33139145,  1.7621574 ,\n",
       "        0.04975056,  0.5501947 ,  0.27900764, -0.7939185 ,  0.9220686 ,\n",
       "        0.2985607 ,  0.00765472, -0.158528  , -0.42545795,  0.99249876,\n",
       "       -1.0472383 ,  1.395407  ,  0.03781983,  0.34369874,  0.29231146,\n",
       "       -0.6116553 ,  0.4157801 , -0.7480304 ,  0.4877423 , -0.6880405 ,\n",
       "        0.6975553 ,  0.9795672 ,  0.11188542, -0.3935211 , -0.80475366,\n",
       "        1.7599261 , -1.484894  , -0.7049583 , -0.26741213,  0.03922719,\n",
       "        0.08096206,  0.50435835,  0.96406746,  0.6394786 ,  0.5180566 ,\n",
       "        0.08983529, -0.81180465, -0.07384318, -1.3243698 ,  1.3163923 ,\n",
       "        0.7224366 ,  0.03877204, -0.5145192 ,  0.7975924 , -1.4393554 ,\n",
       "        0.18006063, -0.80589867, -0.44074395, -0.47787416,  1.0788115 ],\n",
       "      dtype=float32)"
      ]
     },
     "execution_count": 5,
     "metadata": {},
     "output_type": "execute_result"
    }
   ],
   "source": [
    "model.wv['United_States']"
   ]
  },
  {
   "cell_type": "markdown",
   "metadata": {},
   "source": [
    "#### 87. 単語の類似度\n",
    "\"United States\"と\"U.S.\"のコサイン類似度"
   ]
  },
  {
   "cell_type": "code",
   "execution_count": 6,
   "metadata": {},
   "outputs": [
    {
     "data": {
      "text/plain": [
       "0.8683278"
      ]
     },
     "execution_count": 6,
     "metadata": {},
     "output_type": "execute_result"
    }
   ],
   "source": [
    "model.wv.similarity('United_States', 'U.S')"
   ]
  },
  {
   "cell_type": "markdown",
   "metadata": {},
   "source": [
    "#### 88. 類似度の高い単語10件\n",
    "\"England\"とコサイン類似度が高い10語"
   ]
  },
  {
   "cell_type": "code",
   "execution_count": 7,
   "metadata": {},
   "outputs": [
    {
     "data": {
      "text/plain": [
       "[('Wales', 0.7598101496696472),\n",
       " ('Scotland', 0.7462948560714722),\n",
       " ('Britain', 0.6165431141853333),\n",
       " ('Ireland', 0.6139339208602905),\n",
       " ('Hampshire', 0.5881649851799011),\n",
       " ('London', 0.5837011337280273),\n",
       " ('Liverpool', 0.574505090713501),\n",
       " ('Manchester', 0.5709991455078125),\n",
       " ('Plymouth', 0.5571392178535461),\n",
       " ('Sweden', 0.5500072240829468)]"
      ]
     },
     "execution_count": 7,
     "metadata": {},
     "output_type": "execute_result"
    }
   ],
   "source": [
    "model.wv.most_similar(\"England\")"
   ]
  },
  {
   "cell_type": "markdown",
   "metadata": {},
   "source": [
    "#### 89. 加法構成性によるアナロジー\n",
    "vec(\"Spain\") - vec(\"Madrid\") + vec(\"Athens\") と類似度の高い10語"
   ]
  },
  {
   "cell_type": "code",
   "execution_count": 8,
   "metadata": {},
   "outputs": [
    {
     "data": {
      "text/plain": [
       "[('Egypt', 0.7569804787635803),\n",
       " ('Denmark', 0.7458221912384033),\n",
       " ('Austria', 0.7424006462097168),\n",
       " ('Russia', 0.7321890592575073),\n",
       " ('Italy', 0.7285626530647278),\n",
       " ('Greece', 0.7248588800430298),\n",
       " ('Rome', 0.7219451665878296),\n",
       " ('Bulgaria', 0.7095447778701782),\n",
       " ('Turkey', 0.7076667547225952),\n",
       " ('Germany', 0.698089063167572)]"
      ]
     },
     "execution_count": 8,
     "metadata": {},
     "output_type": "execute_result"
    }
   ],
   "source": [
    "model.wv.most_similar(positive=['Spain', 'Athens'], negative=['Madrid'])"
   ]
  },
  {
   "cell_type": "markdown",
   "metadata": {},
   "source": [
    "## 91. アナロジーデータの準備"
   ]
  },
  {
   "cell_type": "markdown",
   "metadata": {},
   "source": [
    "[単語アナロジーの評価データ](https://github.com/svn2github/word2vec/raw/master/questions-words.txt)をダウンロードせよ．このデータ中で\": \"で始まる行はセクション名を表す．例えば，\": capital-common-countries\"という行は，\"capital-common-countries\"というセクションの開始を表している．ダウンロードした評価データの中で，\"family\"というセクションに含まれる評価事例を抜き出してファイルに保存せよ．"
   ]
  },
  {
   "cell_type": "code",
   "execution_count": 9,
   "metadata": {},
   "outputs": [
    {
     "name": "stdout",
     "output_type": "stream",
     "text": [
      "--2019-02-18 11:42:04--  http://download.tensorflow.org/data/questions-words.txt\n",
      "download.tensorflow.org (download.tensorflow.org) をDNSに問いあわせています... 216.58.197.144\n",
      "download.tensorflow.org (download.tensorflow.org)|216.58.197.144|:80 に接続しています... 接続しました。\n",
      "HTTP による接続要求を送信しました、応答を待っています... 304 Not Modified\n",
      "ファイル `data/questions-words.txt' はサーバ側で変更されていませんでした。ダウンロードを省略します。\n",
      "\n"
     ]
    }
   ],
   "source": [
    "!wget -NP 'data/' http://download.tensorflow.org/data/questions-words.txt"
   ]
  },
  {
   "cell_type": "code",
   "execution_count": 10,
   "metadata": {},
   "outputs": [],
   "source": [
    "!/usr/local/bin/pcregrep -M ': family[\\S\\s]*:' 'data/questions-words.txt' | grep -v ':' > work/family.txt"
   ]
  },
  {
   "cell_type": "code",
   "execution_count": 11,
   "metadata": {},
   "outputs": [
    {
     "name": "stdout",
     "output_type": "stream",
     "text": [
      "506 work/family.txt\n"
     ]
    }
   ],
   "source": [
    "!wc -l work/family.txt"
   ]
  },
  {
   "cell_type": "code",
   "execution_count": 12,
   "metadata": {},
   "outputs": [
    {
     "name": "stdout",
     "output_type": "stream",
     "text": [
      "boy girl brother sister\n",
      "boy girl brothers sisters\n",
      "boy girl dad mom\n",
      "boy girl father mother\n",
      "boy girl grandfather grandmother\n",
      "boy girl grandpa grandma\n",
      "boy girl grandson granddaughter\n",
      "boy girl groom bride\n",
      "boy girl he she\n",
      "boy girl his her\n"
     ]
    }
   ],
   "source": [
    "!head work/family.txt"
   ]
  },
  {
   "cell_type": "markdown",
   "metadata": {},
   "source": [
    "### memo"
   ]
  },
  {
   "cell_type": "markdown",
   "metadata": {},
   "source": [
    "more_itertools : [split_before](https://more-itertools.readthedocs.io/en/stable/api.html#more_itertools.split_before)  \n",
    "more_itertools : [with_iter](https://more-itertools.readthedocs.io/en/stable/api.html#more_itertools.with_iter)  \n",
    "[コードゴルフ](http://golf.shinh.org/)"
   ]
  },
  {
   "cell_type": "markdown",
   "metadata": {},
   "source": [
    "## 92. アナロジーデータへの適用"
   ]
  },
  {
   "cell_type": "markdown",
   "metadata": {},
   "source": [
    "\n",
    "91で作成した評価データの各事例に対して，vec(2列目の単語) - vec(1列目の単語) + vec(3列目の単語)を計算し，そのベクトルと類似度が最も高い単語と，その類似度を求めよ．求めた単語と類似度は，各事例の末尾に追記せよ．このプログラムを85で作成した単語ベクトル，90で作成した単語ベクトルに対して適用せよ．"
   ]
  },
  {
   "cell_type": "markdown",
   "metadata": {},
   "source": [
    "### 単語共起行列 (Q.85)"
   ]
  },
  {
   "cell_type": "code",
   "execution_count": 13,
   "metadata": {},
   "outputs": [],
   "source": [
    "import pickle\n",
    "import json\n",
    "import numpy as np\n",
    "from itertools import islice\n",
    "from tqdm import tqdm\n",
    "from sklearn.metrics.pairwise import cosine_similarity"
   ]
  },
  {
   "cell_type": "code",
   "execution_count": 14,
   "metadata": {},
   "outputs": [],
   "source": [
    "with open('../chapter09/work/r100_compressed_matrix.pickle', 'rb') as fi:\n",
    "    matrix = pickle.load(fi)\n",
    "    \n",
    "with open('../chapter09/work/word2index.json') as fi:\n",
    "    word2index = json.load(fi)"
   ]
  },
  {
   "cell_type": "code",
   "execution_count": 15,
   "metadata": {},
   "outputs": [],
   "source": [
    "# word2indexに登場するものにmatrixを絞る (次元数 : 38万 -> 3万)\n",
    "indices = np.array([i for i in word2index.values()])\n",
    "matrix = matrix[indices]\n",
    "\n",
    "# 使う\n",
    "index2word = {v : k for k, v in word2index.items()}"
   ]
  },
  {
   "cell_type": "code",
   "execution_count": 16,
   "metadata": {},
   "outputs": [],
   "source": [
    "def most_similar(vec, matrix, index2word):\n",
    "    sim_vec = cosine_similarity(vec.reshape(1, -1), matrix)[0]\n",
    "    index = np.argsort(sim_vec)[-1]\n",
    "\n",
    "    return (index2word[index],  sim_vec[index])"
   ]
  },
  {
   "cell_type": "code",
   "execution_count": 17,
   "metadata": {},
   "outputs": [],
   "source": [
    "if not os.path.isfile('work/family_score_SVD.txt'):\n",
    "    with open('work/family.txt') as fi, open('work/family_score_SVD.txt', 'w') as fo:\n",
    "        for line in tqdm(fi):\n",
    "            w1, w2, w3, _ = line.rstrip().split()\n",
    "            \n",
    "            # 単語が辞書に入っているのか判定\n",
    "            if all(w in word2index for w in (w1, w2, w3)):\n",
    "                \n",
    "                # vecを作る\n",
    "                vec = matrix[word2index[w2]] - matrix[word2index[w1]] + matrix[word2index[w3]]\n",
    "                \n",
    "                # most similarを出す\n",
    "                word, score = most_similar(vec, matrix, index2word)\n",
    "                print(line.rstrip(), word, score, file=fo)"
   ]
  },
  {
   "cell_type": "markdown",
   "metadata": {},
   "source": [
    "↑ 27秒"
   ]
  },
  {
   "cell_type": "code",
   "execution_count": 18,
   "metadata": {},
   "outputs": [
    {
     "name": "stdout",
     "output_type": "stream",
     "text": [
      "boy girl brother sister brother 0.961344653391538\n",
      "boy girl brothers sisters brothers 0.8682660243777793\n",
      "boy girl dad mom Vivian 0.8530678640077243\n",
      "boy girl father mother father 0.95541091925705\n",
      "boy girl grandfather grandmother grandfather 0.8564090037056784\n",
      "boy girl grandson granddaughter girl 0.6689458228639049\n",
      "boy girl groom bride girl 0.6200835347546412\n",
      "boy girl he she he 0.9958318470547459\n",
      "boy girl his her his 0.997893331133215\n",
      "boy girl husband wife husband 0.9625226863848895\n"
     ]
    }
   ],
   "source": [
    "!head 'work/family_score_SVD.txt'"
   ]
  },
  {
   "cell_type": "markdown",
   "metadata": {},
   "source": [
    "### word2vec (Q.90)"
   ]
  },
  {
   "cell_type": "code",
   "execution_count": 19,
   "metadata": {},
   "outputs": [],
   "source": [
    "if not os.path.isfile('work/family_score_word2vec.txt'):\n",
    "    with open('work/family.txt') as fi, open('work/family_score_word2vec.txt', 'w') as fo:\n",
    "        for line in fi:\n",
    "            w1, w2, w3, _ = line.rstrip().split()\n",
    "            if all(w in model.wv.vocab for w in (w1, w2, w3)):\n",
    "                word, score = model.wv.most_similar(positive=[w2, w3], negative=[w1], topn=1)[0]\n",
    "                print(line.rstrip(), word, score, file=fo)"
   ]
  },
  {
   "cell_type": "code",
   "execution_count": 20,
   "metadata": {},
   "outputs": [
    {
     "name": "stdout",
     "output_type": "stream",
     "text": [
      "boy girl brother sister grandmother 0.7366082072257996\n",
      "boy girl brothers sisters sisters 0.8386819958686829\n",
      "boy girl dad mom boyfriend 0.8005956411361694\n",
      "boy girl father mother mother 0.8703224062919617\n",
      "boy girl grandfather grandmother uncle 0.8384405374526978\n",
      "boy girl grandson granddaughter granddaughter 0.8561803102493286\n",
      "boy girl groom bride Dadaji 0.6848305463790894\n",
      "boy girl he she she 0.7835911512374878\n",
      "boy girl his her her 0.6596901416778564\n",
      "boy girl husband wife wife 0.7216916680335999\n"
     ]
    }
   ],
   "source": [
    "!head 'work/family_score_word2vec.txt'"
   ]
  },
  {
   "cell_type": "markdown",
   "metadata": {},
   "source": [
    "### memo"
   ]
  },
  {
   "cell_type": "markdown",
   "metadata": {},
   "source": [
    "`f'{評価} {評価}'`"
   ]
  },
  {
   "cell_type": "markdown",
   "metadata": {},
   "source": [
    "## 93. アナロジータスクの正解率の計算"
   ]
  },
  {
   "cell_type": "markdown",
   "metadata": {},
   "source": [
    "92で作ったデータを用い，各モデルのアナロジータスクの正解率を求めよ．"
   ]
  },
  {
   "cell_type": "code",
   "execution_count": 21,
   "metadata": {},
   "outputs": [],
   "source": [
    "def accuracy(file):\n",
    "    correct, total = 0, 0\n",
    "    \n",
    "    with open(file) as fi:\n",
    "        for line in fi:\n",
    "            _, _, _, gold, predict, score = line.strip().split()\n",
    "            \n",
    "            total += 1\n",
    "            if gold == predict:\n",
    "                correct += 1\n",
    "                \n",
    "    return correct / total"
   ]
  },
  {
   "cell_type": "code",
   "execution_count": 22,
   "metadata": {},
   "outputs": [
    {
     "data": {
      "text/plain": [
       "0.04093567251461988"
      ]
     },
     "execution_count": 22,
     "metadata": {},
     "output_type": "execute_result"
    }
   ],
   "source": [
    "accuracy('work/family_score_SVD.txt')"
   ]
  },
  {
   "cell_type": "code",
   "execution_count": 23,
   "metadata": {},
   "outputs": [
    {
     "data": {
      "text/plain": [
       "0.5025"
      ]
     },
     "execution_count": 23,
     "metadata": {},
     "output_type": "execute_result"
    }
   ],
   "source": [
    "accuracy('work/family_score_word2vec.txt')"
   ]
  },
  {
   "cell_type": "markdown",
   "metadata": {},
   "source": [
    "### memo"
   ]
  },
  {
   "cell_type": "markdown",
   "metadata": {},
   "source": [
    "`from sklearn.metrics import accuracy_score`"
   ]
  },
  {
   "cell_type": "markdown",
   "metadata": {},
   "source": [
    "## 94. WordSimilarity-353での類似度計算"
   ]
  },
  {
   "cell_type": "markdown",
   "metadata": {},
   "source": [
    "[The WordSimilarity-353 Test Collection](http://www.cs.technion.ac.il/~gabr/resources/data/wordsim353/)の評価データを入力とし，1列目と2列目の単語の類似度を計算し，各行の末尾に類似度の値を追加するプログラムを作成せよ．このプログラムを85で作成した単語ベクトル，90で作成した単語ベクトルに対して適用せよ．"
   ]
  },
  {
   "cell_type": "code",
   "execution_count": 24,
   "metadata": {},
   "outputs": [
    {
     "name": "stdout",
     "output_type": "stream",
     "text": [
      "--2019-02-18 11:42:19--  http://www.cs.technion.ac.il/~gabr/resources/data/wordsim353/wordsim353.zip\n",
      "www.cs.technion.ac.il (www.cs.technion.ac.il) をDNSに問いあわせています... 132.68.32.15\n",
      "www.cs.technion.ac.il (www.cs.technion.ac.il)|132.68.32.15|:80 に接続しています... 接続しました。\n",
      "HTTP による接続要求を送信しました、応答を待っています... 304 Not Modified\n",
      "ファイル `data/wordsim353.zip' はサーバ側で変更されていませんでした。ダウンロードを省略します。\n",
      "\n"
     ]
    }
   ],
   "source": [
    "!wget -NP data http://www.cs.technion.ac.il/~gabr/resources/data/wordsim353/wordsim353.zip"
   ]
  },
  {
   "cell_type": "code",
   "execution_count": 25,
   "metadata": {},
   "outputs": [],
   "source": [
    "if not os.path.exists('data/wordsim353'):\n",
    "    !unzip -d data data/wordsim353.zip"
   ]
  },
  {
   "cell_type": "code",
   "execution_count": 26,
   "metadata": {},
   "outputs": [
    {
     "name": "stdout",
     "output_type": "stream",
     "text": [
      "Word 1\tWord 2\tHuman (mean)\n",
      "love\tsex\t6.77\n",
      "tiger\tcat\t7.35\n",
      "tiger\ttiger\t10.00\n",
      "book\tpaper\t7.46\n",
      "computer\tkeyboard\t7.62\n",
      "computer\tinternet\t7.58\n",
      "plane\tcar\t5.77\n",
      "train\tcar\t6.31\n",
      "telephone\tcommunication\t7.50\n"
     ]
    }
   ],
   "source": [
    "!head 'data/wordsim353/combined.tab'"
   ]
  },
  {
   "cell_type": "markdown",
   "metadata": {},
   "source": [
    "### 85と90一緒にやる"
   ]
  },
  {
   "cell_type": "code",
   "execution_count": 27,
   "metadata": {},
   "outputs": [],
   "source": [
    "def cos_sim(v1, v2): \n",
    "    return np.dot(v1, v2) / (np.linalg.norm(v1) * np.linalg.norm(v2) + 1e-12)"
   ]
  },
  {
   "cell_type": "code",
   "execution_count": 28,
   "metadata": {},
   "outputs": [],
   "source": [
    "fi = open('data/wordsim353/combined.tab')\n",
    "fo1 = open('work/wordsim_SVD.txt', 'w')\n",
    "fo2 = open('work/wordsim_word2vec.txt', 'w')\n",
    "\n",
    "for idx, line in enumerate(fi):\n",
    "    if idx != 0:\n",
    "        w1, w2, _ = line.rstrip().split()\n",
    "        if w1 in word2index and w2 in word2index:\n",
    "            score1 = cos_sim(matrix[word2index[w1]], matrix[word2index[w2]])\n",
    "            score2 = model.wv.similarity(w1, w2)\n",
    "            print(line.rstrip(), score1, file=fo1)\n",
    "            print(line.rstrip(), score2, file=fo2)\n",
    "fi.close()\n",
    "fo1.close()\n",
    "fo2.close()"
   ]
  },
  {
   "cell_type": "markdown",
   "metadata": {},
   "source": [
    "## 95. WordSimilarity-353での評価"
   ]
  },
  {
   "cell_type": "markdown",
   "metadata": {},
   "source": [
    "94で作ったデータを用い，各モデルが出力する類似度のランキングと，人間の類似度判定のランキングの間のスピアマン相関係数を計算せよ．"
   ]
  },
  {
   "cell_type": "code",
   "execution_count": 29,
   "metadata": {},
   "outputs": [],
   "source": [
    "from scipy.stats import spearmanr"
   ]
  },
  {
   "cell_type": "code",
   "execution_count": 30,
   "metadata": {},
   "outputs": [],
   "source": [
    "scores_human, scores_SVD, scores_word2vec = [], [], []\n",
    "with open('work/wordsim_SVD.txt') as fi1, open('work/wordsim_word2vec.txt') as fi2:\n",
    "    for line1, line2 in zip(fi1, fi2):\n",
    "        _, _, score_human, score_SVD = line1.rstrip().split()\n",
    "        _, _, _, score_word2vec = line2.rstrip().split()\n",
    "        scores_human.append(float(score_human))\n",
    "        scores_SVD.append(float(score_SVD))\n",
    "        scores_word2vec.append(float(score_word2vec))"
   ]
  },
  {
   "cell_type": "code",
   "execution_count": 31,
   "metadata": {},
   "outputs": [
    {
     "data": {
      "text/plain": [
       "0.34201551026775623"
      ]
     },
     "execution_count": 31,
     "metadata": {},
     "output_type": "execute_result"
    }
   ],
   "source": [
    "spearmanr(scores_human, scores_SVD).correlation"
   ]
  },
  {
   "cell_type": "code",
   "execution_count": 32,
   "metadata": {},
   "outputs": [
    {
     "data": {
      "text/plain": [
       "0.5834875128992638"
      ]
     },
     "execution_count": 32,
     "metadata": {},
     "output_type": "execute_result"
    }
   ],
   "source": [
    "spearmanr(scores_human, scores_word2vec).correlation"
   ]
  },
  {
   "cell_type": "markdown",
   "metadata": {},
   "source": [
    "### memo"
   ]
  },
  {
   "cell_type": "markdown",
   "metadata": {},
   "source": [
    "`pandas.DataFrame.corr(\"spearman\")`でスピアマンの相関係数が計算できる"
   ]
  },
  {
   "cell_type": "markdown",
   "metadata": {},
   "source": [
    "## 96. 国名に関するベクトルの抽出"
   ]
  },
  {
   "cell_type": "markdown",
   "metadata": {},
   "source": [
    "word2vecの学習結果から，国名に関するベクトルのみを抜き出せ．"
   ]
  },
  {
   "cell_type": "code",
   "execution_count": 33,
   "metadata": {},
   "outputs": [],
   "source": [
    "import pandas as pd\n",
    "import string"
   ]
  },
  {
   "cell_type": "markdown",
   "metadata": {},
   "source": [
    "### 国名取得"
   ]
  },
  {
   "cell_type": "code",
   "execution_count": 34,
   "metadata": {},
   "outputs": [],
   "source": [
    "url = \"http://www.jal.co.jp/5931/readme/code.html\"\n",
    "table = pd.read_html(url)[0]\n",
    "countries = [_.replace(' ', '_').strip(string.punctuation) for _ in table[1][1:]]"
   ]
  },
  {
   "cell_type": "markdown",
   "metadata": {},
   "source": [
    "### 国名ベクトル抽出"
   ]
  },
  {
   "cell_type": "code",
   "execution_count": 35,
   "metadata": {},
   "outputs": [],
   "source": [
    "country_vecs = {c : model.wv[c] for c in countries if c in word2index}"
   ]
  },
  {
   "cell_type": "markdown",
   "metadata": {},
   "source": [
    "### 確認"
   ]
  },
  {
   "cell_type": "code",
   "execution_count": 36,
   "metadata": {},
   "outputs": [
    {
     "name": "stdout",
     "output_type": "stream",
     "text": [
      "171\n"
     ]
    },
    {
     "data": {
      "text/plain": [
       "array([-0.39918524,  1.6275082 , -0.03158157, -1.0508264 ,  0.7450633 ,\n",
       "        0.08392487, -0.6631644 , -1.3627996 , -1.193642  , -0.1304013 ,\n",
       "        0.91712755, -0.29565075,  1.233774  , -1.3295834 , -1.0218163 ,\n",
       "        0.43762198,  0.39496797, -0.02275567, -0.3512264 , -1.0583937 ,\n",
       "        0.40810707, -0.17909911, -0.6921544 ,  0.576122  ,  0.43610662,\n",
       "        0.2877446 , -0.63550216,  0.90449506,  0.5426381 , -1.5173872 ,\n",
       "       -0.6387959 , -0.24042742,  1.2286286 ,  0.27911547,  0.13098444,\n",
       "        0.42480892,  0.16086379,  0.48530486, -0.1367446 ,  0.2853525 ,\n",
       "        1.6760153 ,  0.5585718 , -0.81648093,  0.72065455, -1.3680999 ,\n",
       "       -0.27830347,  0.4984848 , -1.1917913 ,  1.2749944 ,  0.6301701 ,\n",
       "        0.91613984,  0.596065  ,  1.6857902 ,  0.22232568,  0.0985966 ,\n",
       "       -0.32705802,  0.3481155 , -0.02558036, -1.1109737 ,  0.47637683,\n",
       "        0.8352573 , -2.337108  ,  0.26818934, -0.18473868,  0.37938026,\n",
       "       -0.03181527, -0.79486793,  1.7869661 ,  0.3414846 ,  0.6962425 ,\n",
       "       -1.5508215 ,  0.10765113,  1.3930069 , -0.49298704,  0.9265789 ,\n",
       "        1.0404344 , -1.1633136 , -0.7725915 , -0.97659147,  0.6659269 ,\n",
       "        0.9327355 , -1.1887648 ,  0.67061394,  0.568709  , -0.46518946,\n",
       "       -0.08801551,  0.42434314, -1.0796295 ,  0.46594733,  0.05908769,\n",
       "       -0.15591608, -0.723487  ,  0.30602366,  0.0414072 , -0.52692217,\n",
       "       -0.7383766 , -1.2546041 ,  0.20656985,  0.13109834,  0.27619147,\n",
       "       -1.0617139 , -0.05827186,  1.2441036 ,  0.94270384, -0.09517206,\n",
       "       -0.28506476, -0.37573442,  0.58042234,  0.06787807, -0.92684656,\n",
       "       -0.4848097 , -1.4166403 , -0.86767155, -0.10791954, -0.32990897,\n",
       "        1.5671916 ,  0.08775045,  1.0973276 , -0.13154793, -0.14375672,\n",
       "       -0.21804772,  0.96613485,  0.5071823 , -0.42424294,  0.3348511 ,\n",
       "       -0.46348912,  1.6692975 , -1.5326688 ,  0.12566827, -1.241405  ,\n",
       "        1.0392329 ,  0.23915227, -0.15671177,  0.01466658,  0.5584478 ,\n",
       "        1.2609183 , -1.5355136 , -0.43499872,  0.97976816, -0.13740842,\n",
       "        0.14100339, -0.4866653 ,  0.6609366 ,  0.48483923, -0.6475817 ,\n",
       "        0.2293771 ,  0.85052776, -1.3753991 , -0.5409548 , -1.3513026 ,\n",
       "        0.4824293 , -0.11212028,  0.2803252 , -0.9397563 , -1.2415344 ,\n",
       "        0.7371982 , -0.518761  , -0.5304286 ,  0.2926807 , -0.6321192 ,\n",
       "        0.0921004 , -1.7132533 , -0.6385377 , -0.19665566,  1.7307616 ,\n",
       "       -0.18680711, -0.66966146,  0.35430035,  0.6232296 , -0.6079748 ,\n",
       "        0.1291515 , -0.56616217,  1.4204404 , -0.7086851 ,  0.5115007 ,\n",
       "        1.2674601 ,  0.30013433,  0.02080053,  0.51817906,  0.9890101 ,\n",
       "       -0.6924582 ,  0.06570467, -0.492657  ,  1.166742  , -0.6677564 ,\n",
       "       -0.12622878,  0.33862782, -0.8050301 , -0.09688669, -0.5195123 ,\n",
       "        0.5970781 , -0.5313743 , -0.7903185 ,  0.8795295 ,  0.03625426,\n",
       "        0.8429306 , -1.3751023 ,  1.1630677 ,  0.35991576,  0.4703274 ,\n",
       "        1.4995472 ,  0.30473304, -0.88937205, -0.763489  ,  0.904365  ,\n",
       "       -1.3882223 ,  0.3567005 , -1.0877872 ,  0.7279851 ,  0.03602333,\n",
       "       -1.5605229 ,  0.03642406,  0.28264576, -0.9958511 ,  0.6501399 ,\n",
       "        0.24625029, -0.20252803, -0.04541654, -1.0523702 ,  2.1558568 ,\n",
       "       -0.44465736, -0.2764487 , -0.91650105,  0.98684555,  1.5387589 ,\n",
       "        0.06620973,  0.1042197 ,  0.0890528 ,  1.3715707 ,  0.80558044,\n",
       "        1.4067113 ,  0.57111746,  0.46799898, -0.08143996, -0.5928496 ,\n",
       "        0.4096427 , -0.9849295 ,  0.551856  ,  0.11903825,  0.62233263,\n",
       "       -0.57109797, -1.3455553 ,  0.02958547,  0.15152748, -0.5353763 ,\n",
       "        0.1783786 , -0.84847766,  0.8462867 ,  0.33139145,  1.7621574 ,\n",
       "        0.04975056,  0.5501947 ,  0.27900764, -0.7939185 ,  0.9220686 ,\n",
       "        0.2985607 ,  0.00765472, -0.158528  , -0.42545795,  0.99249876,\n",
       "       -1.0472383 ,  1.395407  ,  0.03781983,  0.34369874,  0.29231146,\n",
       "       -0.6116553 ,  0.4157801 , -0.7480304 ,  0.4877423 , -0.6880405 ,\n",
       "        0.6975553 ,  0.9795672 ,  0.11188542, -0.3935211 , -0.80475366,\n",
       "        1.7599261 , -1.484894  , -0.7049583 , -0.26741213,  0.03922719,\n",
       "        0.08096206,  0.50435835,  0.96406746,  0.6394786 ,  0.5180566 ,\n",
       "        0.08983529, -0.81180465, -0.07384318, -1.3243698 ,  1.3163923 ,\n",
       "        0.7224366 ,  0.03877204, -0.5145192 ,  0.7975924 , -1.4393554 ,\n",
       "        0.18006063, -0.80589867, -0.44074395, -0.47787416,  1.0788115 ],\n",
       "      dtype=float32)"
      ]
     },
     "execution_count": 36,
     "metadata": {},
     "output_type": "execute_result"
    }
   ],
   "source": [
    "print(len(country_vecs))\n",
    "country_vecs['United_States']"
   ]
  },
  {
   "cell_type": "markdown",
   "metadata": {},
   "source": [
    "## 97. k-meansクラスタリング"
   ]
  },
  {
   "cell_type": "markdown",
   "metadata": {},
   "source": [
    "96の単語ベクトルに対して，k-meansクラスタリングをクラスタ数$k=5$として実行せよ．"
   ]
  },
  {
   "cell_type": "code",
   "execution_count": 37,
   "metadata": {},
   "outputs": [],
   "source": [
    "from sklearn.cluster import KMeans"
   ]
  },
  {
   "cell_type": "code",
   "execution_count": 38,
   "metadata": {},
   "outputs": [],
   "source": [
    "predict = KMeans(n_clusters=5).fit_predict(list(country_vecs.values()))"
   ]
  },
  {
   "cell_type": "markdown",
   "metadata": {},
   "source": [
    "### 確認"
   ]
  },
  {
   "cell_type": "code",
   "execution_count": 39,
   "metadata": {},
   "outputs": [
    {
     "name": "stdout",
     "output_type": "stream",
     "text": [
      "Iceland 1\n",
      "Ireland 2\n",
      "Azerbaijan 0\n",
      "Afghanistan 0\n",
      "United_States 4\n",
      "American_Samoa 1\n",
      "United_Arab_Emirates 1\n",
      "Algeria 0\n",
      "Argentina 0\n",
      "Albania 0\n"
     ]
    }
   ],
   "source": [
    "for name, label in islice(zip(country_vecs, predict), 10):\n",
    "    print(name, label)"
   ]
  },
  {
   "cell_type": "markdown",
   "metadata": {},
   "source": [
    "## 98. Ward法によるクラスタリング"
   ]
  },
  {
   "cell_type": "markdown",
   "metadata": {},
   "source": [
    "96の単語ベクトルに対して，Ward法による階層型クラスタリングを実行せよ．さらに，クラスタリング結果をデンドログラムとして可視化せよ．"
   ]
  },
  {
   "cell_type": "markdown",
   "metadata": {},
   "source": [
    "[scipy.cluster.hierarchy.linkage](https://docs.scipy.org/doc/scipy/reference/generated/scipy.cluster.hierarchy.linkage.html#scipy.cluster.hierarchy.linkage)"
   ]
  },
  {
   "cell_type": "code",
   "execution_count": 40,
   "metadata": {},
   "outputs": [],
   "source": [
    "from scipy.cluster.hierarchy import dendrogram, linkage\n",
    "import matplotlib.pyplot as plt"
   ]
  },
  {
   "cell_type": "code",
   "execution_count": null,
   "metadata": {},
   "outputs": [],
   "source": [
    "Z = linkage(list(country_vecs.values()), method='ward')\n",
    "fig = plt.figure(figsize=(15, 64))\n",
    "dn = dendrogram(Z, labels=list(country_vecs.keys()), leaf_font_size=16, orientation='right')"
   ]
  },
  {
   "cell_type": "markdown",
   "metadata": {},
   "source": [
    "## 99. t-SNEによる可視化"
   ]
  },
  {
   "cell_type": "markdown",
   "metadata": {},
   "source": [
    "96の単語ベクトルに対して，ベクトル空間をt-SNEで可視化せよ．"
   ]
  },
  {
   "cell_type": "code",
   "execution_count": 43,
   "metadata": {},
   "outputs": [],
   "source": [
    "from sklearn.manifold import TSNE"
   ]
  },
  {
   "cell_type": "code",
   "execution_count": 44,
   "metadata": {},
   "outputs": [],
   "source": [
    "tsne = TSNE(n_components=2).fit_transform(list(country_vecs.values()))"
   ]
  },
  {
   "cell_type": "markdown",
   "metadata": {},
   "source": [
    "### plot"
   ]
  },
  {
   "cell_type": "code",
   "execution_count": 45,
   "metadata": {},
   "outputs": [
    {
     "data": {
      "image/png": "[encoded data removed]",
      "text/plain": [
       "<Figure size 1080x720 with 1 Axes>"
      ]
     },
     "metadata": {
      "needs_background": "light"
     },
     "output_type": "display_data"
    }
   ],
   "source": [
    "colors = ['b', 'g', 'r', 'c', 'm']\n",
    "plt.figure(figsize=(15, 10))\n",
    "for (x, y), label, name in zip(tsne, predict, country_vecs):\n",
    "    plt.plot(x, y, 'o', color=colors[label])\n",
    "    plt.annotate(name, (x, y), size=13)"
   ]
  },
  {
   "cell_type": "code",
   "execution_count": null,
   "metadata": {},
   "outputs": [],
   "source": []
  }
 ],
 "metadata": {
  "kernelspec": {
   "display_name": "Python 3",
   "language": "python",
   "name": "python3"
  },
  "language_info": {
   "codemirror_mode": {
    "name": "ipython",
    "version": 3
   },
   "file_extension": ".py",
   "mimetype": "text/x-python",
   "name": "python",
   "nbconvert_exporter": "python",
   "pygments_lexer": "ipython3",
   "version": "3.6.7"
  }
 },
 "nbformat": 4,
 "nbformat_minor": 2
}
