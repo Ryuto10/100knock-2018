{
 "cells": [
  {
   "cell_type": "markdown",
   "metadata": {},
   "source": [
    "# 第8章: 機械学習\n",
    "本章では，Bo Pang氏とLillian Lee氏が公開している[Movie Review Data](http://www.cs.cornell.edu/people/pabo/movie-review-data/)の[sentence polarity dataset v1.0](http://www.cs.cornell.edu/people/pabo/movie-review-data/rt-polaritydata.README.1.0.txt)を用い，文を肯定的（ポジティブ）もしくは否定的（ネガティブ）に分類するタスク（極性分析）に取り組む．"
   ]
  },
  {
   "cell_type": "markdown",
   "metadata": {},
   "source": [
    "# 70. データの入手・整形\n",
    "\n",
    "[文に関する極性分析の正解データ](http://www.cs.cornell.edu/people/pabo/movie-review-data/rt-polaritydata.tar.gz)を用い，以下の要領で正解データ（sentiment.txt）を作成せよ．\n",
    "\n",
    "1. rt-polarity.posの各行の先頭に\"+1 \"という文字列を追加する（極性ラベル\"+1\"とスペースに続けて肯定的な文の内容が続く）\n",
    "2. rt-polarity.negの各行の先頭に\"-1 \"という文字列を追加する（極性ラベル\"-1\"とスペースに続けて否定的な文の内容が続く）\n",
    "3. 上述1と2の内容を結合（concatenate）し，行をランダムに並び替える\n",
    "\n",
    "sentiment.txtを作成したら，正例（肯定的な文）の数と負例（否定的な文）の数を確認せよ．"
   ]
  },
  {
   "cell_type": "markdown",
   "metadata": {},
   "source": [
    "### データ確認"
   ]
  },
  {
   "cell_type": "code",
   "execution_count": 1,
   "metadata": {},
   "outputs": [
    {
     "name": "stdout",
     "output_type": "stream",
     "text": [
      "5331 data/rt-polaritydata/rt-polarity.pos\n",
      "5331 data/rt-polaritydata/rt-polarity.neg\n"
     ]
    }
   ],
   "source": [
    "!wc -l \"data/rt-polaritydata/rt-polarity.pos\"\n",
    "!wc -l \"data/rt-polaritydata/rt-polarity.neg\""
   ]
  },
  {
   "cell_type": "code",
   "execution_count": 2,
   "metadata": {},
   "outputs": [
    {
     "name": "stdout",
     "output_type": "stream",
     "text": [
      "BINARY\n"
     ]
    }
   ],
   "source": [
    "!nkf -g \"data/rt-polaritydata/rt-polarity.pos\""
   ]
  },
  {
   "cell_type": "code",
   "execution_count": 3,
   "metadata": {},
   "outputs": [
    {
     "name": "stdout",
     "output_type": "stream",
     "text": [
      "{'encoding': 'Windows-1252', 'confidence': 0.73, 'language': ''}\n"
     ]
    }
   ],
   "source": [
    "import chardet\n",
    "with open('data/rt-polaritydata/rt-polarity.pos', 'rb') as f:\n",
    "    print(chardet.detect(f.read()))"
   ]
  },
  {
   "cell_type": "markdown",
   "metadata": {},
   "source": [
    "### 加工"
   ]
  },
  {
   "cell_type": "code",
   "execution_count": 4,
   "metadata": {},
   "outputs": [],
   "source": [
    "# utf-8に変換\n",
    "with open('data/rt-polaritydata/rt-polarity.pos', 'rb') as fi, open('work/utf8.pos', 'w') as fo:\n",
    "        fo.write(fi.read().decode('Windows-1252'))\n",
    "    \n",
    "with open('data/rt-polaritydata/rt-polarity.neg', 'rb') as fi,open('work/utf8.neg', 'w') as fo:\n",
    "        fo.write(fi.read().decode('Windows-1252'))"
   ]
  },
  {
   "cell_type": "code",
   "execution_count": 5,
   "metadata": {},
   "outputs": [],
   "source": [
    "!sed -r 's/^/+1 /g' \"work/utf8.pos\" > \"work/labeled.pos\"\n",
    "!sed -r 's/^/-1 /g' \"work/utf8.neg\" > \"work/labeled.neg\"\n",
    "!paste -d '\\n' \"work/labeled.pos\" \"work/labeled.neg\" | shuf > \"work/sentiment.txt\""
   ]
  },
  {
   "cell_type": "markdown",
   "metadata": {},
   "source": [
    "### 確認"
   ]
  },
  {
   "cell_type": "code",
   "execution_count": 6,
   "metadata": {},
   "outputs": [
    {
     "name": "stdout",
     "output_type": "stream",
     "text": [
      "+1 proves that some movie formulas don't need messing with -- like the big-bug movie . \n",
      "-1 the film never rises above a conventional , two dimension tale\n",
      "-1 the slapstick is labored , and the bigger setpieces flat . \n",
      "-1 despite its dry wit and compassion , the film suffers from a philosophical emptiness and maddeningly sedate pacing . \n",
      "-1 director dirk shafer and co-writer greg hinton ride the dubious divide where gay porn reaches for serious drama . \n",
      "+1 aniston has at last decisively broken with her friends image in an independent film of satiric fire and emotional turmoil . \n",
      "-1 represents the depths to which the girls-behaving-badly film has fallen . \n",
      "+1 you might not buy the ideas . but you'll definitely want the t-shirt . \n",
      "-1 martin scorsese cria um espetáculo visual que não possui alma - um filme esteticamente belo , mas emocionalmente frio . \n",
      "+1 very well written and directed with brutal honesty and respect for its audience . \n"
     ]
    }
   ],
   "source": [
    "!head \"work/sentiment.txt\""
   ]
  },
  {
   "cell_type": "code",
   "execution_count": 7,
   "metadata": {},
   "outputs": [
    {
     "name": "stdout",
     "output_type": "stream",
     "text": [
      "5331\n",
      "5331\n"
     ]
    }
   ],
   "source": [
    "!grep -c '^\\+1' 'work/sentiment.txt'\n",
    "!grep -c '^\\-1' 'work/sentiment.txt'"
   ]
  },
  {
   "cell_type": "markdown",
   "metadata": {},
   "source": [
    "### memo"
   ]
  },
  {
   "cell_type": "markdown",
   "metadata": {},
   "source": [
    "iconv, nkf で utf-8 に 変換できる  \n",
    "nkfは1行消滅するバグ...?"
   ]
  },
  {
   "cell_type": "markdown",
   "metadata": {},
   "source": [
    "# 71. ストップワード\n",
    "\n",
    "英語のストップワードのリスト（ストップリスト）を適当に作成せよ．さらに，引数に与えられた単語（文字列）がストップリストに含まれている場合は真，それ以外は偽を返す関数を実装せよ．さらに，その関数に対するテストを記述せよ．"
   ]
  },
  {
   "cell_type": "markdown",
   "metadata": {},
   "source": [
    "### stop words の作成"
   ]
  },
  {
   "cell_type": "code",
   "execution_count": 1,
   "metadata": {},
   "outputs": [],
   "source": [
    "import nltk\n",
    "from nltk.corpus import stopwords"
   ]
  },
  {
   "cell_type": "code",
   "execution_count": 2,
   "metadata": {},
   "outputs": [
    {
     "name": "stdout",
     "output_type": "stream",
     "text": [
      "[nltk_data] Downloading package stopwords to /Users/ryuto/nltk_data...\n",
      "[nltk_data]   Package stopwords is already up-to-date!\n"
     ]
    }
   ],
   "source": [
    "nltk.download('stopwords')\n",
    "stopWords = set(stopwords.words('english'))"
   ]
  },
  {
   "cell_type": "markdown",
   "metadata": {},
   "source": [
    "### 関数作成"
   ]
  },
  {
   "cell_type": "code",
   "execution_count": 3,
   "metadata": {},
   "outputs": [],
   "source": [
    "def is_stopwords(word):\n",
    "    return word in stopWords"
   ]
  },
  {
   "cell_type": "markdown",
   "metadata": {},
   "source": [
    "### テスト"
   ]
  },
  {
   "cell_type": "code",
   "execution_count": 4,
   "metadata": {},
   "outputs": [],
   "source": [
    "sent = \"this version's no classic like its predecessor , but its pleasures are still plentiful . \""
   ]
  },
  {
   "cell_type": "code",
   "execution_count": 5,
   "metadata": {},
   "outputs": [
    {
     "name": "stdout",
     "output_type": "stream",
     "text": [
      "this : True\n",
      "version's : False\n",
      "no : True\n",
      "classic : False\n",
      "like : False\n",
      "its : True\n",
      "predecessor : False\n",
      ", : False\n",
      "but : True\n",
      "its : True\n",
      "pleasures : False\n",
      "are : True\n",
      "still : False\n",
      "plentiful : False\n",
      ". : False\n"
     ]
    }
   ],
   "source": [
    "words = sent.strip().split()\n",
    "for word in words:\n",
    "    print(\"{} : {}\".format(word, is_stopwords(word)))"
   ]
  },
  {
   "cell_type": "markdown",
   "metadata": {},
   "source": [
    "### memo\n",
    "stop words の数 nltk (318) > sklearn (179)  \n",
    "!pytest () : test〜.pyのtest〜関数を全部実行してくれるモジュール  "
   ]
  },
  {
   "cell_type": "markdown",
   "metadata": {},
   "source": [
    "# 72. 素性抽出\n",
    "\n",
    "極性分析に有用そうな素性を各自で設計し，学習データから素性を抽出せよ．素性としては，レビューからストップワードを除去し，各単語をステミング処理したものが最低限のベースラインとなるであろう．"
   ]
  },
  {
   "cell_type": "code",
   "execution_count": 6,
   "metadata": {},
   "outputs": [],
   "source": [
    "import string"
   ]
  },
  {
   "cell_type": "code",
   "execution_count": 7,
   "metadata": {},
   "outputs": [],
   "source": [
    "def get_feature(sent):\n",
    "    stemmer = nltk.stem.PorterStemmer()\n",
    "    words = [word.strip(string.punctuation) for word in sent.split()]\n",
    "    # remove stopwords\n",
    "    not_stopwords = [word for word in words if word and not is_stopwords(word)]\n",
    "    # stemming\n",
    "    stems = [stemmer.stem(word).strip(string.punctuation) for word in not_stopwords]\n",
    "    \n",
    "    return ' '.join(stems)"
   ]
  },
  {
   "cell_type": "code",
   "execution_count": 8,
   "metadata": {},
   "outputs": [
    {
     "name": "stdout",
     "output_type": "stream",
     "text": [
      "raw : this version's no classic like its predecessor , but its pleasures are still plentiful . \n",
      "feature : version classic like predecessor pleasur still plenti\n"
     ]
    }
   ],
   "source": [
    "print(\"raw : {}\".format(sent))\n",
    "print(\"feature : {}\".format(get_feature(sent)))"
   ]
  },
  {
   "cell_type": "markdown",
   "metadata": {},
   "source": [
    "### memo\n",
    "^  \n",
    "- lower をかける\n",
    "- 毎回stemmerを呼び出しているのがよくなさそう  \n",
    "- for で 3回 まわすより、1回 の for で 処理できるのでは...?"
   ]
  },
  {
   "cell_type": "markdown",
   "metadata": {},
   "source": [
    "### 修正ver"
   ]
  },
  {
   "cell_type": "code",
   "execution_count": 9,
   "metadata": {},
   "outputs": [],
   "source": [
    "def get_feature1(sent, stemmer):\n",
    "    return ' '.join(stemmer.stem(word).strip(string.punctuation)\n",
    "                    for word in sent.split()\n",
    "                    if word not in string.punctuation and not is_stopwords(word))"
   ]
  },
  {
   "cell_type": "code",
   "execution_count": 10,
   "metadata": {},
   "outputs": [
    {
     "name": "stdout",
     "output_type": "stream",
     "text": [
      "raw : this version's no classic like its predecessor , but its pleasures are still plentiful . \n",
      "feature : version classic like predecessor pleasur still plenti\n"
     ]
    }
   ],
   "source": [
    "stemmer = nltk.stem.PorterStemmer()\n",
    "print(\"raw : {}\".format(sent))\n",
    "print(\"feature : {}\".format(get_feature1(sent, stemmer)))"
   ]
  },
  {
   "cell_type": "markdown",
   "metadata": {},
   "source": [
    "# 73. 学習\n",
    "\n",
    "72で抽出した素性を用いて，ロジスティック回帰モデルを学習せよ．"
   ]
  },
  {
   "cell_type": "markdown",
   "metadata": {},
   "source": [
    "https://scikit-learn.org/stable/modules/feature_extraction.html"
   ]
  },
  {
   "cell_type": "code",
   "execution_count": 11,
   "metadata": {},
   "outputs": [],
   "source": [
    "from sklearn.linear_model import LogisticRegression\n",
    "from sklearn.feature_extraction.text import CountVectorizer\n",
    "import numpy as np"
   ]
  },
  {
   "cell_type": "markdown",
   "metadata": {},
   "source": [
    "### データ処理時間の比較\n",
    "- 処理時間を計測したら同じくらいだった(about 3.15s)"
   ]
  },
  {
   "cell_type": "code",
   "execution_count": 12,
   "metadata": {},
   "outputs": [],
   "source": [
    "# パターン1\n",
    "with open(\"work/sentiment.txt\") as f:\n",
    "    x_features = [get_feature1(line.split(' ', 1)[1], stemmer) for line in f]\n",
    "    y_labels = [line.split(' ', 1)[0] for line in f]"
   ]
  },
  {
   "cell_type": "code",
   "execution_count": 13,
   "metadata": {},
   "outputs": [],
   "source": [
    "# パターン2\n",
    "x_features = []\n",
    "y_labels = []\n",
    "with open(\"work/sentiment.txt\") as f:\n",
    "    for line in f:\n",
    "        label, sent = line.split(' ', 1)\n",
    "        x_features.append(get_feature1(sent, stemmer))\n",
    "        y_labels.append(label)"
   ]
  },
  {
   "cell_type": "markdown",
   "metadata": {},
   "source": [
    "### ロジスティック回帰"
   ]
  },
  {
   "cell_type": "code",
   "execution_count": 14,
   "metadata": {},
   "outputs": [],
   "source": [
    "vectorizer = CountVectorizer()\n",
    "xs = vectorizer.fit_transform(x_features)\n",
    "ys_gold = np.array(y_labels)"
   ]
  },
  {
   "cell_type": "code",
   "execution_count": 15,
   "metadata": {},
   "outputs": [
    {
     "name": "stdout",
     "output_type": "stream",
     "text": [
      "(10662, 13381)\n",
      "(10662,)\n"
     ]
    }
   ],
   "source": [
    "print(xs.shape)\n",
    "print(ys_gold.shape)"
   ]
  },
  {
   "cell_type": "code",
   "execution_count": 16,
   "metadata": {},
   "outputs": [
    {
     "name": "stderr",
     "output_type": "stream",
     "text": [
      "/Users/ryuto/.pyenv/versions/anaconda3-5.2.0/envs/python3/lib/python3.6/site-packages/sklearn/linear_model/logistic.py:432: FutureWarning: Default solver will be changed to 'lbfgs' in 0.22. Specify a solver to silence this warning.\n",
      "  FutureWarning)\n"
     ]
    },
    {
     "data": {
      "text/plain": [
       "LogisticRegression(C=1.0, class_weight=None, dual=False, fit_intercept=True,\n",
       "          intercept_scaling=1, max_iter=100, multi_class='warn',\n",
       "          n_jobs=None, penalty='l2', random_state=None, solver='warn',\n",
       "          tol=0.0001, verbose=0, warm_start=False)"
      ]
     },
     "execution_count": 16,
     "metadata": {},
     "output_type": "execute_result"
    }
   ],
   "source": [
    "clf = LogisticRegression()\n",
    "clf.fit(xs, ys_gold)"
   ]
  },
  {
   "cell_type": "markdown",
   "metadata": {},
   "source": [
    "# 74. 予測\n",
    "\n",
    "73で学習したロジスティック回帰モデルを用い，与えられた文の極性ラベル（正例なら\"+1\"，負例なら\"-1\"）と，その予測確率を計算するプログラムを実装せよ．"
   ]
  },
  {
   "cell_type": "markdown",
   "metadata": {},
   "source": [
    "https://scikit-learn.org/stable/modules/generated/sklearn.linear_model.LogisticRegression.html"
   ]
  },
  {
   "cell_type": "code",
   "execution_count": 17,
   "metadata": {},
   "outputs": [],
   "source": [
    "def predict_label(clf, xs):\n",
    "    # 10662 × 2\n",
    "    proba = clf.predict_proba(xs)\n",
    "    \n",
    "    # 2dim において maxの値とindexを取得\n",
    "    scores = proba.max(axis=1)\n",
    "    inds = proba.argmax(axis=1)\n",
    "    \n",
    "    labels = clf.classes_[inds]\n",
    "    \n",
    "    return labels, scores"
   ]
  },
  {
   "cell_type": "code",
   "execution_count": 18,
   "metadata": {},
   "outputs": [
    {
     "data": {
      "text/plain": [
       "(array(['-1', '-1', '-1', ..., '+1', '-1', '-1'], dtype='<U2'),\n",
       " array([0.80743024, 0.71010371, 0.9290568 , ..., 0.98718363, 0.85677988,\n",
       "        0.84837827]))"
      ]
     },
     "execution_count": 18,
     "metadata": {},
     "output_type": "execute_result"
    }
   ],
   "source": [
    "predict_label(clf, xs)"
   ]
  },
  {
   "cell_type": "markdown",
   "metadata": {},
   "source": [
    "### memo\n",
    "bug of wordsは意外と強い"
   ]
  },
  {
   "cell_type": "markdown",
   "metadata": {},
   "source": [
    "# 75. 素性の重み\n",
    "\n",
    "73で学習したロジスティック回帰モデルの中で，重みの高い素性トップ10と，重みの低い素性トップ10を確認せよ．"
   ]
  },
  {
   "cell_type": "code",
   "execution_count": 19,
   "metadata": {},
   "outputs": [
    {
     "data": {
      "text/plain": [
       "(1, 13381)"
      ]
     },
     "execution_count": 19,
     "metadata": {},
     "output_type": "execute_result"
    }
   ],
   "source": [
    "# 1 × 13381 (feature) の 重みvec\n",
    "clf.coef_.shape"
   ]
  },
  {
   "cell_type": "code",
   "execution_count": 20,
   "metadata": {},
   "outputs": [],
   "source": [
    "# 重みが低い -> 高い順に indexをソート\n",
    "feature_inds = clf.coef_[0].argsort()\n",
    "low_inds = feature_inds[:10]\n",
    "high_inds = feature_inds[-10:][::-1]\n",
    "\n",
    "# featureを取り出す (indsで一気に取り出せるように ndarrayへ)\n",
    "feature_names = np.array(vectorizer.get_feature_names())"
   ]
  },
  {
   "cell_type": "code",
   "execution_count": 21,
   "metadata": {},
   "outputs": [
    {
     "data": {
      "text/plain": [
       "array(['bore', 'dull', 'neither', 'fail', 'plod', 'mediocr', 'routin',\n",
       "       'wast', 'badli', 'junk'], dtype='<U17')"
      ]
     },
     "execution_count": 21,
     "metadata": {},
     "output_type": "execute_result"
    }
   ],
   "source": [
    "# 重みの高い素性トップ10\n",
    "feature_names[high_inds]"
   ]
  },
  {
   "cell_type": "code",
   "execution_count": 22,
   "metadata": {},
   "outputs": [
    {
     "data": {
      "text/plain": [
       "array(['engross', 'refresh', 'unexpect', 'smarter', 'resist', 'warm',\n",
       "       'refreshingli', 'examin', 'remark', 'solid'], dtype='<U17')"
      ]
     },
     "execution_count": 22,
     "metadata": {},
     "output_type": "execute_result"
    }
   ],
   "source": [
    "# 重みの低い素性トップ10\n",
    "feature_names[low_inds]"
   ]
  },
  {
   "cell_type": "markdown",
   "metadata": {},
   "source": [
    "# 76. ラベル付け\n",
    "\n",
    "学習データに対してロジスティック回帰モデルを適用し，正解のラベル，予測されたラベル，予測確率をタブ区切り形式で出力せよ．"
   ]
  },
  {
   "cell_type": "code",
   "execution_count": 23,
   "metadata": {},
   "outputs": [],
   "source": [
    "from itertools import islice"
   ]
  },
  {
   "cell_type": "code",
   "execution_count": 24,
   "metadata": {},
   "outputs": [
    {
     "name": "stdout",
     "output_type": "stream",
     "text": [
      "正解    予測           確率\n",
      "+1\t-1\t0.807430237718231\n",
      "-1\t-1\t0.7101037071239211\n",
      "-1\t-1\t0.9290567997679101\n",
      "-1\t-1\t0.9351765097624752\n",
      "-1\t-1\t0.8452275031815152\n",
      "+1\t+1\t0.6039056227190196\n",
      "-1\t-1\t0.8954602066837926\n",
      "+1\t-1\t0.7342936495413078\n",
      "-1\t-1\t0.9104699671181301\n",
      "+1\t+1\t0.8941535688082174\n"
     ]
    }
   ],
   "source": [
    "ys_pred, ys_score = predict_label(clf, xs) # 74\n",
    "\n",
    "print('正解', '   予測', '          確率')\n",
    "for y_gold, y_pred, score in islice(zip(ys_gold, ys_pred, ys_score), 10):\n",
    "    print(y_gold, y_pred, score, sep='\\t')"
   ]
  },
  {
   "cell_type": "markdown",
   "metadata": {},
   "source": [
    "### pandas使った方が綺麗かも"
   ]
  },
  {
   "cell_type": "code",
   "execution_count": 25,
   "metadata": {},
   "outputs": [],
   "source": [
    "import pandas as pd"
   ]
  },
  {
   "cell_type": "code",
   "execution_count": 26,
   "metadata": {},
   "outputs": [
    {
     "data": {
      "text/html": [
       "<div>\n",
       "<style scoped>\n",
       "    .dataframe tbody tr th:only-of-type {\n",
       "        vertical-align: middle;\n",
       "    }\n",
       "\n",
       "    .dataframe tbody tr th {\n",
       "        vertical-align: top;\n",
       "    }\n",
       "\n",
       "    .dataframe thead th {\n",
       "        text-align: right;\n",
       "    }\n",
       "</style>\n",
       "<table border=\"1\" class=\"dataframe\">\n",
       "  <thead>\n",
       "    <tr style=\"text-align: right;\">\n",
       "      <th></th>\n",
       "      <th>正解</th>\n",
       "      <th>予測</th>\n",
       "      <th>確率</th>\n",
       "    </tr>\n",
       "  </thead>\n",
       "  <tbody>\n",
       "    <tr>\n",
       "      <th>0</th>\n",
       "      <td>+1</td>\n",
       "      <td>-1</td>\n",
       "      <td>0.807430</td>\n",
       "    </tr>\n",
       "    <tr>\n",
       "      <th>1</th>\n",
       "      <td>-1</td>\n",
       "      <td>-1</td>\n",
       "      <td>0.710104</td>\n",
       "    </tr>\n",
       "    <tr>\n",
       "      <th>2</th>\n",
       "      <td>-1</td>\n",
       "      <td>-1</td>\n",
       "      <td>0.929057</td>\n",
       "    </tr>\n",
       "    <tr>\n",
       "      <th>3</th>\n",
       "      <td>-1</td>\n",
       "      <td>-1</td>\n",
       "      <td>0.935177</td>\n",
       "    </tr>\n",
       "    <tr>\n",
       "      <th>4</th>\n",
       "      <td>-1</td>\n",
       "      <td>-1</td>\n",
       "      <td>0.845228</td>\n",
       "    </tr>\n",
       "    <tr>\n",
       "      <th>5</th>\n",
       "      <td>+1</td>\n",
       "      <td>+1</td>\n",
       "      <td>0.603906</td>\n",
       "    </tr>\n",
       "    <tr>\n",
       "      <th>6</th>\n",
       "      <td>-1</td>\n",
       "      <td>-1</td>\n",
       "      <td>0.895460</td>\n",
       "    </tr>\n",
       "    <tr>\n",
       "      <th>7</th>\n",
       "      <td>+1</td>\n",
       "      <td>-1</td>\n",
       "      <td>0.734294</td>\n",
       "    </tr>\n",
       "    <tr>\n",
       "      <th>8</th>\n",
       "      <td>-1</td>\n",
       "      <td>-1</td>\n",
       "      <td>0.910470</td>\n",
       "    </tr>\n",
       "    <tr>\n",
       "      <th>9</th>\n",
       "      <td>+1</td>\n",
       "      <td>+1</td>\n",
       "      <td>0.894154</td>\n",
       "    </tr>\n",
       "  </tbody>\n",
       "</table>\n",
       "</div>"
      ],
      "text/plain": [
       "   正解  予測        確率\n",
       "0  +1  -1  0.807430\n",
       "1  -1  -1  0.710104\n",
       "2  -1  -1  0.929057\n",
       "3  -1  -1  0.935177\n",
       "4  -1  -1  0.845228\n",
       "5  +1  +1  0.603906\n",
       "6  -1  -1  0.895460\n",
       "7  +1  -1  0.734294\n",
       "8  -1  -1  0.910470\n",
       "9  +1  +1  0.894154"
      ]
     },
     "execution_count": 26,
     "metadata": {},
     "output_type": "execute_result"
    }
   ],
   "source": [
    "df = pd.DataFrame(((g, p, s) for g, p, s in zip(ys_gold, ys_pred, ys_score)), columns=['正解', '予測', '確率'])\n",
    "df[:10]"
   ]
  },
  {
   "cell_type": "markdown",
   "metadata": {},
   "source": [
    "### 正解率 (train-train での accuracy)"
   ]
  },
  {
   "cell_type": "code",
   "execution_count": 27,
   "metadata": {},
   "outputs": [
    {
     "data": {
      "text/plain": [
       "0.9444757081223035"
      ]
     },
     "execution_count": 27,
     "metadata": {},
     "output_type": "execute_result"
    }
   ],
   "source": [
    "sum(1 for _ in df['正解'] == df['予測'] if _) / len(df)"
   ]
  },
  {
   "cell_type": "markdown",
   "metadata": {},
   "source": [
    "### memo"
   ]
  },
  {
   "cell_type": "markdown",
   "metadata": {},
   "source": [
    "python3での関数アノテーション\n",
    "\n",
    "関数名 (引数名 : 引数の型=default) -> returnの型:\n",
    "\n",
    "ex)\n",
    "def get_hoge(x:str, y:int=3)->str:"
   ]
  },
  {
   "cell_type": "markdown",
   "metadata": {},
   "source": [
    "# 77. 正解率の計測\n",
    "\n",
    "76の出力を受け取り，予測の正解率，正例に関する適合率，再現率，F1スコアを求めるプログラムを作成せよ．"
   ]
  },
  {
   "cell_type": "markdown",
   "metadata": {},
   "source": [
    "### まずは手動"
   ]
  },
  {
   "cell_type": "code",
   "execution_count": 28,
   "metadata": {},
   "outputs": [],
   "source": [
    "def evaluator(ys_pred, ys_gold, label):\n",
    "    # 確認\n",
    "    assert len(ys_pred) == len(ys_gold)\n",
    "    \n",
    "    correct = 0\n",
    "    pred_posi, gold_posi, corr_posi = 0, 0, 0 \n",
    "    \n",
    "    for y_pred, y_gold in zip(ys_pred, ys_gold):\n",
    "        # accuracy の分子\n",
    "        if y_pred == y_gold:\n",
    "            correct += 1\n",
    "            \n",
    "        # precision の分母\n",
    "        if y_pred == label:\n",
    "            pred_posi += 1\n",
    "            \n",
    "        # recall の分母\n",
    "        if y_gold == label:\n",
    "            gold_posi += 1\n",
    "            \n",
    "        # precision、recall の分子\n",
    "        if y_pred == label and y_gold == label:\n",
    "            corr_posi += 1\n",
    "            \n",
    "    accuracy = correct / len(ys_pred)\n",
    "    precision = corr_posi / pred_posi\n",
    "    recall = corr_posi / gold_posi\n",
    "    f1 = 2 * precision * recall / (precision + recall)\n",
    "    \n",
    "    return accuracy, precision, recall, f1"
   ]
  },
  {
   "cell_type": "code",
   "execution_count": 29,
   "metadata": {},
   "outputs": [],
   "source": [
    "def print_scores(acc, prec, rec, f1):\n",
    "    print(\"accuracy : {}\".format(acc))\n",
    "    print(\"precision : {}\".format(prec))\n",
    "    print(\"recall : {}\".format(rec))\n",
    "    print(\"f1 : {}\".format(f1))"
   ]
  },
  {
   "cell_type": "code",
   "execution_count": 30,
   "metadata": {},
   "outputs": [],
   "source": [
    "acc, prec, recall, f1 = evaluator(ys_pred, ys_gold, '+1')"
   ]
  },
  {
   "cell_type": "code",
   "execution_count": 31,
   "metadata": {},
   "outputs": [
    {
     "name": "stdout",
     "output_type": "stream",
     "text": [
      "accuracy : 0.9444757081223035\n",
      "precision : 0.9483443708609272\n",
      "recall : 0.9401613205777528\n",
      "f1 : 0.944235116804823\n"
     ]
    }
   ],
   "source": [
    "print_scores(acc, prec, recall, f1)"
   ]
  },
  {
   "cell_type": "markdown",
   "metadata": {},
   "source": [
    "### sklearn metrics"
   ]
  },
  {
   "cell_type": "code",
   "execution_count": 32,
   "metadata": {},
   "outputs": [],
   "source": [
    "from sklearn import metrics"
   ]
  },
  {
   "cell_type": "code",
   "execution_count": 33,
   "metadata": {},
   "outputs": [],
   "source": [
    "def evaluator(ys_pred, ys_gold):\n",
    "    acc = metrics.accuracy_score(ys_gold, ys_pred)\n",
    "    prec, recall, f1, _ = metrics.precision_recall_fscore_support(ys_gold, ys_pred, labels=['+1', '-1'])\n",
    "    \n",
    "    return acc, prec, recall, f1"
   ]
  },
  {
   "cell_type": "code",
   "execution_count": 34,
   "metadata": {},
   "outputs": [],
   "source": [
    "acc, prec, recall, f1 = evaluator(ys_pred, ys_gold)"
   ]
  },
  {
   "cell_type": "code",
   "execution_count": 35,
   "metadata": {},
   "outputs": [
    {
     "name": "stdout",
     "output_type": "stream",
     "text": [
      "accuracy : 0.9444757081223035\n",
      "precision : 0.9483443708609272\n",
      "recall : 0.9401613205777528\n",
      "f1 : 0.944235116804823\n"
     ]
    }
   ],
   "source": [
    "print_scores(acc, prec[0], recall[0], f1[0])"
   ]
  },
  {
   "cell_type": "markdown",
   "metadata": {},
   "source": [
    "# 78. 5分割交差検定\n",
    "\n",
    "76-77の実験では，学習に用いた事例を評価にも用いたため，正当な評価とは言えない．すなわち，分類器が訓練事例を丸暗記する際の性能を評価しており，モデルの汎化性能を測定していない．そこで，5分割交差検定により，極性分類の正解率，適合率，再現率，F1スコアを求めよ．"
   ]
  },
  {
   "cell_type": "code",
   "execution_count": 36,
   "metadata": {},
   "outputs": [],
   "source": [
    "from sklearn.model_selection import cross_validate\n",
    "from collections import defaultdict"
   ]
  },
  {
   "cell_type": "code",
   "execution_count": 37,
   "metadata": {},
   "outputs": [],
   "source": [
    "# ys を index に\n",
    "label2index = defaultdict(lambda:len(label2index))\n",
    "ys = np.array([label2index[y] for y in y_labels])"
   ]
  },
  {
   "cell_type": "code",
   "execution_count": 38,
   "metadata": {},
   "outputs": [
    {
     "name": "stderr",
     "output_type": "stream",
     "text": [
      "/Users/ryuto/.pyenv/versions/anaconda3-5.2.0/envs/python3/lib/python3.6/site-packages/sklearn/linear_model/logistic.py:432: FutureWarning: Default solver will be changed to 'lbfgs' in 0.22. Specify a solver to silence this warning.\n",
      "  FutureWarning)\n"
     ]
    }
   ],
   "source": [
    "# 5分割交差検定\n",
    "cv_results = cross_validate(LogisticRegression(), xs, ys, cv=5, scoring=['accuracy', 'precision', 'recall', 'f1'])"
   ]
  },
  {
   "cell_type": "code",
   "execution_count": 39,
   "metadata": {},
   "outputs": [
    {
     "name": "stdout",
     "output_type": "stream",
     "text": [
      "accuracy : [0.74086223 0.74437148 0.75703565 0.7532833  0.76031895]\n",
      "precision : [0.73406193 0.74598678 0.75183824 0.75665399 0.76555024]\n",
      "recall : [0.75538894 0.74108818 0.7673546  0.7467167  0.75046904]\n",
      "f1 : [0.74457275 0.74352941 0.75951718 0.7516525  0.75793463]\n"
     ]
    }
   ],
   "source": [
    "# 結果\n",
    "print_scores(cv_results['test_accuracy'], cv_results['test_precision'], cv_results['test_recall'], cv_results['test_f1'])"
   ]
  },
  {
   "cell_type": "markdown",
   "metadata": {},
   "source": [
    "### 手動"
   ]
  },
  {
   "cell_type": "code",
   "execution_count": 40,
   "metadata": {},
   "outputs": [],
   "source": [
    "from sklearn.model_selection import train_test_split\n",
    "from collections import deque"
   ]
  },
  {
   "cell_type": "code",
   "execution_count": 41,
   "metadata": {},
   "outputs": [],
   "source": [
    "def handmade_cross_validate(xs, ys, cv=5):\n",
    "    xs_que = deque(np.array_split(xs.toarray(), cv, axis=0))\n",
    "    ys_que = deque(np.array_split(ys, cv, axis=0))\n",
    "    evaluation = {'accuracy' : [], 'precision' : [], 'recall' : [], 'f1' : []}\n",
    "    \n",
    "    for _ in range(cv):\n",
    "        # データ取り出し\n",
    "        xs_test = xs_que.popleft()\n",
    "        ys_test = ys_que.popleft()\n",
    "        xs_train = np.concatenate(xs_que)\n",
    "        ys_train = np.concatenate(ys_que)\n",
    "        \n",
    "        # fit (学習)\n",
    "        clf = LogisticRegression()\n",
    "        clf.fit(xs_train, ys_train)\n",
    "\n",
    "        # test\n",
    "        ys_test_pred, _ = predict_label(clf, xs_test)\n",
    "\n",
    "        # 評価\n",
    "        acc, prec, recall, f1 = evaluator(ys_test_pred, ys_test)\n",
    "        \n",
    "        # 記録\n",
    "        evaluation['accuracy'].append(acc)\n",
    "        evaluation['precision'].append(sum(prec) / len(prec))\n",
    "        evaluation['recall'].append(sum(recall) / len(recall))\n",
    "        evaluation['f1'].append(sum(f1) / len(f1))\n",
    "        \n",
    "        # データを元に戻す\n",
    "        xs_que.append(xs_test)\n",
    "        ys_que.append(ys_test)\n",
    "        \n",
    "    return evaluation"
   ]
  },
  {
   "cell_type": "code",
   "execution_count": 42,
   "metadata": {},
   "outputs": [
    {
     "name": "stderr",
     "output_type": "stream",
     "text": [
      "/Users/ryuto/.pyenv/versions/anaconda3-5.2.0/envs/python3/lib/python3.6/site-packages/sklearn/linear_model/logistic.py:432: FutureWarning: Default solver will be changed to 'lbfgs' in 0.22. Specify a solver to silence this warning.\n",
      "  FutureWarning)\n",
      "/Users/ryuto/.pyenv/versions/anaconda3-5.2.0/envs/python3/lib/python3.6/site-packages/sklearn/linear_model/logistic.py:432: FutureWarning: Default solver will be changed to 'lbfgs' in 0.22. Specify a solver to silence this warning.\n",
      "  FutureWarning)\n",
      "/Users/ryuto/.pyenv/versions/anaconda3-5.2.0/envs/python3/lib/python3.6/site-packages/sklearn/linear_model/logistic.py:432: FutureWarning: Default solver will be changed to 'lbfgs' in 0.22. Specify a solver to silence this warning.\n",
      "  FutureWarning)\n",
      "/Users/ryuto/.pyenv/versions/anaconda3-5.2.0/envs/python3/lib/python3.6/site-packages/sklearn/linear_model/logistic.py:432: FutureWarning: Default solver will be changed to 'lbfgs' in 0.22. Specify a solver to silence this warning.\n",
      "  FutureWarning)\n"
     ]
    }
   ],
   "source": [
    "# 5分割交差検定\n",
    "cv_results = handmade_cross_validate(xs, ys_gold)"
   ]
  },
  {
   "cell_type": "code",
   "execution_count": 43,
   "metadata": {},
   "outputs": [
    {
     "name": "stdout",
     "output_type": "stream",
     "text": [
      "accuracy : [0.739803094233474, 0.7430848570089077, 0.7575046904315197, 0.7551594746716698, 0.7603189493433395]\n",
      "precision : [0.7400308813049331, 0.7431062345911308, 0.757697098814612, 0.7552171341669482, 0.7604300626635577]\n",
      "recall : [0.7398637421070122, 0.7430869984930835, 0.7576197617438324, 0.7552090483784097, 0.7603720782878063]\n",
      "f1 : [0.7397701485981993, 0.7430802829606419, 0.7574982349911545, 0.75515925921037, 0.7603125688210445]\n"
     ]
    }
   ],
   "source": [
    "# 結果\n",
    "print_scores(cv_results['accuracy'], cv_results['precision'], cv_results['recall'], cv_results['f1'])"
   ]
  },
  {
   "cell_type": "markdown",
   "metadata": {},
   "source": [
    "### memo\n",
    "# 正解ラベルが正が多数の場合はF1ではなく、マシューズ相関係数で評価した方が良い"
   ]
  },
  {
   "cell_type": "markdown",
   "metadata": {},
   "source": [
    "# 79. 適合率-再現率グラフの描画\n",
    "\n",
    "ロジスティック回帰モデルの分類の閾値を変化させることで，適合率-再現率グラフを描画せよ．"
   ]
  },
  {
   "cell_type": "markdown",
   "metadata": {},
   "source": [
    "- memo : perdict positive を rank順に並べる"
   ]
  },
  {
   "cell_type": "code",
   "execution_count": 44,
   "metadata": {},
   "outputs": [],
   "source": [
    "from sklearn.model_selection import train_test_split\n",
    "from sklearn.metrics import precision_recall_curve\n",
    "import matplotlib.pyplot as plt"
   ]
  },
  {
   "cell_type": "code",
   "execution_count": 45,
   "metadata": {},
   "outputs": [
    {
     "name": "stderr",
     "output_type": "stream",
     "text": [
      "/Users/ryuto/.pyenv/versions/anaconda3-5.2.0/envs/python3/lib/python3.6/site-packages/sklearn/linear_model/logistic.py:432: FutureWarning: Default solver will be changed to 'lbfgs' in 0.22. Specify a solver to silence this warning.\n",
      "  FutureWarning)\n"
     ]
    }
   ],
   "source": [
    "# 2/3 , 1/3 と分割\n",
    "xs_train, xs_test, ys_train, ys_test = train_test_split(xs, ys, test_size=0.33, random_state=42)\n",
    "\n",
    "# 学習\n",
    "clf = LogisticRegression()\n",
    "clf.fit(xs_train, ys_train)\n",
    "\n",
    "# predict\n",
    "ys_test_pred = clf.predict_proba(xs_test)"
   ]
  },
  {
   "cell_type": "code",
   "execution_count": 46,
   "metadata": {},
   "outputs": [
    {
     "name": "stdout",
     "output_type": "stream",
     "text": [
      "defaultdict(<function <lambda> at 0x1137147b8>, {'+1': 0, '-1': 1}) [0 1]\n"
     ]
    }
   ],
   "source": [
    "# 確認\n",
    "print(label2index, clf.classes_)"
   ]
  },
  {
   "cell_type": "code",
   "execution_count": 47,
   "metadata": {},
   "outputs": [],
   "source": [
    "# precision_recall_curve\n",
    "precision, recall, threshold = precision_recall_curve(ys_test, ys_test_pred[:,0], pos_label=0)"
   ]
  },
  {
   "cell_type": "code",
   "execution_count": 48,
   "metadata": {},
   "outputs": [
    {
     "data": {
      "text/plain": [
       "Text(0.5, 1.0, 'Precision-Recall curve')"
      ]
     },
     "execution_count": 48,
     "metadata": {},
     "output_type": "execute_result"
    },
    {
     "data": {
      "image/png": "[encoded data removed]",
      "text/plain": [
       "<Figure size 432x288 with 1 Axes>"
      ]
     },
     "metadata": {
      "needs_background": "light"
     },
     "output_type": "display_data"
    }
   ],
   "source": [
    "# plot\n",
    "plt.fill_between(recall, precision)\n",
    "plt.ylim([0.0, 1.05])\n",
    "plt.xlim([0.0, 1.0])\n",
    "plt.xlabel('Recall')\n",
    "plt.ylabel('Precision')\n",
    "plt.title('Precision-Recall curve')"
   ]
  },
  {
   "cell_type": "code",
   "execution_count": null,
   "metadata": {},
   "outputs": [],
   "source": []
  }
 ],
 "metadata": {
  "kernelspec": {
   "display_name": "Python 3",
   "language": "python",
   "name": "python3"
  },
  "language_info": {
   "codemirror_mode": {
    "name": "ipython",
    "version": 3
   },
   "file_extension": ".py",
   "mimetype": "text/x-python",
   "name": "python",
   "nbconvert_exporter": "python",
   "pygments_lexer": "ipython3",
   "version": "3.6.7"
  }
 },
 "nbformat": 4,
 "nbformat_minor": 2
}
