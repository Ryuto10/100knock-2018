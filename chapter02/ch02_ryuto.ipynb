{
 "cells": [
  {
   "cell_type": "markdown",
   "metadata": {},
   "source": [
    "# 10. 行数のカウント"
   ]
  },
  {
   "cell_type": "code",
   "execution_count": 1,
   "metadata": {},
   "outputs": [
    {
     "name": "stdout",
     "output_type": "stream",
     "text": [
      "2740\n"
     ]
    }
   ],
   "source": [
    "#01\n",
    "with open(\"data/popular-names.txt\", \"r\") as text:\n",
    "    lines = text.readlines()\n",
    "    print(len(lines))"
   ]
  },
  {
   "cell_type": "code",
   "execution_count": 2,
   "metadata": {},
   "outputs": [
    {
     "name": "stdout",
     "output_type": "stream",
     "text": [
      "2740\n"
     ]
    }
   ],
   "source": [
    "#02\n",
    "with open(\"data/popular-names.txt\", \"r\") as text:\n",
    "    contents = text.read()\n",
    "    print(contents.count('\\n'))"
   ]
  },
  {
   "cell_type": "markdown",
   "metadata": {},
   "source": [
    "### Shell"
   ]
  },
  {
   "cell_type": "code",
   "execution_count": 3,
   "metadata": {},
   "outputs": [],
   "source": [
    "#先頭に!をつけるとシェルコマンドが使える\n",
    "#!tldr wc"
   ]
  },
  {
   "cell_type": "code",
   "execution_count": 4,
   "metadata": {},
   "outputs": [
    {
     "name": "stdout",
     "output_type": "stream",
     "text": [
      "2740 data/popular-names.txt\n"
     ]
    }
   ],
   "source": [
    "!wc -l data/popular-names.txt"
   ]
  },
  {
   "cell_type": "markdown",
   "metadata": {},
   "source": [
    "### 10 memo"
   ]
  },
  {
   "cell_type": "code",
   "execution_count": 5,
   "metadata": {},
   "outputs": [
    {
     "name": "stdout",
     "output_type": "stream",
     "text": [
      "2740\n"
     ]
    }
   ],
   "source": [
    "#↑上記の実装だと、メモリ的に心配\n",
    "#リストを作成、Stringを作成しているため。\n",
    "#一文ずつ捨てちゃうのがよい\n",
    "#最後の改行\n",
    "#使わない変数は(_)を使う\n",
    "#diff , headは便利\n",
    "\n",
    "#改良ver\n",
    "with open(\"data/popular-names.txt\", \"r\") as text:\n",
    "    print(sum(1 for _ in text.readlines()))"
   ]
  },
  {
   "cell_type": "markdown",
   "metadata": {},
   "source": [
    "# 11.タブをスペースに置換"
   ]
  },
  {
   "cell_type": "code",
   "execution_count": 6,
   "metadata": {},
   "outputs": [
    {
     "name": "stdout",
     "output_type": "stream",
     "text": [
      "Mary F 7065 1880\n",
      "Anna F 2604 1880\n",
      "Emma F 2003 1880\n",
      "Elizabeth F 1939 1880\n",
      "Minnie F 1746 1880\n"
     ]
    }
   ],
   "source": [
    "import itertools\n",
    "with open(\"data/popular-names.txt\", \"r\") as text:\n",
    "    ls = text.readlines()\n",
    "    for line in itertools.islice(ls,5):\n",
    "        print(line.replace(\"\\t\",\" \"),end=\"\")"
   ]
  },
  {
   "cell_type": "markdown",
   "metadata": {},
   "source": [
    "### Shell"
   ]
  },
  {
   "cell_type": "code",
   "execution_count": 7,
   "metadata": {},
   "outputs": [],
   "source": [
    "#!tldr sed"
   ]
  },
  {
   "cell_type": "code",
   "execution_count": 8,
   "metadata": {},
   "outputs": [
    {
     "name": "stdout",
     "output_type": "stream",
     "text": [
      "Mary F 7065 1880\n",
      "Anna F 2604 1880\n",
      "Emma F 2003 1880\n",
      "Elizabeth F 1939 1880\n",
      "Minnie F 1746 1880\n",
      "Margaret F 1578 1880\n",
      "Ida F 1472 1880\n",
      "Alice F 1414 1880\n",
      "Bertha F 1320 1880\n",
      "Sarah F 1288 1880\n",
      "sed: couldn't write 21 items to stdout: Broken pipe\n"
     ]
    }
   ],
   "source": [
    "!sed -r 's/\\t/ /g' data/popular-names.txt | head"
   ]
  },
  {
   "cell_type": "code",
   "execution_count": 9,
   "metadata": {},
   "outputs": [],
   "source": [
    "#!tldr tr"
   ]
  },
  {
   "cell_type": "code",
   "execution_count": 10,
   "metadata": {},
   "outputs": [
    {
     "name": "stdout",
     "output_type": "stream",
     "text": [
      "Mary F 7065 1880\n",
      "Anna F 2604 1880\n",
      "Emma F 2003 1880\n",
      "Elizabeth F 1939 1880\n",
      "Minnie F 1746 1880\n",
      "Margaret F 1578 1880\n",
      "Ida F 1472 1880\n",
      "Alice F 1414 1880\n",
      "Bertha F 1320 1880\n",
      "Sarah F 1288 1880\n",
      "tr: write error: Broken pipe\n"
     ]
    }
   ],
   "source": [
    "!tr '\\t' ' ' < data/popular-names.txt | head"
   ]
  },
  {
   "cell_type": "code",
   "execution_count": 11,
   "metadata": {
    "collapsed": true,
    "scrolled": true
   },
   "outputs": [],
   "source": [
    "#!man expand"
   ]
  },
  {
   "cell_type": "code",
   "execution_count": 12,
   "metadata": {},
   "outputs": [
    {
     "name": "stdout",
     "output_type": "stream",
     "text": [
      "Mary F 7065 1880\n",
      "Anna F 2604 1880\n",
      "Emma F 2003 1880\n",
      "Elizabeth F 1939 1880\n",
      "Minnie F 1746 1880\n",
      "Margaret F 1578 1880\n",
      "Ida F 1472 1880\n",
      "Alice F 1414 1880\n",
      "Bertha F 1320 1880\n",
      "Sarah F 1288 1880\n",
      "expand: write error: Broken pipe\n",
      "expand: write error\n"
     ]
    }
   ],
   "source": [
    "!expand -t 1 data/popular-names.txt | head"
   ]
  },
  {
   "cell_type": "markdown",
   "metadata": {},
   "source": [
    "### 11 memo"
   ]
  },
  {
   "cell_type": "code",
   "execution_count": 13,
   "metadata": {
    "collapsed": true
   },
   "outputs": [],
   "source": [
    "#print(,end='')を忘れかけていた\n",
    "#itertools.islice(f,int)\n",
    "#ipython上で%timeit,%%file"
   ]
  },
  {
   "cell_type": "markdown",
   "metadata": {},
   "source": [
    "# 12. 1列目をcol1.txtに，2列目をcol2.txtに保存"
   ]
  },
  {
   "cell_type": "code",
   "execution_count": 14,
   "metadata": {
    "collapsed": true
   },
   "outputs": [],
   "source": [
    "with open(\"data/popular-names.txt\",\"r\") as text:\n",
    "    col1 = open(\"work/col1.txt\",\"w\")\n",
    "    col2 = open(\"work/col2.txt\",\"w\")\n",
    "\n",
    "    lines = text.readlines()\n",
    "\n",
    "    for line in lines:\n",
    "        tmp = line.split()\n",
    "        col1.write(tmp[0]+'\\n')\n",
    "        col2.write(tmp[1]+'\\n')\n",
    "\n",
    "    col1.close()\n",
    "    col2.close()"
   ]
  },
  {
   "cell_type": "markdown",
   "metadata": {},
   "source": [
    "### Shell"
   ]
  },
  {
   "cell_type": "code",
   "execution_count": 15,
   "metadata": {
    "collapsed": true
   },
   "outputs": [],
   "source": [
    "#!man cut"
   ]
  },
  {
   "cell_type": "code",
   "execution_count": 16,
   "metadata": {
    "collapsed": true
   },
   "outputs": [],
   "source": [
    "!cut -f 1 data/popular-names.txt > work/col1-2.txt"
   ]
  },
  {
   "cell_type": "code",
   "execution_count": 17,
   "metadata": {
    "collapsed": true
   },
   "outputs": [],
   "source": [
    "!cut -f 2 data/popular-names.txt > work/col2-2.txt"
   ]
  },
  {
   "cell_type": "markdown",
   "metadata": {},
   "source": [
    "### 結果比較"
   ]
  },
  {
   "cell_type": "code",
   "execution_count": 18,
   "metadata": {
    "collapsed": true
   },
   "outputs": [],
   "source": [
    "!diff work/col1.txt work/col1-2.txt\n",
    "!diff work/col2.txt work/col2-2.txt"
   ]
  },
  {
   "cell_type": "markdown",
   "metadata": {},
   "source": [
    "### 12memo"
   ]
  },
  {
   "cell_type": "code",
   "execution_count": 19,
   "metadata": {},
   "outputs": [
    {
     "name": "stdout",
     "output_type": "stream",
     "text": [
      "have\n",
      "['I', 'have', 'a']\n",
      "[1, 2, 3, 4, 5, 6, 7, 8]\n",
      "1 2 3 4 5 6 7 8\n"
     ]
    }
   ],
   "source": [
    "# with open(_) as _ f1 , \\\n",
    "#      open(_) as _ f2 , \\\n",
    "#      open(_) as _ f3:\n",
    "# 繋げられる\n",
    "\n",
    "x, y, z ,w = 'I have a pen'.split()\n",
    "print(y)\n",
    "\n",
    "*rest , a = 'I have a pen'.split()\n",
    "print(rest)\n",
    "\n",
    "first, *rest, last = range(10)\n",
    "print(rest)\n",
    "print(*rest)\n",
    "\n",
    "# *のことをiterable unpacking operatorという\n"
   ]
  },
  {
   "cell_type": "markdown",
   "metadata": {},
   "source": [
    "# 13. col1.txtとcol2.txtをマージ"
   ]
  },
  {
   "cell_type": "code",
   "execution_count": 20,
   "metadata": {
    "collapsed": true
   },
   "outputs": [],
   "source": [
    "col1 = open(\"work/col1.txt\",\"r\")\n",
    "col2 = open(\"work/col2.txt\",\"r\")\n",
    "new = open(\"work/q013.txt\",\"w\")\n",
    "\n",
    "lines1 = col1.readlines()\n",
    "lines2 = col2.readlines()\n",
    "for L1,L2 in zip(lines1,lines2):\n",
    "    new.write(L1.strip(\"\\n\")+'\\t'+L2)\n",
    "\n",
    "new.close()\n",
    "col1.close()\n",
    "col2.close()\n",
    "\n",
    "# lines1とlines2をそのままcol1とcol2と書いてもよい\n",
    "# リストでメモリを使いすぎやで"
   ]
  },
  {
   "cell_type": "code",
   "execution_count": 21,
   "metadata": {},
   "outputs": [
    {
     "name": "stdout",
     "output_type": "stream",
     "text": [
      "2740 work/col1.txt\n",
      "2740 work/col2.txt\n"
     ]
    }
   ],
   "source": [
    "!wc -l \"work/col1.txt\"\n",
    "!wc -l \"work/col2.txt\""
   ]
  },
  {
   "cell_type": "markdown",
   "metadata": {},
   "source": [
    "### Shell"
   ]
  },
  {
   "cell_type": "code",
   "execution_count": 22,
   "metadata": {},
   "outputs": [],
   "source": [
    "#!tldr paste"
   ]
  },
  {
   "cell_type": "code",
   "execution_count": 23,
   "metadata": {
    "collapsed": true
   },
   "outputs": [],
   "source": [
    "!paste work/col1.txt work/col2.txt > work/q013-2.txt"
   ]
  },
  {
   "cell_type": "markdown",
   "metadata": {},
   "source": [
    "### 比較"
   ]
  },
  {
   "cell_type": "code",
   "execution_count": 24,
   "metadata": {
    "collapsed": true
   },
   "outputs": [],
   "source": [
    "!diff work/q013.txt work/q013-2.txt"
   ]
  },
  {
   "cell_type": "markdown",
   "metadata": {},
   "source": [
    "### 13memo"
   ]
  },
  {
   "cell_type": "code",
   "execution_count": 25,
   "metadata": {},
   "outputs": [],
   "source": [
    "# paste → 横\n",
    "# cat → 縦"
   ]
  },
  {
   "cell_type": "markdown",
   "metadata": {},
   "source": [
    "# 14. 先頭からN行を出力"
   ]
  },
  {
   "cell_type": "code",
   "execution_count": 26,
   "metadata": {},
   "outputs": [
    {
     "name": "stdout",
     "output_type": "stream",
     "text": [
      "Overwriting src/q014.py\n"
     ]
    }
   ],
   "source": [
    "%%file src/q014.py\n",
    "import sys\n",
    "args = sys.argv\n",
    "\n",
    "if len(args) != 2: #error1\n",
    "    print(\"usage : q014.py [number]\")\n",
    "elif not args[1].isdigit() or int(args[1]) <= 0: #error2\n",
    "    print(\"usage : number is natural number\")\n",
    "else:\n",
    "    with open(\"data/popular-names.txt\",\"r\") as text: \n",
    "        lines = text.readlines()\n",
    "        for line in lines[:int(args[1])]:\n",
    "            print(line,end=\"\")"
   ]
  },
  {
   "cell_type": "code",
   "execution_count": 27,
   "metadata": {},
   "outputs": [
    {
     "name": "stdout",
     "output_type": "stream",
     "text": [
      "Mary\tF\t7065\t1880\n",
      "Anna\tF\t2604\t1880\n",
      "Emma\tF\t2003\t1880\n"
     ]
    }
   ],
   "source": [
    "!python src/q014.py 3"
   ]
  },
  {
   "cell_type": "markdown",
   "metadata": {},
   "source": [
    "### Shell"
   ]
  },
  {
   "cell_type": "code",
   "execution_count": 28,
   "metadata": {},
   "outputs": [],
   "source": [
    "#!tldr head"
   ]
  },
  {
   "cell_type": "code",
   "execution_count": 29,
   "metadata": {},
   "outputs": [
    {
     "name": "stdout",
     "output_type": "stream",
     "text": [
      "Mary\tF\t7065\t1880\n",
      "Anna\tF\t2604\t1880\n",
      "Emma\tF\t2003\t1880\n"
     ]
    }
   ],
   "source": [
    "!head -n 3 data/popular-names.txt"
   ]
  },
  {
   "cell_type": "markdown",
   "metadata": {},
   "source": [
    "### 比較"
   ]
  },
  {
   "cell_type": "code",
   "execution_count": 30,
   "metadata": {
    "collapsed": true
   },
   "outputs": [],
   "source": [
    "%%bash\n",
    "diff <(head -n 3 data/popular-names.txt) <(python src/q014.py 3)"
   ]
  },
  {
   "cell_type": "markdown",
   "metadata": {},
   "source": [
    "### 14memo"
   ]
  },
  {
   "cell_type": "code",
   "execution_count": 31,
   "metadata": {},
   "outputs": [
    {
     "name": "stdout",
     "output_type": "stream",
     "text": [
      "Mary\tF\t7065\t1880\n",
      "Anna\tF\t2604\t1880\n",
      "Emma\tF\t2003\t1880\n"
     ]
    }
   ],
   "source": [
    "import itertools\n",
    "line_num = int(input(\"Line Num : \"))\n",
    "with open(\"data/popular-names.txt\") as f:\n",
    "    for _ in itertools.islice(f,line_num):\n",
    "        print(_,end='')"
   ]
  },
  {
   "cell_type": "code",
   "execution_count": 32,
   "metadata": {},
   "outputs": [],
   "source": [
    "#chmod\n",
    "\n",
    "# argparseは便利\n",
    "# 　→主に引数の設定等で便利\n",
    "# main()関数を作ると便利 if _name_ == '_main_'"
   ]
  },
  {
   "cell_type": "markdown",
   "metadata": {},
   "source": [
    "# 15. 末尾のN行を出力"
   ]
  },
  {
   "cell_type": "code",
   "execution_count": 33,
   "metadata": {},
   "outputs": [
    {
     "name": "stdout",
     "output_type": "stream",
     "text": [
      "Overwriting src/q015.py\n"
     ]
    }
   ],
   "source": [
    "%%file src/q015.py\n",
    "import sys\n",
    "args = sys.argv\n",
    "\n",
    "if len(args) != 2: #error1\n",
    "    print(\"usage : q015.py [number]\")\n",
    "elif not args[1].isdigit(): #error2\n",
    "    print(\"usage : number is natural number\")\n",
    "else:\n",
    "    with open(\"data/popular-names.txt\",\"r\") as text:\n",
    "        lines = text.readlines()\n",
    "        for line in lines[-int(args[1]):]:\n",
    "            print(line.strip('\\n'))"
   ]
  },
  {
   "cell_type": "code",
   "execution_count": 34,
   "metadata": {},
   "outputs": [
    {
     "name": "stdout",
     "output_type": "stream",
     "text": [
      "Michael\tM\t13998\t2016\n",
      "Elijah\tM\t13764\t2016\n",
      "Ethan\tM\t13758\t2016\n"
     ]
    }
   ],
   "source": [
    "!python src/q015.py 3"
   ]
  },
  {
   "cell_type": "markdown",
   "metadata": {},
   "source": [
    "### Shell"
   ]
  },
  {
   "cell_type": "code",
   "execution_count": 35,
   "metadata": {},
   "outputs": [],
   "source": [
    "#!tldr tail"
   ]
  },
  {
   "cell_type": "code",
   "execution_count": 36,
   "metadata": {},
   "outputs": [
    {
     "name": "stdout",
     "output_type": "stream",
     "text": [
      "Michael\tM\t13998\t2016\n",
      "Elijah\tM\t13764\t2016\n",
      "Ethan\tM\t13758\t2016\n"
     ]
    }
   ],
   "source": [
    "!tail -n 3 data/popular-names.txt"
   ]
  },
  {
   "cell_type": "markdown",
   "metadata": {},
   "source": [
    "### 比較"
   ]
  },
  {
   "cell_type": "code",
   "execution_count": 37,
   "metadata": {
    "collapsed": true
   },
   "outputs": [],
   "source": [
    "%%bash\n",
    "diff <(tail -n 3 data/popular-names.txt) <(python src/q015.py 3)"
   ]
  },
  {
   "cell_type": "markdown",
   "metadata": {},
   "source": [
    "### 15memo"
   ]
  },
  {
   "cell_type": "code",
   "execution_count": 38,
   "metadata": {},
   "outputs": [
    {
     "name": "stdout",
     "output_type": "stream",
     "text": [
      "Michael\tM\t13998\t2016\n",
      "Elijah\tM\t13764\t2016\n",
      "Ethan\tM\t13758\t2016\n",
      "\n"
     ]
    }
   ],
   "source": [
    "import collections\n",
    "n = int(input(\"line num : \"))\n",
    "with open('data/popular-names.txt') as f:\n",
    "    print(''.join(collections.deque(f, maxlen=n)))"
   ]
  },
  {
   "cell_type": "code",
   "execution_count": 39,
   "metadata": {},
   "outputs": [
    {
     "name": "stdout",
     "output_type": "stream",
     "text": [
      "Michael\tM\t13998\t2016\n",
      "Elijah\tM\t13764\t2016\n",
      "Ethan\tM\t13758\t2016\n",
      "\n"
     ]
    }
   ],
   "source": [
    "#more_itertoolsは便利\n",
    "import more_itertools\n",
    "with open('data/popular-names.txt') as f:\n",
    "    print(''.join(more_itertools.tail(iterable=f, n=n)))"
   ]
  },
  {
   "cell_type": "markdown",
   "metadata": {},
   "source": [
    "# 16. ファイルをN分割する"
   ]
  },
  {
   "cell_type": "markdown",
   "metadata": {},
   "source": [
    "自然数Nをコマンドライン引数などの手段で受け取り，入力のファイルを行単位でN分割せよ．同様の処理をsplitコマンドで実現せよ．"
   ]
  },
  {
   "cell_type": "markdown",
   "metadata": {},
   "source": [
    "ex) 23行を5つに分配するとき、\n",
    "    - パターン1:[5,5,5,4,4]\n",
    "    - パターン2:[5,5,5,5,3]"
   ]
  },
  {
   "cell_type": "markdown",
   "metadata": {},
   "source": [
    "### code1\n",
    "メモリが..."
   ]
  },
  {
   "cell_type": "code",
   "execution_count": 40,
   "metadata": {},
   "outputs": [
    {
     "name": "stdout",
     "output_type": "stream",
     "text": [
      "Overwriting src/q016.py\n"
     ]
    }
   ],
   "source": [
    "%%file src/q016.py\n",
    "import sys,itertools\n",
    "\n",
    "def filename(i): #ファイル命名\n",
    "    return 'work/x'+chr(97+i//26)+chr(97+i%26)\n",
    "\n",
    "def div_numlist(length,N): #何行ごとに区切るか\n",
    "    return [length//N+1 if i < length%N else length//N for i in range(N)] #パターン1\n",
    "\n",
    "args = sys.argv\n",
    "\n",
    "if len(args) != 2: #error1\n",
    "    print(\"usage : q016.py [number]\")\n",
    "elif not args[1].isdigit() or int(args[1]) <= 0: #error2\n",
    "    print(\"usage : number is natural number\")\n",
    "else:\n",
    "    with open(\"data/popular-names.txt\",\"r\") as text:\n",
    "        lines = text.readlines() #メモリの浪費\n",
    "        if(len(lines) < int(args[1])): #error3\n",
    "            print(\"Number is too big.\")\n",
    "        else:\n",
    "            ls = list(div_numlist(len(lines),int(args[1]))) #メモリの浪費2\n",
    "            m = 0\n",
    "            for i in range(int(args[1])):\n",
    "                newfile = open(filename(i),\"w\") \n",
    "                newfile.writelines(lines[m:m+ls[i]])\n",
    "                m += ls[i]\n",
    "                newfile.close()"
   ]
  },
  {
   "cell_type": "code",
   "execution_count": 41,
   "metadata": {},
   "outputs": [],
   "source": [
    "!python src/q016.py 3"
   ]
  },
  {
   "cell_type": "markdown",
   "metadata": {},
   "source": [
    "### code2\n",
    "今まで学んだものを使って"
   ]
  },
  {
   "cell_type": "code",
   "execution_count": 42,
   "metadata": {},
   "outputs": [
    {
     "name": "stdout",
     "output_type": "stream",
     "text": [
      "Overwriting src/q016_2.py\n"
     ]
    }
   ],
   "source": [
    "%%file src/q016_2.py\n",
    "\n",
    "import argparse,itertools\n",
    "\n",
    "def len_iterable(iterable): #iterableの長さを返す\n",
    "    return sum(1 for _ in iterable)\n",
    "\n",
    "def parts_len(length,pieces):#何行ごとに区切るか,generator関数\n",
    "    t = length//pieces\n",
    "    return (t+1 if length%pieces else t for i in range(pieces)) #パターン2\n",
    "\n",
    "def filename(i): #ファイル命名\n",
    "    return 'work/x'+chr(97+i//26)+chr(97+i%26)\n",
    "\n",
    "def main():\n",
    "    length = len_iterable(args.file)\n",
    "    args.file.seek(0)\n",
    "    for i,n in enumerate(parts_len(length,args.pieces)):\n",
    "        with open(filename(i),\"w\") as newfile:\n",
    "            for line in itertools.islice(args.file,n):\n",
    "                newfile.writelines(line)\n",
    "\n",
    "if __name__ == \"__main__\":\n",
    "    parser = argparse.ArgumentParser(description = 'Split a file into N pieces')\n",
    "    parser.add_argument(\"file\",\n",
    "                        type=argparse.FileType('r'),\n",
    "                        )\n",
    "    parser.add_argument(\"-n\",\"--pieces\",\n",
    "                        type=int,\n",
    "                        default=3,\n",
    "                       )\n",
    "    args = parser.parse_args()\n",
    "    \n",
    "    main()"
   ]
  },
  {
   "cell_type": "code",
   "execution_count": 43,
   "metadata": {
    "collapsed": true
   },
   "outputs": [],
   "source": [
    "!python3 src/q016_2.py -n 3 \"data/popular-names.txt\""
   ]
  },
  {
   "cell_type": "code",
   "execution_count": 44,
   "metadata": {},
   "outputs": [
    {
     "name": "stdout",
     "output_type": "stream",
     "text": [
      "914 work/xaa\n",
      "914 work/xab\n",
      "912 work/xac\n"
     ]
    }
   ],
   "source": [
    "!wc -l work/xaa\n",
    "!wc -l work/xab\n",
    "!wc -l work/xac"
   ]
  },
  {
   "cell_type": "markdown",
   "metadata": {},
   "source": [
    "## Shell"
   ]
  },
  {
   "cell_type": "code",
   "execution_count": 45,
   "metadata": {
    "scrolled": true
   },
   "outputs": [],
   "source": [
    "#!tldr split"
   ]
  },
  {
   "cell_type": "markdown",
   "metadata": {},
   "source": [
    "### Shell Only"
   ]
  },
  {
   "cell_type": "code",
   "execution_count": 46,
   "metadata": {
    "collapsed": true
   },
   "outputs": [],
   "source": [
    "%%bash\n",
    "div=3\n",
    "length=$(wc -l data/popular-names.txt | cut -d' ' -f1)\n",
    "if [ `expr $length % $div` -ne 0 ]\n",
    "then\n",
    "    arg=`expr $length / $div + 1`\n",
    "else\n",
    "    arg=`expr $length / $div`\n",
    "fi\n",
    "split -l $arg data/popular-names.txt"
   ]
  },
  {
   "cell_type": "markdown",
   "metadata": {},
   "source": [
    "### 混合ver"
   ]
  },
  {
   "cell_type": "code",
   "execution_count": 47,
   "metadata": {},
   "outputs": [
    {
     "name": "stdout",
     "output_type": "stream",
     "text": [
      "2740 data/popular-names.txt\n"
     ]
    }
   ],
   "source": [
    "!wc -l data/popular-names.txt"
   ]
  },
  {
   "cell_type": "code",
   "execution_count": 48,
   "metadata": {
    "collapsed": true
   },
   "outputs": [],
   "source": [
    "div = 3\n",
    "length = !(wc -l data/popular-names.txt|cut -d' ' -f1)\n",
    "length = int(length[0])\n",
    "arg = length//div if length%div is 0 else length//div+1\n",
    "!split -l $arg data/popular-names.txt"
   ]
  },
  {
   "cell_type": "code",
   "execution_count": 49,
   "metadata": {},
   "outputs": [
    {
     "name": "stdout",
     "output_type": "stream",
     "text": [
      "914 xaa\n",
      "914 xab\n",
      "912 xac\n"
     ]
    }
   ],
   "source": [
    "!wc -l xaa\n",
    "!wc -l xab\n",
    "!wc -l xac"
   ]
  },
  {
   "cell_type": "markdown",
   "metadata": {},
   "source": [
    "## 比較"
   ]
  },
  {
   "cell_type": "code",
   "execution_count": 50,
   "metadata": {
    "collapsed": true
   },
   "outputs": [],
   "source": [
    "!diff work/xaa xaa\n",
    "!diff work/xab xab\n",
    "!diff work/xac xac"
   ]
  },
  {
   "cell_type": "code",
   "execution_count": 51,
   "metadata": {},
   "outputs": [],
   "source": [
    "text1 = \"\"\"\n",
    "aaaa\n",
    "bbbb\n",
    "cccc\n",
    "\"\"\"\n",
    "\n",
    "text2 = \"\"\"\n",
    "aaaa\n",
    "dddd\n",
    "cccc\n",
    "\"\"\""
   ]
  },
  {
   "cell_type": "markdown",
   "metadata": {},
   "source": [
    "## memo"
   ]
  },
  {
   "cell_type": "code",
   "execution_count": 52,
   "metadata": {},
   "outputs": [
    {
     "name": "stdout",
     "output_type": "stream",
     "text": [
      "3 1\n",
      "Mary\tF\t7065\t1880\n",
      "\n",
      "Ethan\tM\t13758\t2016\n",
      "\n",
      "10 / 4\n",
      "2\n"
     ]
    }
   ],
   "source": [
    "from collections import deque\n",
    "#divmod\n",
    "a = 10\n",
    "b = 3\n",
    "p,q = divmod(a,b) #商と余りがとれる\n",
    "print(p,q)\n",
    "\n",
    "# deque　コンテナデータ構造\n",
    "with open(\"data/popular-names.txt\",\"r\") as f:\n",
    "    lines = deque(f)\n",
    "\n",
    "# popleft 左取り出せる\n",
    "print(lines.popleft())#左\n",
    "print(lines.pop())#右\n",
    "\n",
    "#shell\n",
    "!echo \"10 / 4\"\n",
    "!echo \"10 / 4\" | bc\n",
    "#bcは計算を処理するコマンド(exprもある)\n",
    "#ダブルクォートの中の式は展開される（シングルクォートはされない）\n",
    "\n",
    "#more_itertools by横井さん\n",
    "# with open('data/popular-names.txt', 'r') as f:\n",
    "#     iters = more_itertools.divide(N_Q16, f)\n",
    "#     for it in iters:\n",
    "#         print(len(tuple(it)))"
   ]
  },
  {
   "cell_type": "markdown",
   "metadata": {},
   "source": [
    "# 17. １列目の文字列の異なり\n",
    "1列目の文字列の種類（異なる文字列の集合）を求めよ．確認にはcut, sort, uniqコマンドを用いよ．"
   ]
  },
  {
   "cell_type": "code",
   "execution_count": 53,
   "metadata": {},
   "outputs": [
    {
     "name": "stdout",
     "output_type": "stream",
     "text": [
      "{'Emily', 'Crystal', 'Nicholas', 'Barbara', 'Marie', 'Tammy', 'Ethel', 'Kathleen', 'Kelly', 'Nicole', 'Liam', 'Amy', 'Joshua', 'Ethan', 'Alexander', 'Jayden', 'Elizabeth', 'Betty', 'Mark', 'Edward', 'Tracy', 'Clara', 'Jacob', 'Shirley', 'James', 'Taylor', 'Joseph', 'Emma', 'Ruth', 'Joan', 'Minnie', 'Julie', 'Laura', 'Elijah', 'John', 'George', 'Virginia', 'Matthew', 'Isabella', 'Charles', 'Jeffrey', 'Helen', 'Andrew', 'Donna', 'Mary', 'Jason', 'Sharon', 'Cynthia', 'Pamela', 'Brian', 'Olivia', 'Bessie', 'Walter', 'Brandon', 'Sarah', 'Carol', 'Aiden', 'Anthony', 'Heather', 'Frank', 'Austin', 'William', 'Lillian', 'Justin', 'Sandra', 'Doris', 'Dorothy', 'Daniel', 'Jennifer', 'Gary', 'Ronald', 'Madison', 'Lori', 'Anna', 'Hannah', 'Susan', 'Rebecca', 'Samantha', 'Larry', 'Richard', 'Melissa', 'Abigail', 'Margaret', 'Bertha', 'Tyler', 'Kimberly', 'Evelyn', 'Carolyn', 'Thomas', 'Steven', 'Donald', 'Harry', 'Ashley', 'Megan', 'Deborah', 'Florence', 'Debra', 'Alexis', 'Rachel', 'Nancy', 'Robert', 'Angela', 'Stephanie', 'Ida', 'Henry', 'Jessica', 'David', 'Mildred', 'Michelle', 'Benjamin', 'Mason', 'Chloe', 'Judith', 'Scott', 'Alice', 'Ava', 'Linda', 'Frances', 'Patricia', 'Sophia', 'Karen', 'Christopher', 'Harper', 'Noah', 'Lisa', 'Charlotte', 'Amanda', 'Lauren', 'Annie', 'Michael', 'Brittany', 'Mia'}\n"
     ]
    }
   ],
   "source": [
    "with open(\"data/popular-names.txt\",\"r\") as text:\n",
    "    col1_set = {line.split()[0] for line in text}\n",
    "    print(col1_set)"
   ]
  },
  {
   "cell_type": "markdown",
   "metadata": {},
   "source": [
    "### Shell"
   ]
  },
  {
   "cell_type": "code",
   "execution_count": 54,
   "metadata": {},
   "outputs": [
    {
     "name": "stdout",
     "output_type": "stream",
     "text": [
      "Abigail\n",
      "Aiden\n",
      "Alexander\n",
      "Alexis\n",
      "Alice\n",
      "Amanda\n",
      "Amy\n",
      "Andrew\n",
      "Angela\n",
      "Anna\n"
     ]
    }
   ],
   "source": [
    "!cut -f1 data/popular-names.txt | sort | uniq | head"
   ]
  },
  {
   "cell_type": "markdown",
   "metadata": {},
   "source": [
    "## memo"
   ]
  },
  {
   "cell_type": "code",
   "execution_count": 55,
   "metadata": {},
   "outputs": [
    {
     "name": "stdout",
     "output_type": "stream",
     "text": [
      "Abigail\n",
      "Aiden\n",
      "Alexander\n",
      "Alexis\n",
      "Alice\n",
      "Amanda\n",
      "Amy\n",
      "Andrew\n",
      "Angela\n",
      "Anna\n"
     ]
    }
   ],
   "source": [
    "#sort -u で　sortとuniqができる\n",
    "!cut -f1 data/popular-names.txt | sort -u | head"
   ]
  },
  {
   "cell_type": "markdown",
   "metadata": {},
   "source": [
    "# 18. 各行を3コラム目の数値の降順にソート\n",
    "各行を3コラム目の数値の逆順で整列せよ（注意: 各行の内容は変更せずに並び替えよ）．確認にはsortコマンドを用いよ（この問題はコマンドで実行した時の結果と合わなくてもよい）．"
   ]
  },
  {
   "cell_type": "code",
   "execution_count": 56,
   "metadata": {
    "collapsed": true
   },
   "outputs": [
    {
     "name": "stdout",
     "output_type": "stream",
     "text": [
      "Linda\tF\t99685\t1947\n",
      "Linda\tF\t96210\t1948\n",
      "James\tM\t94762\t1947\n",
      "Michael\tM\t92716\t1957\n",
      "Robert\tM\t91641\t1947\n",
      "Linda\tF\t91013\t1949\n",
      "Michael\tM\t90620\t1956\n",
      "Michael\tM\t90512\t1958\n",
      "James\tM\t88584\t1948\n",
      "Michael\tM\t88525\t1954\n"
     ]
    }
   ],
   "source": [
    "import itertools\n",
    "with open(\"data/popular-names.txt\",\"r\") as text:\n",
    "    dic = {int(line.split()[2]) : line for line in text}\n",
    "    for key in itertools.islice(sorted(dic,reverse=True),10):\n",
    "        print(dic[key],end='')"
   ]
  },
  {
   "cell_type": "markdown",
   "metadata": {},
   "source": [
    "## Shell"
   ]
  },
  {
   "cell_type": "code",
   "execution_count": 57,
   "metadata": {},
   "outputs": [],
   "source": [
    "#!man sort"
   ]
  },
  {
   "cell_type": "code",
   "execution_count": 58,
   "metadata": {
    "collapsed": true
   },
   "outputs": [
    {
     "name": "stdout",
     "output_type": "stream",
     "text": [
      "Linda\tF\t99685\t1947\n",
      "Linda\tF\t96210\t1948\n",
      "James\tM\t94762\t1947\n",
      "Michael\tM\t92716\t1957\n",
      "Robert\tM\t91641\t1947\n",
      "Linda\tF\t91013\t1949\n",
      "Michael\tM\t90620\t1956\n",
      "Michael\tM\t90512\t1958\n",
      "James\tM\t88584\t1948\n",
      "Michael\tM\t88525\t1954\n"
     ]
    }
   ],
   "source": [
    "!sort -k3 -r -n data/popular-names.txt | head"
   ]
  },
  {
   "cell_type": "markdown",
   "metadata": {},
   "source": [
    "## memo"
   ]
  },
  {
   "cell_type": "code",
   "execution_count": 59,
   "metadata": {},
   "outputs": [
    {
     "name": "stdout",
     "output_type": "stream",
     "text": [
      "Linda\tF\t99685\t1947\n",
      "Linda\tF\t96210\t1948\n",
      "James\tM\t94762\t1947\n",
      "Michael\tM\t92716\t1957\n",
      "Robert\tM\t91641\t1947\n",
      "Linda\tF\t91013\t1949\n",
      "Michael\tM\t90620\t1956\n",
      "Michael\tM\t90512\t1958\n",
      "James\tM\t88584\t1948\n",
      "Michael\tM\t88525\t1954\n"
     ]
    }
   ],
   "source": [
    "#!sortは-sで安定ソートになる(shell)\n",
    "\n",
    "import itertools\n",
    "with open(\"data/popular-names.txt\",\"r\") as text:\n",
    "    for line in itertools.islice(sorted((line for line in text),key=lambda line : int(line.split()[2]),reverse=True),10):\n",
    "        print(line,end='')"
   ]
  },
  {
   "cell_type": "markdown",
   "metadata": {},
   "source": [
    "# 19. 各行の1コラム目の文字列の出現頻度を求め，出現頻度の高い順に並べる\n",
    "各行の1列目の文字列の出現頻度を求め，その高い順に並べて表示せよ．確認にはcut, uniq, sortコマンドを用いよ．"
   ]
  },
  {
   "cell_type": "markdown",
   "metadata": {},
   "source": [
    "### パターン1\n",
    "ifで判断"
   ]
  },
  {
   "cell_type": "code",
   "execution_count": 60,
   "metadata": {},
   "outputs": [
    {
     "name": "stdout",
     "output_type": "stream",
     "text": [
      "116 James\n",
      "109 William\n",
      "108 John\n",
      "108 Robert\n",
      "92 Mary\n",
      "75 Charles\n",
      "74 Michael\n",
      "73 Elizabeth\n",
      "71 Joseph\n",
      "60 Margaret\n"
     ]
    }
   ],
   "source": [
    "import itertools\n",
    "\n",
    "dic = {}\n",
    "with open(\"data/popular-names.txt\",\"r\") as text:\n",
    "    for line in text:\n",
    "        key,*rest = line.split()\n",
    "        dic[key] = 1+dic[key] if key in dic else 1\n",
    "\n",
    "for key,v in itertools.islice(sorted(dic.items(),key=lambda x:-x[1]),10):\n",
    "    print(v,key)"
   ]
  },
  {
   "cell_type": "markdown",
   "metadata": {},
   "source": [
    "### パターン2\n",
    "ifしない"
   ]
  },
  {
   "cell_type": "code",
   "execution_count": 61,
   "metadata": {},
   "outputs": [
    {
     "name": "stdout",
     "output_type": "stream",
     "text": [
      "116 James\n",
      "109 William\n",
      "108 John\n",
      "108 Robert\n",
      "92 Mary\n",
      "75 Charles\n",
      "74 Michael\n",
      "73 Elizabeth\n",
      "71 Joseph\n",
      "60 Margaret\n"
     ]
    }
   ],
   "source": [
    "import itertools\n",
    "\n",
    "dic = {i : 0 for i in col1_set}\n",
    "with open(\"data/popular-names.txt\",\"r\") as text:\n",
    "    for line in text:\n",
    "        dic[line.split()[0]]+=1\n",
    "        \n",
    "for key,v in itertools.islice(sorted(dic.items(),key=lambda x:-x[1]),10):\n",
    "    print(v,key)"
   ]
  },
  {
   "cell_type": "markdown",
   "metadata": {},
   "source": [
    "### memo"
   ]
  },
  {
   "cell_type": "code",
   "execution_count": 62,
   "metadata": {},
   "outputs": [
    {
     "name": "stdout",
     "output_type": "stream",
     "text": [
      "[('James', 116),\n",
      " ('William', 109),\n",
      " ('John', 108),\n",
      " ('Robert', 108),\n",
      " ('Mary', 92),\n",
      " ('Charles', 75),\n",
      " ('Michael', 74),\n",
      " ('Elizabeth', 73),\n",
      " ('Joseph', 71),\n",
      " ('Margaret', 60)]\n"
     ]
    }
   ],
   "source": [
    "from collections import Counter\n",
    "from pprint import pprint\n",
    "with open(\"data/popular-names.txt\",\"r\") as f:\n",
    "    count = Counter(line.split()[0] for line in f)\n",
    "    pprint(count.most_common(10))"
   ]
  },
  {
   "cell_type": "markdown",
   "metadata": {},
   "source": [
    "## Shell"
   ]
  },
  {
   "cell_type": "code",
   "execution_count": 63,
   "metadata": {},
   "outputs": [
    {
     "name": "stdout",
     "output_type": "stream",
     "text": [
      "    116 James\n",
      "    109 William\n",
      "    108 Robert\n",
      "    108 John\n",
      "     92 Mary\n",
      "     75 Charles\n",
      "     74 Michael\n",
      "     73 Elizabeth\n",
      "     71 Joseph\n",
      "     60 Margaret\n"
     ]
    }
   ],
   "source": [
    "!cut -f1 data/popular-names.txt | sort | uniq -c | sort -nr | head"
   ]
  },
  {
   "cell_type": "code",
   "execution_count": 64,
   "metadata": {},
   "outputs": [],
   "source": [
    "#!tldr uniq"
   ]
  },
  {
   "cell_type": "code",
   "execution_count": null,
   "metadata": {},
   "outputs": [],
   "source": []
  }
 ],
 "metadata": {
  "kernelspec": {
   "display_name": "Python 3",
   "language": "python",
   "name": "python3"
  },
  "language_info": {
   "codemirror_mode": {
    "name": "ipython",
    "version": 3
   },
   "file_extension": ".py",
   "mimetype": "text/x-python",
   "name": "python",
   "nbconvert_exporter": "python",
   "pygments_lexer": "ipython3",
   "version": "3.6.5"
  }
 },
 "nbformat": 4,
 "nbformat_minor": 2
}
